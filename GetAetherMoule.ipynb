{
 "cells": [
  {
   "cell_type": "code",
   "execution_count": null,
   "metadata": {},
   "outputs": [],
   "source": [
    "!pip install --extra-index-url http://lsstce10:8067/ pyaether_full --trusted-host lsstce10"
   ]
  },
  {
   "cell_type": "code",
   "execution_count": null,
   "metadata": {},
   "outputs": [],
   "source": [
    "!pip install keyring artifacts-keyring"
   ]
  },
  {
   "cell_type": "code",
   "execution_count": null,
   "metadata": {
    "tags": [
     "outputPrepend"
    ]
   },
   "outputs": [],
   "source": [
    "!pip install azureml-designer-aether-migration --extra-index-url=https://msdata.pkgs.visualstudio.com/AzureML/_packaging/weda-test-feed/pypi/simple/ --upgrade"
   ]
  },
  {
   "cell_type": "code",
   "execution_count": null,
   "metadata": {},
   "outputs": [],
   "source": [
    "from azureml.designer.aether.migration import MigrationTool"
   ]
  }
 ],
 "metadata": {
  "language_info": {
   "codemirror_mode": {
    "name": "ipython",
    "version": 3
   },
   "file_extension": ".py",
   "mimetype": "text/x-python",
   "name": "python",
   "nbconvert_exporter": "python",
   "pygments_lexer": "ipython3",
   "version": "3.6.10-final"
  },
  "orig_nbformat": 2,
  "kernelspec": {
   "name": "python361064bitamlmoduleconda94216afc072640efa4ed7a053209d802",
   "display_name": "Python 3.6.10 64-bit ('amlmodule': conda)"
  }
 },
 "nbformat": 4,
 "nbformat_minor": 2
}