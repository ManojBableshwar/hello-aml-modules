{
 "cells": [
  {
   "cell_type": "markdown",
   "metadata": {},
   "source": [
    "## A simple test on parallel run module\n",
    "This nobebook sample require you have complete the \"Setup environment\" part in [azureml-module-get-started.ipynb](https://github.com/lisagreenview/hello-aml-modules/blob/master/azureml-module-get-started.ipynb) From this example, you will know:\n",
    "\n",
    "1. How to prepare a parallel run module\n",
    "2. How to use additional include feature\n",
    "3. How to use .amlignore when register module\n",
    "4. How to set run setting for parallel run module in pipeline run"
   ]
  },
  {
   "cell_type": "code",
   "execution_count": null,
   "metadata": {},
   "outputs": [],
   "source": [
    "# you need to configure your ws information here\n",
    "\n",
    "subscription_id = '74eccef0-4b8d-4f83-b5f9-fa100d155b22'\n",
    "workspace_name = 'lisal-amlservice'\n",
    "resource_group = 'lisal-dev'\n",
    "\n",
    "# Specify available aml compute in workspace\n",
    "pipeline_compute = \"always-on-ds2v2\""
   ]
  },
  {
   "cell_type": "code",
   "execution_count": null,
   "metadata": {},
   "outputs": [],
   "source": [
    "# Register module from github\n",
    "!az ml module register --spec-file=https://github.com/lisagreenview/hello-aml-modules/blob/master/sc_tokenizer/module_spec.yaml\n",
    "\n",
    "# Or register module from local\n",
    "# set defaule amlignore\n",
    "# !az configure --defaults module_amlignore_file=./.amlignore\n",
    "# !az ml module register --spec-file=./sc_tokenizer/module_spec.yaml"
   ]
  },
  {
   "cell_type": "code",
   "execution_count": null,
   "metadata": {},
   "outputs": [],
   "source": [
    "from azureml.core import Workspace, Run, Dataset\n",
    "from azureml.pipeline.wrapper import Pipeline, Module, dsl\n",
    "\n",
    "ws = Workspace.get(name=workspace_name, subscription_id=subscription_id, resource_group=resource_group)"
   ]
  },
  {
   "cell_type": "code",
   "execution_count": null,
   "metadata": {},
   "outputs": [],
   "source": [
    "# get module func from registered module\n",
    "tokenize_func = Module.load(ws, namespace='microsoft.com/aml/sc', name='Tokenizer')\n",
    "\n",
    "# or get module func from anonymous module\n",
    "# tokenize_func = Module.load_from_yaml(ws, yaml_file='./sc_tokenizer/module_spec.yaml')"
   ]
  },
  {
   "cell_type": "code",
   "execution_count": null,
   "metadata": {},
   "outputs": [],
   "source": [
    "data_name = 'Company'\n",
    "input_data = ws.datasets[data_name]"
   ]
  },
  {
   "cell_type": "code",
   "execution_count": null,
   "metadata": {},
   "outputs": [],
   "source": [
    "@dsl.pipeline(name = 'Tokenizer - parallel run', \n",
    "              description = 'a pipeline to test parallel run',\n",
    "              default_compute_target = pipeline_compute)\n",
    "def tokenize_pipeline():\n",
    "    tokenizer = tokenize_func(input_file_path = input_data)\n",
    "    tokenizer.runsettings.configure(node_count=2,process_count_per_node=1)\n",
    "\n",
    "    return {**tokenizer.outputs}\n",
    "\n",
    "# create a pipeline\n",
    "pipeline = tokenize_pipeline()"
   ]
  },
  {
   "cell_type": "code",
   "execution_count": null,
   "metadata": {},
   "outputs": [],
   "source": [
    "# validate pipeline and visualize the graph\n",
    "pipeline.validate()"
   ]
  },
  {
   "cell_type": "code",
   "execution_count": null,
   "metadata": {},
   "outputs": [],
   "source": [
    "pipeline.save(experiment_name = 'Tokenizer-sdk')"
   ]
  },
  {
   "cell_type": "code",
   "execution_count": null,
   "metadata": {},
   "outputs": [],
   "source": [
    "run = pipeline.submit(experiment_name = 'Tokenizer-sdk')\n",
    "run.wait_for_completion()"
   ]
  }
 ],
 "metadata": {
  "language_info": {
   "codemirror_mode": {
    "name": "ipython",
    "version": 3
   },
   "file_extension": ".py",
   "mimetype": "text/x-python",
   "name": "python",
   "nbconvert_exporter": "python",
   "pygments_lexer": "ipython3",
   "version": 3
  },
  "orig_nbformat": 2
 },
 "nbformat": 4,
 "nbformat_minor": 2
}