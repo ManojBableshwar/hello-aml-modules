{
  "metadata": {
    "kernelspec": {
      "name": "python3",
      "display_name": "Python 3.6.10 64-bit ('amlmodule': conda)",
      "metadata": {
        "interpreter": {
          "hash": "9b7a068d2cb31a04d194c84d170620125341fe8923e668326c67b9b518006ef8"
        }
      }
    }
  },
  "nbformat": 4,
  "nbformat_minor": 2,
  "cells": [
    {
      "cell_type": "code",
      "execution_count": null,
      "metadata": {},
      "outputs": [],
      "source": [
        "# ------------------------------------------------------------------------------\n",
        "# This is generated from https://ml.azure.com/pipelineruns/id/9f77d021-13d4-4398-b3b4-a0240a22c32f/0720b2c0-6961-4359-80a9-7a5e76f97f5f?wsid=/subscriptions/f92fab0a-38b9-44ed-b800-2ed55fa1b9d9/resourcegroups/Groot-Shared/workspaces/gjd-test&tid=72f988bf-86f1-41af-91ab-2d7cd011db47\n",
        "# To run this code, please install SDK by this command:\n",
        "# !pip install azure-ml-component[notebooks] --extra-index-url https://azuremlsdktestpypi.azureedge.net/modulesdkpreview  --user --upgrade\n",
        "# More detailed guide to set up your environment: https://github.com/Azure/DesignerPrivatePreviewFeatures/blob/master/azure-ml-components/samples/setup-environment.ipynb\n",
        "# ------------------------------------------------------------------------------"
      ]
    },
    {
      "cell_type": "code",
      "execution_count": 56,
      "metadata": {},
      "outputs": [],
      "source": [
        "from azureml.core import Workspace\n",
        "from azure.ml.component import Pipeline, Component, dsl"
      ]
    },
    {
      "cell_type": "code",
      "execution_count": 57,
      "metadata": {},
      "outputs": [],
      "source": [
        "# configure aml workspace\n",
        "\n",
        "subscription_id = 'f92fab0a-38b9-44ed-b800-2ed55fa1b9d9' \n",
        "workspace_name = 'gjd-test' \n",
        "resource_group = 'Groot-Shared'\n",
        "\n",
        "\n",
        "ws = Workspace.get(name=workspace_name, subscription_id=subscription_id, resource_group=resource_group)"
      ]
    },
    {
      "cell_type": "code",
      "execution_count": 58,
      "metadata": {},
      "outputs": [],
      "source": [
        "# get dataset\n",
        "from azureml.core import Dataset\n",
        "imagenet_train_dataset = Dataset.get_by_name(ws, name='ImageNet_Train', version=1)\n",
        "imagenet_valid_dataset = Dataset.get_by_name(ws, name='ImageNet_Val', version=1)"
      ]
    },
    {
      "cell_type": "code",
      "execution_count": 59,
      "metadata": {},
      "outputs": [],
      "source": [
        "# get components\n",
        "convert_to_image_directory_func = Component.load(ws, name='azureml://Convert to Image Directory')\n",
        "apply_image_transformation_func = Component.load(ws, name='azureml://Apply Image Transformation')\n",
        "init_image_transformation_func = Component.load(ws, name='azureml://Init Image Transformation')"
      ]
    },
    {
      "cell_type": "code",
      "execution_count": 60,
      "metadata": {},
      "outputs": [],
      "source": [
        "init_image_transformation_func = Component.load(ws, name='microsoft.sample.init-image-transformation')\n",
        "module = init_image_transformation_func()\n",
        "module.outputs.output_image_transformation.configure(datastore='datastore_name')"
      ]
    },
    {
      "cell_type": "code",
      "execution_count": 52,
      "metadata": {},
      "outputs": [],
      "source": [
        "# define pipeline\n",
        "@dsl.pipeline(name='test-cosmos-itp-image-classification', description='itp-cosmos-imageclassification', default_compute_target='eus-p40-5-gjd', default_datastore='searchdmparner')\n",
        "def generated_pipeline():\n",
        "    convert_to_image_directory_0 = convert_to_image_directory_func(\n",
        "        input_dataset=imagenet_train_dataset)\n",
        "    \n",
        "    convert_to_image_directory_1 = convert_to_image_directory_func(\n",
        "        input_dataset=imagenet_valid_dataset)\n",
        " \n",
        "    init_image_transformation_0 = init_image_transformation_func(\n",
        "        resize='False',\n",
        "        size=256,\n",
        "        center_crop='False',\n",
        "        crop_size=224,\n",
        "        pad='False',\n",
        "        padding=0,\n",
        "        color_jitter=False,\n",
        "        grayscale=False,\n",
        "        random_resized_crop='False',\n",
        "        random_resized_crop_size=256,\n",
        "        random_crop='False',\n",
        "        random_crop_size=224,\n",
        "        random_horizontal_flip=True,\n",
        "        random_vertical_flip=False,\n",
        "        random_rotation='False',\n",
        "        random_rotation_degrees=0,\n",
        "        random_affine='False',\n",
        "        random_affine_degrees=0,\n",
        "        random_grayscale=False,\n",
        "        random_perspective=False)\n",
        "    \n",
        "    apply_image_transformation_0 = apply_image_transformation_func(\n",
        "        input_image_transformation=init_image_transformation_0.outputs.output_image_transformation,\n",
        "        input_image_directory=convert_to_image_directory_0.outputs.output_image_directory,\n",
        "        mode='For training')\n",
        "\n",
        "    apply_image_transformation_1 = apply_image_transformation_func(\n",
        "        input_image_transformation=init_image_transformation_0.outputs.output_image_transformation,\n",
        "        input_image_directory=convert_to_image_directory_1.outputs.output_image_directory,\n",
        "        mode='For inference')"
      ]
    },
    {
      "cell_type": "code",
      "execution_count": 53,
      "metadata": {},
      "outputs": [],
      "source": [
        "# create a pipeline\n",
        "pipeline = generated_pipeline()"
      ]
    },
    {
      "cell_type": "code",
      "execution_count": 54,
      "metadata": {},
      "outputs": [
        {
          "output_type": "display_data",
          "data": {
            "text/plain": "<IPython.core.display.Javascript object>",
            "application/javascript": "try {\n    require.undef(\"validate_widget\")\n\n    define('validate_widget', [\"@jupyter-widgets/base\"], function(widgets) {\n        var ValidateView = widgets.DOMWidgetView.extend({\n            render () {\n                var self = window.widget_self = this\n                var visualize_id = this.model.get('visualize_id')\n\n                if (!window._renderLock) {\n                    window._renderLock = {}\n                }\n                if (window._renderLock[visualize_id]) {\n                    if (window._renderLock[visualize_id] === 'widget') {\n                        return\n                    }\n                    else {\n                        var loadedScript = document.getElementById(`container_id_${visualize_id}_script`)\n                        if (loadedScript) {\n                            console.log('reload as widget')\n                            loadedScript.parentElement.removeChild(loadedScript)\n                        }\n                    }\n                }\n                window._renderLock[visualize_id] = \"widget\"\n                console.log(\"load as widget\", Date.now())\n\n                var lib_url = this.model.get('lib_url')\n                var graph_json = JSON.parse(this.model.get('graph_json'))\n                var env_json = JSON.parse(this.model.get('env_json'))\n                var container_id = this.model.get('container_id')\n                var is_prod = this.model.get('is_prod')\n\n                window.render_container_id = container_id\n                window.graph_json = graph_json\n                window.is_prod = is_prod\n                window.is_fallback = 0;\n                window.profiling_json = undefined\n                window.graph_json_to_compare = undefined\n                window.env_json = env_json\n                window.before_script = performance.now()\n\n                var container = document.createElement('div')\n                container.id = container_id\n                this.el.appendChild(container)\n\n                var style = document.createElement('style')\n                style.innerHTML = [\n                    \"#\", container_id, \" svg.react-dag-editor-svg-container { height: 800px; }\",\n                    \".cell-output-ipywidget-background { background: transparent !important }\"\n                ].join('')\n                this.el.appendChild(style)\n\n                this.model.on('msg:custom', dispatchMessage, this);\n\n                if (!window.__event_hub) {\n                    window.__event_hub = {}\n                }\n                if (!window.__event_hub[container_id]) {\n                    window.__event_hub[container_id] = {}\n                }\n                if (!window.__event_hub[container_id].__history) {\n                    window.__event_hub[container_id].__history = []\n                }\n\n                if (!window.__send_event) {\n                    window.__send_event = {}\n                }\n                window.__send_event[container_id] = sendMessage.bind(this)\n\n                function sendMessage(message, uid, content) {\n                    return new Promise(function (resolve) {\n                        self.model.send({\n                            message: `${message}:request`,\n                            body: {\n                                uid,\n                                content\n                            }\n                        })\n    \n                        var respMessageKey = `${message}:response`\n                        if (!window.__event_hub[container_id][respMessageKey]) {\n                            window.__event_hub[container_id][respMessageKey] = []\n                        }\n                        window.__event_hub[container_id][respMessageKey].push(callback)\n    \n                        function callback (response) {\n                            if (response.uid !== uid) {\n                                return\n                            }\n\n                            var idx = window.__event_hub[container_id][respMessageKey].indexOf(callback) \n                            window.__event_hub[container_id][respMessageKey].splice(idx, 1)\n                            \n                            resolve(response)\n                        }\n                    })\n                }\n\n                function dispatchMessage (rawMessage) {\n                    var message = rawMessage.message\n                    var body = rawMessage.body\n\n                    if (!window.__event_hub[container_id][message]) {\n                        window.__event_hub[container_id][message] = []\n                    }\n                    var listeners = window.__event_hub[container_id][message]\n                    var history = window.__event_hub[container_id].__history\n\n                    if (listeners && listeners.length) {\n                        listeners.forEach(function (cb) {\n                            try {\n                                cb(body)\n                            } catch (e) {\n                                console.error(\"Unexpected error in listener\", e)\n                            }\n                        })\n                    } else {\n                        history.push([message, body])\n                    }\n                    console.log(body)\n                }\n\n                function hideLoading () {\n                    var style = document.createElement('style')\n                    style.innerHTML = `#loading-${visualize_id} .ms-Spinner-root { display: none !important }`\n                    self.el.appendChild(style)\n                }\n\n                var script = document.createElement('script')\n                script.onload = hideLoading\n                script.async = true\n                script.src = lib_url\n                this.el.appendChild(script)\n            }\n        });\n\n        return {\n            ValidateView\n        }\n    })\n} catch (e) {\n    console.log(\"create validation widget failed\", e)\n}"
          },
          "metadata": {}
        },
        {
          "output_type": "display_data",
          "data": {
            "text/plain": "<IPython.core.display.HTML object>",
            "text/html": "\n    <div id=\"loading-decb71ae-33b4-4c7c-b449-5c32e1b21db9\">\n        <style>\n    @keyframes css-269 {\n        0% {\n            transform: rotate(0deg);\n        }\n\n        100% {\n            transform: rotate(360deg);\n        }\n    }\n    .ms-Spinner-root {\n        display: flex;\n        flex-direction: row;\n        align-items: center;\n        justify-content: center;\n    }\n\n    .ms-Spinner-circle {\n        box-sizing: border-box;\n        animation-name: css-269;\n        animation-duration: 1.3s;\n        animation-iteration-count: infinite;\n        animation-timing-function: cubic-bezier(0.53, 0.21, 0.29, 0.67);\n        width: 28px;\n        height: 28px;\n        border-radius: 50%;\n        border-width: 1.5px;\n        border-style: solid;\n        border-color: rgb(0, 120, 212) rgb(199, 224, 244) rgb(199, 224, 244);\n        border-image: initial;\n    }\n\n    .ms-Spinner-label {\n        font-family: \"Segoe UI\", \"Segoe UI Web (West European)\", \"Segoe UI\", -apple-system, BlinkMacSystemFont, Roboto, \"Helvetica Neue\", sans-serif;\n        -webkit-font-smoothing: antialiased;\n        font-size: 12px;\n        font-weight: 400;\n        color: rgb(0, 120, 212);\n        margin-top: 0px;\n        margin-right: 0px;\n        margin-bottom: 0px;\n        margin-left: 8px;\n        text-align: center;\n    }\n</style>\n<div class=\"ms-Spinner-root\">\n    <div class=\"ms-Spinner-circle\"></div>\n    <div class=\"ms-Spinner-label\">Loading...</div>\n</div>\n    </div>\n    "
          },
          "metadata": {}
        },
        {
          "output_type": "display_data",
          "data": {
            "text/plain": "ValidateView(container_id='container_id_decb71ae-33b4-4c7c-b449-5c32e1b21db9_widget', env_json='{\"subscription…",
            "application/vnd.jupyter.widget-view+json": {
              "version_major": 2,
              "version_minor": 0,
              "model_id": "4b671c7265ad46e693092d3a8e7d4bba"
            }
          },
          "metadata": {}
        },
        {
          "output_type": "display_data",
          "data": {
            "text/plain": "<IPython.core.display.HTML object>",
            "text/html": "\n        <style>\n        #container_id_decb71ae-33b4-4c7c-b449-5c32e1b21db9_script svg.react-dag-editor-svg-container {\n            height: 800px;\n        }\n        </style>\n        <div id=\"container_id_decb71ae-33b4-4c7c-b449-5c32e1b21db9_script\"></div>\n        <script>\n            (function () {\n                if (!window._renderLock) {\n                    window._renderLock = {}\n                }\n                if (window._renderLock[\"decb71ae-33b4-4c7c-b449-5c32e1b21db9\"]) {\n                    return\n                }\n                window._renderLock[\"decb71ae-33b4-4c7c-b449-5c32e1b21db9\"] = \"script\"\n                console.log(\"load as script\", Date.now())\n                window.render_container_id=\"container_id_decb71ae-33b4-4c7c-b449-5c32e1b21db9_script\";\n                window.graph_json={\"pipeline\": {\"name\": \"test-cosmos-itp-image-classification\", \"data_references\": {\"cd5a6fd7-a4be-346b-b5d1-66825ca32df5\": {\"name\": \"ImageNet_Train\", \"dataset_id\": \"01889a8a-7303-4a0e-a223-eb6256a1ee16\", \"saved_id\": \"a211659f-46f7-4006-bc2d-f72cd1e29332\"}, \"a668a6c8-6160-3a1d-b150-4aec814c7253\": {\"name\": \"ImageNet_Val\", \"dataset_id\": \"efb97ce9-79bb-4c1d-bddb-eff4809841ce\", \"saved_id\": \"d2fbc93b-26ab-4516-ab0a-0f77f9e8eb56\"}}, \"steps\": {\"790a9530\": {\"inputs\": {\"Input_dataset\": {\"source\": \"cd5a6fd7-a4be-346b-b5d1-66825ca32df5\"}}, \"outputs\": {\"Output_image_directory\": {\"destination\": \"790a9530_Output_image_directory\"}}, \"module\": {\"id\": \"a3688de1-07ce-592c-8688-7b83d548b1ed\", \"version\": \"0.0.24\"}, \"parameters\": {}, \"validate\": {\"error\": [], \"module_id\": \"a3688de1-07ce-592c-8688-7b83d548b1ed\", \"module_name\": \"azureml://Convert to Image Directory\", \"module_display_name\": \"Convert to Image Directory\", \"module_version\": \"0.0.24\"}}, \"04989aa7\": {\"inputs\": {\"Input_dataset\": {\"source\": \"a668a6c8-6160-3a1d-b150-4aec814c7253\"}}, \"outputs\": {\"Output_image_directory\": {\"destination\": \"04989aa7_Output_image_directory\"}}, \"module\": {\"id\": \"a3688de1-07ce-592c-8688-7b83d548b1ed\", \"version\": \"0.0.24\"}, \"parameters\": {}, \"validate\": {\"error\": [], \"module_id\": \"a3688de1-07ce-592c-8688-7b83d548b1ed\", \"module_name\": \"azureml://Convert to Image Directory\", \"module_display_name\": \"Convert to Image Directory\", \"module_version\": \"0.0.24\"}}, \"748f80ba\": {\"inputs\": {}, \"outputs\": {\"Output_image_transformation\": {\"destination\": \"748f80ba_Output_image_transformation\"}}, \"module\": {\"id\": \"146e6608-5655-5bd0-86fd-b162109119c6\", \"version\": \"0.0.24\"}, \"parameters\": {\"Resize\": \"False\", \"Size\": 256, \"Center crop\": \"False\", \"Crop size\": 224, \"Pad\": \"False\", \"Padding\": 0, \"Color jitter\": false, \"Grayscale\": false, \"Random resized crop\": \"False\", \"Random resized crop size\": 256, \"Random crop\": \"False\", \"Random crop size\": 224, \"Random horizontal flip\": true, \"Random vertical flip\": false, \"Random rotation\": \"False\", \"Random rotation degrees\": 0, \"Random affine\": \"False\", \"Random affine degrees\": 0, \"Random grayscale\": false, \"Random perspective\": false}, \"validate\": {\"error\": [], \"module_id\": \"146e6608-5655-5bd0-86fd-b162109119c6\", \"module_name\": \"azureml://Init Image Transformation\", \"module_display_name\": \"Init Image Transformation\", \"module_version\": \"0.0.24\"}}, \"e37778de\": {\"inputs\": {\"Input_image_transformation\": {\"source\": \"748f80ba_Output_image_transformation\"}, \"Input_image_directory\": {\"source\": \"790a9530_Output_image_directory\"}}, \"outputs\": {}, \"module\": {\"id\": \"93bdb253-cb48-5c03-8256-728729b69787\", \"version\": \"0.0.24\"}, \"parameters\": {\"Mode\": \"For training\"}, \"validate\": {\"error\": [], \"module_id\": \"93bdb253-cb48-5c03-8256-728729b69787\", \"module_name\": \"azureml://Apply Image Transformation\", \"module_display_name\": \"Apply Image Transformation\", \"module_version\": \"0.0.24\"}}, \"6e1ddf2b\": {\"inputs\": {\"Input_image_transformation\": {\"source\": \"748f80ba_Output_image_transformation\"}, \"Input_image_directory\": {\"source\": \"04989aa7_Output_image_directory\"}}, \"outputs\": {}, \"module\": {\"id\": \"93bdb253-cb48-5c03-8256-728729b69787\", \"version\": \"0.0.24\"}, \"parameters\": {\"Mode\": \"For inference\"}, \"validate\": {\"error\": [], \"module_id\": \"93bdb253-cb48-5c03-8256-728729b69787\", \"module_name\": \"azureml://Apply Image Transformation\", \"module_display_name\": \"Apply Image Transformation\", \"module_version\": \"0.0.24\"}}}}, \"modules\": [{\"name\": \"azureml://Convert to Image Directory\", \"display_name\": \"Convert to Image Directory\", \"module_id\": \"a3688de1-07ce-592c-8688-7b83d548b1ed\", \"version\": \"0.0.24\", \"structured_interface\": {\"inputs\": [{\"name\": \"Input_dataset\", \"label\": \"Input_dataset\", \"data_type_ids_list\": [[\"AnyDirectory\", \"ZipFile\"]]}], \"outputs\": [{\"name\": \"Output_image_directory\", \"label\": \"Output_image_directory\", \"data_type_id\": \"ImageDirectory\"}]}}, {\"name\": \"azureml://Init Image Transformation\", \"display_name\": \"Init Image Transformation\", \"module_id\": \"146e6608-5655-5bd0-86fd-b162109119c6\", \"version\": \"0.0.24\", \"structured_interface\": {\"inputs\": [], \"outputs\": [{\"name\": \"Output_image_transformation\", \"label\": \"Output_image_transformation\", \"data_type_id\": \"TransformationDirectory\"}]}}, {\"name\": \"azureml://Apply Image Transformation\", \"display_name\": \"Apply Image Transformation\", \"module_id\": \"93bdb253-cb48-5c03-8256-728729b69787\", \"version\": \"0.0.24\", \"structured_interface\": {\"inputs\": [{\"name\": \"Input_image_transformation\", \"label\": \"Input_image_transformation\", \"data_type_ids_list\": [\"TransformationDirectory\"]}, {\"name\": \"Input_image_directory\", \"label\": \"Input_image_directory\", \"data_type_ids_list\": [\"ImageDirectory\"]}], \"outputs\": [{\"name\": \"Output_image_directory\", \"label\": \"Output_image_directory\", \"data_type_id\": \"ImageDirectory\"}]}}], \"datasources\": [{\"name\": \"ImageNet_Train\", \"registered_id\": \"01889a8a-7303-4a0e-a223-eb6256a1ee16\", \"saved_id\": \"a211659f-46f7-4006-bc2d-f72cd1e29332\", \"nodeId\": \"cd5a6fd7-a4be-346b-b5d1-66825ca32df5\"}, {\"name\": \"ImageNet_Val\", \"registered_id\": \"efb97ce9-79bb-4c1d-bddb-eff4809841ce\", \"saved_id\": \"d2fbc93b-26ab-4516-ab0a-0f77f9e8eb56\", \"nodeId\": \"a668a6c8-6160-3a1d-b150-4aec814c7253\"}], \"subGraphInfo\": [{\"name\": \"test-cosmos-itp-image-classification\", \"id\": \"0c687607-cc8b-49db-9e30-107e2c942b78\", \"parent_graph_id\": null, \"inputs\": [], \"outputs\": []}], \"nodeIdToSubGraphIdMapping\": {\"790a9530\": \"0c687607-cc8b-49db-9e30-107e2c942b78\", \"04989aa7\": \"0c687607-cc8b-49db-9e30-107e2c942b78\", \"748f80ba\": \"0c687607-cc8b-49db-9e30-107e2c942b78\", \"e37778de\": \"0c687607-cc8b-49db-9e30-107e2c942b78\", \"6e1ddf2b\": \"0c687607-cc8b-49db-9e30-107e2c942b78\"}};\n                window.graph_json_to_compare=null;\n                window.profiling_json=null;\n                window.env_json={\"subscription_id\": \"f92fab0a-38b9-44ed-b800-2ed55fa1b9d9\", \"sdk_version\": \"0.1.0.26893176\", \"forward_server_url\": \"http://127.0.0.1:56575/forward\"};\n                window.is_prod=1;\n                window.is_fallback=0;\n                window.before_script=performance.now();\n                var script=document.createElement('script')\n                script.onload=hideLoading\n                script.src=\"https://yucongj.azureedge.net/libs/prod/0.1.6/index.js\"\n                document.getElementById(\"container_id_decb71ae-33b4-4c7c-b449-5c32e1b21db9_script\").appendChild(script)\n\n                function hideLoading () {\n                    var style = document.createElement('style')\n                    style.innerHTML = \"#loading-decb71ae-33b4-4c7c-b449-5c32e1b21db9 .ms-Spinner-root { display: none !important }\"\n                    document.getElementById(\"container_id_decb71ae-33b4-4c7c-b449-5c32e1b21db9_script\").appendChild(style)\n                }\n            })()\n        </script>\n        \n        "
          },
          "metadata": {}
        },
        {
          "output_type": "execute_result",
          "data": {
            "text/plain": [
              "{'result': 'validation passed', 'errors': []}"
            ]
          },
          "metadata": {},
          "execution_count": 54
        }
      ],
      "source": [
        "# validate pipeline and visualize the graph\n",
        "pipeline.validate()"
      ]
    },
    {
      "cell_type": "code",
      "execution_count": 55,
      "metadata": {},
      "outputs": [
        {
          "output_type": "stream",
          "name": "stdout",
          "text": [
            "Submitted PipelineRun c2bd399e-a713-4d4b-8f3a-4a35c738f2c0\n",
            "Link to Azure Machine Learning Portal: https://ml.azure.com/experiments/cosmos-datastore-test-image-classification/runs/c2bd399e-a713-4d4b-8f3a-4a35c738f2c0?wsid=/subscriptions/f92fab0a-38b9-44ed-b800-2ed55fa1b9d9/resourcegroups/Groot-Shared/workspaces/gjd-test\n"
          ]
        },
        {
          "output_type": "execute_result",
          "data": {
            "text/plain": [
              "PipelineRun(Experiment: cosmos-datastore-test-image-classification,\n",
              "Id: c2bd399e-a713-4d4b-8f3a-4a35c738f2c0,\n",
              "Type: azureml.PipelineRun,\n",
              "Status: NotStarted)"
            ],
            "text/html": "<table style=\"width:100%\"><tr><th>Experiment</th><th>Id</th><th>Type</th><th>Status</th><th>Details Page</th><th>Docs Page</th></tr><tr><td>cosmos-datastore-test-image-classification</td><td>c2bd399e-a713-4d4b-8f3a-4a35c738f2c0</td><td>azureml.PipelineRun</td><td>NotStarted</td><td><a href=\"https://ml.azure.com/experiments/cosmos-datastore-test-image-classification/runs/c2bd399e-a713-4d4b-8f3a-4a35c738f2c0?wsid=/subscriptions/f92fab0a-38b9-44ed-b800-2ed55fa1b9d9/resourcegroups/Groot-Shared/workspaces/gjd-test\" target=\"_blank\" rel=\"noopener\">Link to Azure Machine Learning studio</a></td><td><a href=\"https://docs.microsoft.com/en-us/python/api/azureml-core/azureml.core.run.Run?view=azure-ml-py\" target=\"_blank\" rel=\"noopener\">Link to Documentation</a></td></tr></table>"
          },
          "metadata": {},
          "execution_count": 55
        }
      ],
      "source": [
        "# submit a pipeline run\n",
        "from azure.ml.component.dsl._version import VERSION\n",
        "\n",
        "pipeline.submit(experiment_name='cosmos-datastore-test-image-classification', tags={'mode':'SDK/dsl','SDK-version':f'{VERSION}'})\n",
        "#.wait_for_completion()"
      ]
    },
    {
      "cell_type": "code",
      "execution_count": null,
      "metadata": {},
      "outputs": [],
      "source": []
    }
  ]
}