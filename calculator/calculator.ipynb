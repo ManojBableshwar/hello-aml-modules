{
 "metadata": {
  "language_info": {
   "codemirror_mode": {
    "name": "ipython",
    "version": 3
   },
   "file_extension": ".py",
   "mimetype": "text/x-python",
   "name": "python",
   "nbconvert_exporter": "python",
   "pygments_lexer": "ipython3",
   "version": "3.6.10-final"
  },
  "orig_nbformat": 2,
  "kernelspec": {
   "name": "python_defaultSpec_1600656267434",
   "display_name": "Python 3.6.10 64-bit"
  }
 },
 "nbformat": 4,
 "nbformat_minor": 2,
 "cells": [
  {
   "cell_type": "code",
   "execution_count": 37,
   "metadata": {
    "tags": []
   },
   "outputs": [],
   "source": [
    "from azureml.pipeline.wrapper import Pipeline, Module, dsl\n",
    "from azureml.core import Workspace, Run, Dataset\n",
    "ws = Workspace.get(name='lisal-amlservice', subscription_id='74eccef0-4b8d-4f83-b5f9-fa100d155b22', resource_group='lisal-dev')\n",
    "#ws = Workspace.get(subscription_id='4aaa645c-5ae2-4ae9-a17a-84b9023bc56a', name='itp-pilot', resource_group='itp-pilot-ResGrp')"
   ]
  },
  {
   "cell_type": "code",
   "execution_count": 38,
   "metadata": {},
   "outputs": [],
   "source": [
    "from add import add\n",
    "from enter_num_manually import enter_num_manually\n",
    "from multiply import multiply"
   ]
  },
  {
   "cell_type": "code",
   "execution_count": 39,
   "metadata": {},
   "outputs": [],
   "source": [
    "enter_num = Module.from_func(ws, enter_num_manually)\n",
    "#add_two_num = Module.from_func(ws, add)\n",
    "add_two_num = Module.from_yaml(ws, 'add.spec.yaml')\n",
    "multiply_two_num = Module.from_yaml(ws, 'multiply.spec.yaml')"
   ]
  },
  {
   "cell_type": "code",
   "execution_count": 35,
   "metadata": {
    "tags": []
   },
   "outputs": [],
   "source": [
    "#@dsl.pipeline(name='Calculator', description='Calculator - an illustrative sample pipeline', default_compute_target='itp-eastus-p40-2', default_datastore='workspace_default_nfs_store')\n",
    "@dsl.pipeline(name='Calculator', description='Calculator - an illustrative sample pipeline', default_compute_target='always-on-ds2v2', default_datastore='workspaceblobstore')\n",
    "def calc():\n",
    "    l = enter_num(num='2.0')\n",
    "    r = enter_num(num='3.0')\n",
    "\n",
    "    sum = add_two_num(left=l.outputs.output, right=r.outputs.output)\n",
    "\n",
    "    rr = enter_num(num='2.5')\n",
    "\n",
    "    prod = multiply_two_num(left=rr.outputs.output, right=sum.outputs.output)\n",
    "\n",
    "p = calc()"
   ]
  },
  {
   "cell_type": "code",
   "execution_count": 36,
   "metadata": {
    "tags": []
   },
   "outputs": [
    {
     "output_type": "stream",
     "name": "stdout",
     "text": "Submitted PipelineRun e7f18389-5cf7-433e-a093-f51a35f75490\nLink to Azure Machine Learning Portal: https://ml.azure.com/experiments/samples/runs/e7f18389-5cf7-433e-a093-f51a35f75490?wsid=/subscriptions/4aaa645c-5ae2-4ae9-a17a-84b9023bc56a/resourcegroups/itp-pilot-ResGrp/workspaces/itp-pilot\n"
    },
    {
     "output_type": "execute_result",
     "data": {
      "text/plain": "Run(Experiment: samples,\nId: e7f18389-5cf7-433e-a093-f51a35f75490,\nType: azureml.PipelineRun,\nStatus: NotStarted)",
      "text/html": "<table style=\"width:100%\"><tr><th>Experiment</th><th>Id</th><th>Type</th><th>Status</th><th>Details Page</th><th>Docs Page</th></tr><tr><td>samples</td><td>e7f18389-5cf7-433e-a093-f51a35f75490</td><td>azureml.PipelineRun</td><td>NotStarted</td><td><a href=\"https://ml.azure.com/experiments/samples/runs/e7f18389-5cf7-433e-a093-f51a35f75490?wsid=/subscriptions/4aaa645c-5ae2-4ae9-a17a-84b9023bc56a/resourcegroups/itp-pilot-ResGrp/workspaces/itp-pilot\" target=\"_blank\" rel=\"noopener\">Link to Azure Machine Learning studio</a></td><td><a href=\"https://docs.microsoft.com/en-us/python/api/overview/azure/ml/intro?view=azure-ml-py\" target=\"_blank\" rel=\"noopener\">Link to Documentation</a></td></tr></table>"
     },
     "metadata": {},
     "execution_count": 36
    }
   ],
   "source": [
    "run = p.submit(experiment_name='samples')\n",
    "run"
   ]
  },
  {
   "cell_type": "code",
   "execution_count": null,
   "metadata": {},
   "outputs": [],
   "source": []
  }
 ]
}