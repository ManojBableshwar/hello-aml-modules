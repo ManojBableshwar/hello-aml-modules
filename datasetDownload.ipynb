{
 "cells": [
  {
   "cell_type": "code",
   "execution_count": 7,
   "metadata": {
    "tags": []
   },
   "outputs": [],
   "source": [
    "# azureml-core of version 1.0.72 or higher is required\n",
    "from azureml.core import Workspace, Dataset\n",
    "\n",
    "subscription_id = '4aaa645c-5ae2-4ae9-a17a-84b9023bc56a'\n",
    "resource_group = 'itp-pilot-ResGrp'\n",
    "workspace_name = 'itp-pilot'\n",
    "\n",
    "workspace = Workspace(subscription_id, resource_group, workspace_name)\n"
   ]
  },
  {
   "cell_type": "code",
   "execution_count": 13,
   "metadata": {},
   "outputs": [
    {
     "output_type": "execute_result",
     "data": {
      "text/plain": "['d:\\\\work\\\\code\\\\hello-aml-modules\\\\adls_test\\\\MergedStreamOwnerCount_2020_06_01.ss',\n 'd:\\\\work\\\\code\\\\hello-aml-modules\\\\adls_test\\\\MergedStreamOwnerCount_2020_06_02.ss',\n 'd:\\\\work\\\\code\\\\hello-aml-modules\\\\adls_test\\\\MergedStreamOwnerCount_2020_06_03.ss',\n 'd:\\\\work\\\\code\\\\hello-aml-modules\\\\adls_test\\\\MergedStreamOwnerCount_2020_06_04.ss',\n 'd:\\\\work\\\\code\\\\hello-aml-modules\\\\adls_test\\\\MergedStreamOwnerCount_2020_06_05.ss',\n 'd:\\\\work\\\\code\\\\hello-aml-modules\\\\adls_test\\\\MergedStreamOwnerCount_2020_06_06.ss',\n 'd:\\\\work\\\\code\\\\hello-aml-modules\\\\adls_test\\\\MergedStreamOwnerCount_2020_06_07.ss',\n 'd:\\\\work\\\\code\\\\hello-aml-modules\\\\adls_test\\\\MergedStreamOwnerCount_2020_06_08.ss',\n 'd:\\\\work\\\\code\\\\hello-aml-modules\\\\adls_test\\\\MergedStreamOwnerCount_2020_06_09.ss',\n 'd:\\\\work\\\\code\\\\hello-aml-modules\\\\adls_test\\\\MergedStreamOwnerCount_2020_06_10.ss',\n 'd:\\\\work\\\\code\\\\hello-aml-modules\\\\adls_test\\\\MergedStreamOwnerCount_2020_06_11.ss',\n 'd:\\\\work\\\\code\\\\hello-aml-modules\\\\adls_test\\\\MergedStreamOwnerCount_2020_06_13.ss',\n 'd:\\\\work\\\\code\\\\hello-aml-modules\\\\adls_test\\\\MergedStreamOwnerCount_2020_06_14.ss',\n 'd:\\\\work\\\\code\\\\hello-aml-modules\\\\adls_test\\\\MergedStreamOwnerCount_2020_06_15.ss',\n 'd:\\\\work\\\\code\\\\hello-aml-modules\\\\adls_test\\\\MergedStreamOwnerCount_2020_06_16.ss',\n 'd:\\\\work\\\\code\\\\hello-aml-modules\\\\adls_test\\\\MergedStreamOwnerCount_2020_06_17.ss',\n 'd:\\\\work\\\\code\\\\hello-aml-modules\\\\adls_test\\\\MergedStreamOwnerCount_2020_06_18.ss',\n 'd:\\\\work\\\\code\\\\hello-aml-modules\\\\adls_test\\\\MergedStreamOwnerCount_2020_06_19.ss',\n 'd:\\\\work\\\\code\\\\hello-aml-modules\\\\adls_test\\\\MergedStreamOwnerCount_2020_06_20.ss',\n 'd:\\\\work\\\\code\\\\hello-aml-modules\\\\adls_test\\\\MergedStreamOwnerCount_2020_06_21.ss',\n 'd:\\\\work\\\\code\\\\hello-aml-modules\\\\adls_test\\\\MergedStreamOwnerCount_2020_06_22.ss',\n 'd:\\\\work\\\\code\\\\hello-aml-modules\\\\adls_test\\\\MergedStreamOwnerCount_2020_06_23.ss',\n 'd:\\\\work\\\\code\\\\hello-aml-modules\\\\adls_test\\\\MergedStreamOwnerCount_2020_06_24.ss',\n 'd:\\\\work\\\\code\\\\hello-aml-modules\\\\adls_test\\\\MergedStreamOwnerCount_2020_06_25.ss',\n 'd:\\\\work\\\\code\\\\hello-aml-modules\\\\adls_test\\\\MergedStreamOwnerCount_2020_06_26.ss',\n 'd:\\\\work\\\\code\\\\hello-aml-modules\\\\adls_test\\\\MergedStreamOwnerCount_2020_06_27.ss']"
     },
     "metadata": {},
     "execution_count": 13
    }
   ],
   "source": [
    "# dataset = Dataset.get_by_name(workspace, name='BotReportSummary')\n",
    "# dataset.download(target_path='./Bot/', overwrite=False)\n",
    "\n",
    "dataset = Dataset.get_by_name(workspace, name='DailyJobTotalCount_testAdls')\n",
    "dataset.download(target_path='./adls_test/', overwrite=False)"
   ]
  },
  {
   "cell_type": "code",
   "execution_count": null,
   "metadata": {},
   "outputs": [],
   "source": []
  }
 ],
 "metadata": {
  "language_info": {
   "codemirror_mode": {
    "name": "ipython",
    "version": 3
   },
   "file_extension": ".py",
   "mimetype": "text/x-python",
   "name": "python",
   "nbconvert_exporter": "python",
   "pygments_lexer": "ipython3",
   "version": "3.7.6-final"
  },
  "orig_nbformat": 2,
  "kernelspec": {
   "name": "python37664bitamlenvconda1709d228b5634784bc90b1e7f8c3afa4",
   "display_name": "Python 3.7.6 64-bit ('amlenv': conda)"
  }
 },
 "nbformat": 4,
 "nbformat_minor": 2
}