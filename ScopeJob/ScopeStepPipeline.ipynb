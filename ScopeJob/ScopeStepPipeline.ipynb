{
 "metadata": {
  "language_info": {
   "codemirror_mode": {
    "name": "ipython",
    "version": 3
   },
   "file_extension": ".py",
   "mimetype": "text/x-python",
   "name": "python",
   "nbconvert_exporter": "python",
   "pygments_lexer": "ipython3",
   "version": "3.7.9-final"
  },
  "orig_nbformat": 2,
  "kernelspec": {
   "name": "Python 3.7.9 64-bit ('amlcore': conda)",
   "display_name": "Python 3.7.9 64-bit ('amlcore': conda)",
   "metadata": {
    "interpreter": {
     "hash": "e4096f665ea850e5bf4f9ac583bd4da5d6ebec42bd28893fb168636451d6cfe4"
    }
   }
  }
 },
 "nbformat": 4,
 "nbformat_minor": 2,
 "cells": [
  {
   "cell_type": "code",
   "execution_count": 126,
   "metadata": {},
   "outputs": [],
   "source": [
    "import azureml.core\n",
    "from azureml.core import Workspace, Run, Experiment, Dataset\n",
    "from azureml.core.compute import ComputeTarget, DataFactoryCompute\n",
    "from azureml.core.datastore import Datastore\n",
    "from azureml.data.data_reference import DataReference\n",
    "from azureml.exceptions import ComputeTargetException\n",
    "from azureml.pipeline.core import Pipeline, PipelineData\n",
    "from azureml.pipeline.steps import AdlaStep, AzureBatchStep, DataTransferStep\n",
    "from azureml.pipeline.steps_internal import ScopeStep"
   ]
  },
  {
   "cell_type": "code",
   "execution_count": 127,
   "metadata": {},
   "outputs": [],
   "source": [
    "subscription_id=\"4aaa645c-5ae2-4ae9-a17a-84b9023bc56a\"\n",
    "resource_group=\"itp-pilot-ResGrp\"\n",
    "name=\"itp-pilot\""
   ]
  },
  {
   "cell_type": "code",
   "execution_count": 128,
   "metadata": {},
   "outputs": [
    {
     "output_type": "stream",
     "name": "stdout",
     "text": [
      "itp-pilot\nitp-pilot-ResGrp\nwesteurope\n4aaa645c-5ae2-4ae9-a17a-84b9023bc56a\n"
     ]
    }
   ],
   "source": [
    "from azureml.core import Workspace\n",
    "\n",
    "ws = Workspace.get(subscription_id=subscription_id, resource_group=resource_group, name=name)\n",
    "print(ws.name, ws.resource_group, ws.location, ws.subscription_id, sep='\\n')"
   ]
  },
  {
   "cell_type": "code",
   "execution_count": 129,
   "metadata": {},
   "outputs": [
    {
     "output_type": "stream",
     "name": "stdout",
     "text": [
      "found datastore with name: searchparner_test\n"
     ]
    }
   ],
   "source": [
    "adl_datastore_name = 'searchparner_test'\n",
    "adls_datastore = Datastore.get(ws, adl_datastore_name)\n",
    "print(\"found datastore with name: %s\" % adl_datastore_name)\n",
    "\n",
    "\"\"\" test data reference\n",
    "input_data = DataReference(\n",
    "    adls_datastore, data_reference_name='RawData', path_on_datastore='/local/temp/chjinche/large_data/bing_data_label.tsv')\n",
    "\"\"\"\n",
    "\n",
    "\n",
    "input_data = ws.datasets['BotDetectionLabelData'].as_named_input('RawData')\n"
   ]
  },
  {
   "cell_type": "code",
   "execution_count": 130,
   "metadata": {},
   "outputs": [],
   "source": [
    "script_folder = './script'"
   ]
  },
  {
   "cell_type": "code",
   "execution_count": 131,
   "metadata": {},
   "outputs": [],
   "source": [
    "# convert tsv to ss\n",
    "\n",
    "ss_data = PipelineData('SS_Data', datastore=adls_datastore)\n",
    "\n",
    "step_ssconvert_params = {\"ExtractClause\": \"Label:string, Id:string\"}\n",
    "\n",
    "step_ssconvert = ScopeStep(\n",
    "    name = 'Convert Tsv to SS',\n",
    "    script_name = 'convert2ss.script',\n",
    "    custom_job_name_suffix='_bing_bot_data',\n",
    "    inputs = [input_data],\n",
    "    outputs = [ss_data],\n",
    "    params = step_ssconvert_params,\n",
    "    scope_param = \"-tokens 30\",\n",
    "    adla_account_name = 'searchdm-partner-c09',\n",
    "    allow_reuse = True,\n",
    "    source_directory = script_folder\n",
    ")"
   ]
  },
  {
   "cell_type": "code",
   "execution_count": 132,
   "metadata": {},
   "outputs": [],
   "source": [
    "# convert ss to tsv\n",
    "\n",
    "tsv_data = PipelineData('Tsv_Data', datastore=adls_datastore)\n",
    "\n",
    "step_tsvconvert = ScopeStep(\n",
    "    name = 'Convert SS to Tsv',\n",
    "    script_name = 'convert2tsv.script',\n",
    "    custom_job_name_suffix='_bing_bot_data',\n",
    "    inputs = [ss_data],\n",
    "    outputs = [tsv_data],\n",
    "    scope_param = \"-tokens 30\",\n",
    "    adla_account_name = 'searchdm-partner-c09',\n",
    "    allow_reuse = True,\n",
    "    source_directory = script_folder\n",
    ")"
   ]
  },
  {
   "cell_type": "code",
   "execution_count": 133,
   "metadata": {},
   "outputs": [],
   "source": [
    "my_pipeline = Pipeline(\n",
    "    description = 'single step pipeline to submit scope job',\n",
    "    workspace = ws,\n",
    "    steps = [step_tsvconvert]\n",
    ")"
   ]
  },
  {
   "cell_type": "code",
   "execution_count": 134,
   "metadata": {},
   "outputs": [
    {
     "output_type": "stream",
     "name": "stdout",
     "text": [
      "Created step Convert SS to Tsv [d67f570c][e0c2e0d4-7eb5-432a-972d-4a6cf12ea2e7], (This step is eligible to reuse a previous run's output)\n",
      "Created step Convert Tsv to SS [53d4769f][78566538-e940-4b24-b4f8-45e96c028d23], (This step will run and generate new outputs)\n",
      "Submitted PipelineRun 38f5e60a-aad9-4977-8f59-dde1f1734d1a\n",
      "Link to Azure Machine Learning Portal: https://ml.azure.com/experiments/scope_experiment/runs/38f5e60a-aad9-4977-8f59-dde1f1734d1a?wsid=/subscriptions/4aaa645c-5ae2-4ae9-a17a-84b9023bc56a/resourcegroups/itp-pilot-ResGrp/workspaces/itp-pilot\n"
     ]
    }
   ],
   "source": [
    "from azureml.core import Experiment\n",
    "\n",
    "exp = Experiment(ws, 'scope_experiment')\n",
    "pipeline_run = exp.submit(my_pipeline)"
   ]
  },
  {
   "cell_type": "code",
   "execution_count": null,
   "metadata": {},
   "outputs": [],
   "source": []
  }
 ]
}