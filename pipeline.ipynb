{
 "cells": [
  {
   "cell_type": "code",
   "execution_count": 1,
   "metadata": {},
   "outputs": [],
   "source": [
    "%config IPCompleter.greedy=True"
   ]
  },
  {
   "cell_type": "code",
   "execution_count": 1,
   "metadata": {},
   "outputs": [],
   "source": [
    "from azureml.core import Workspace, Run, Dataset\n",
    "from azureml.pipeline.wrapper import Pipeline, Module\n",
    "\n",
    "ws = Workspace.get(name='jietong-test-westeurope', subscription_id='f8f8b81c-3ebd-427c-b3b7-ebb226c4eea2',\n",
    "                   resource_group='studio-v2-test')"
   ]
  },
  {
   "cell_type": "code",
   "execution_count": 6,
   "metadata": {},
   "outputs": [],
   "source": [
    "# Load modules from workspace\n",
    "train_module_func = Module.load(ws, namespace='microsoft.com/aml/samples', name='Train')\n",
    "score_module_func = Module.load(ws, namespace='microsoft.com/aml/samples', name='Score')\n",
    "eval_module_func = Module.load(ws, namespace='microsoft.com/aml/samples', name='Evaluate')\n",
    "\n",
    "# Load a module from local as anonymous module\n",
    "#a_module_in_development_func = Module.load_from_yaml(ws, path='/home/code/new_module/spec.yaml')\n",
    "\n",
    "train_data = Dataset.get_by_name(ws, 'training_data')\n",
    "test_data = Dataset.get_by_name(ws, 'test_data')"
   ]
  },
  {
   "cell_type": "code",
   "execution_count": 3,
   "metadata": {},
   "outputs": [
    {
     "output_type": "stream",
     "name": "stdout",
     "text": "Help on function azureml://Clean Missing Data:\n\nazureml://Clean Missing Data(Dataset: 'Dataset' = None, Columns_to_be_cleaned: 'Columns to be cleaned' = None, Minimum_missing_value_ratio: 'Minimum missing value ratio' = '0.0', Maximum_missing_value_ratio: 'Maximum missing value ratio' = '1.0', Cleaning_mode: 'Cleaning mode' = 'Custom substitution value', Replacement_value: 'Replacement value' = '0', Generate_missing_value_indicator_column: 'Generate missing value indicator column' = 'False', Cols_with_all_missing_values: 'Cols with all missing values' = 'Remove')\n    Specifies how to handle the values missing from a dataset.\n    \n    \n    :param Dataset: Dataset\n    :param Columns_to_be_cleaned: Columns to be cleaned\n    :param Minimum_missing_value_ratio: Minimum missing value ratio\n    :param Maximum_missing_value_ratio: Maximum missing value ratio\n    :param Cleaning_mode: Cleaning mode\n    :param Replacement_value: Replacement value\n    :param Generate_missing_value_indicator_column: Generate missing value indicator column\n    :param Cols_with_all_missing_values: Cols with all missing values\n\n"
    }
   ],
   "source": [
    "clean_missing_data_module_func = Module.load(ws, namespace='azureml', name='Clean Missing Data')\n",
    "help(clean_missing_data_module_func)"
   ]
  },
  {
   "cell_type": "code",
   "execution_count": 16,
   "metadata": {},
   "outputs": [
    {
     "output_type": "stream",
     "name": "stdout",
     "text": "Submitted PipelineRun 591b6ae5-34c9-4767-8a42-66264734f151\nLink to Azure Machine Learning Portal: https://ml.azure.com/experiments/sample-pipelines/runs/591b6ae5-34c9-4767-8a42-66264734f151?wsid=/subscriptions/f8f8b81c-3ebd-427c-b3b7-ebb226c4eea2/resourcegroups/studio-v2-test/workspaces/jietong-test-westeurope\nPipelineRunId: 591b6ae5-34c9-4767-8a42-66264734f151\nLink to Azure Machine Learning Portal: https://ml.azure.com/experiments/sample-pipelines/runs/591b6ae5-34c9-4767-8a42-66264734f151?wsid=/subscriptions/f8f8b81c-3ebd-427c-b3b7-ebb226c4eea2/resourcegroups/studio-v2-test/workspaces/jietong-test-westeurope\nPipelineRun Status: NotStarted\nPipelineRun Status: Running\n\n\nStepRunId: 85d6f4ac-7f52-4180-87ad-869e7fa74497\nLink to Azure Machine Learning Portal: https://ml.azure.com/experiments/sample-pipelines/runs/85d6f4ac-7f52-4180-87ad-869e7fa74497?wsid=/subscriptions/f8f8b81c-3ebd-427c-b3b7-ebb226c4eea2/resourcegroups/studio-v2-test/workspaces/jietong-test-westeurope\nStepRun( Train ) Status: NotStarted\nStepRun( Train ) Status: Running\n\nStreaming azureml-logs/55_azureml-execution-tvmps_1c95a63c01f625e3463bc741811c4813b711cf412259c5703a1edd8b2267970d_d.txt\n========================================================================================================================\n2020-04-15T06:24:44Z Starting output-watcher...\n2020-04-15T06:24:44Z IsDedicatedCompute == True, won't poll for Low Pri Preemption\nLogin Succeeded\nUsing default tag: latest\nlatest: Pulling from azureml/azureml_deb4fc757a940ccd8fb8b41b4cf4580c\nDigest: sha256:23a0f01fe57b481d0ad4ca459544292b3c9b41b241765f414ac88d44c9df7865\nStatus: Image is up to date for jietongtestwfee3ba40.azurecr.io/azureml/azureml_deb4fc757a940ccd8fb8b41b4cf4580c:latest\n2e96aa4648b7fb0f37f4524889a983d4d362388a0fb599706f45f2726a8a7486\n2020/04/15 06:24:48 Version: 3.0.01172.0001 Branch: master Commit: d33e301a\n2020/04/15 06:24:49 /dev/infiniband/uverbs0 found (implying presence of InfiniBand)?: false\n2020/04/15 06:24:49 sshd runtime has already been installed in the container\n\nStreaming azureml-logs/65_job_prep-tvmps_1c95a63c01f625e3463bc741811c4813b711cf412259c5703a1edd8b2267970d_d.txt\n===============================================================================================================\nStarting job_prep.py script\nStarting job preparation. Current time:2020-04-15T06:24:58.962654\nExtracting the control code.\nfetching and extracting the control code on master node.\n\nStreaming azureml-logs/70_driver_log.txt\n========================================\nInitialize DatasetContextManager.\nStarting the daemon thread to refresh tokens in background for process with pid = 139\nSet Dataset training_data's target path to /tmp/tmpyqog_15j\nEnter __enter__ of DatasetContextManager\nSDK version: azureml-core==1.3.0 azureml-dataprep==1.4.3\nProcessing 'training_data'\nProcessing dataset FileDataset\n{\n  \"source\": [\n    \"('myownblob', 'UI/04-15-2020_035308_UTC/name_age.tsv')\"\n  ],\n  \"definition\": [\n    \"GetDatastoreFiles\"\n  ],\n  \"registration\": {\n    \"id\": \"dd23f428-d733-468b-850f-4ba707f5c35e\",\n    \"name\": \"training_data\",\n    \"version\": 1,\n    \"workspace\": \"Workspace.create(name='jietong-test-westeurope', subscription_id='f8f8b81c-3ebd-427c-b3b7-ebb226c4eea2', resource_group='studio-v2-test')\"\n  }\n}\nLooking for variable: AZUREML_DATAREFERENCE_training_data_0\nVariable value: None\nMounting training_data to /tmp/tmpyqog_15j\n\nStreaming azureml-logs/75_job_post-tvmps_1c95a63c01f625e3463bc741811c4813b711cf412259c5703a1edd8b2267970d_d.txt\n===============================================================================================================\nStarting job release. Current time:2020-04-15T06:26:28.632484\nLogging experiment finalizing status in history service.\nStarting the daemon thread to refresh tokens in background for process with pid = 382\nJob release is complete. Current time:2020-04-15T06:26:33.268756\n"
    }
   ],
   "source": [
    "train = train_module_func(\n",
    "    training_data=train_data, \n",
    "    max_epochs=5, \n",
    "    learning_rate=0.02)\n",
    "\n",
    "score = score_module_func(\n",
    "    model_input=train.outputs.model_output, \n",
    "    test_data=test_data)\n",
    "\n",
    "eval = eval_module_func(scoring_result=score.outputs.score_output)\n",
    "\n",
    "pipeline = Pipeline(nodes=[train, score, eval], outputs=eval.outputs)\n",
    "\n",
    "run = pipeline.submit_run(\n",
    "    ws, \n",
    "    experiment_name='sample-pipelines', \n",
    "    default_compute_target='cpu-cluster')\n",
    "\n",
    "run.wait_for_completion()"
   ]
  },
  {
   "cell_type": "code",
   "execution_count": null,
   "metadata": {},
   "outputs": [],
   "source": []
  }
 ],
 "metadata": {
  "kernelspec": {
   "display_name": "Python 3",
   "language": "python",
   "name": "python3"
  },
  "language_info": {
   "codemirror_mode": {
    "name": "ipython",
    "version": 3
   },
   "file_extension": ".py",
   "mimetype": "text/x-python",
   "name": "python",
   "nbconvert_exporter": "python",
   "pygments_lexer": "ipython3",
   "version": "3.7.6-final"
  }
 },
 "nbformat": 4,
 "nbformat_minor": 4
}