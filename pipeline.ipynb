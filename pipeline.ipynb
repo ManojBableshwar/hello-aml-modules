{
 "cells": [
  {
   "cell_type": "code",
   "execution_count": null,
   "metadata": {
    "tags": []
   },
   "outputs": [],
   "source": [
    "%config IPCompleter.greedy=True\n",
    "!pip install azureml-pipeline-wrapper==0.1.0.13166565 --extra-index-url https://azuremlsdktestpypi.azureedge.net/CLI-SDK-Runners-Validation/13166565 --ignore-installed"
   ]
  },
  {
   "cell_type": "code",
   "execution_count": 1,
   "metadata": {},
   "outputs": [
    {
     "name": "stderr",
     "output_type": "stream",
     "text": [
      "WARNING - Warning: Falling back to use azure cli login credentials.\n",
      "If you run your code in unattended mode, i.e., where you can't give a user input, then we recommend to use ServicePrincipalAuthentication or MsiAuthentication.\n",
      "Please refer to aka.ms/aml-notebook-auth for different authentication mechanisms in azureml-sdk.\n"
     ]
    }
   ],
   "source": [
    "from azureml.core import Workspace, Run, Dataset\n",
    "from azureml.pipeline.wrapper import Pipeline, Module\n",
    "\n",
    "ws = Workspace.get(name='jietong-test-westeurope', subscription_id='f8f8b81c-3ebd-427c-b3b7-ebb226c4eea2',\n",
    "                   resource_group='studio-v2-test')"
   ]
  },
  {
   "cell_type": "code",
   "execution_count": 2,
   "metadata": {},
   "outputs": [],
   "source": [
    "# Load modules from workspace\n",
    "train_module_func = Module.load(ws, namespace='microsoft.com/aml/samples', name='Train')\n",
    "score_module_func = Module.load(ws, namespace='microsoft.com/aml/samples', name='Score')\n",
    "eval_module_func = Module.load(ws, namespace='microsoft.com/aml/samples', name='Evaluate')\n",
    "\n",
    "# Load a module from local as anonymous module\n",
    "#a_module_in_development_func = Module.load_from_yaml(ws, path='/home/code/new_module/spec.yaml')\n",
    "\n",
    "train_data = Dataset.get_by_name(ws, 'training_data')\n",
    "test_data = Dataset.get_by_name(ws, 'test_data')"
   ]
  },
  {
   "cell_type": "code",
   "execution_count": null,
   "metadata": {},
   "outputs": [],
   "source": [
    "help(train_module_func)"
   ]
  },
  {
   "cell_type": "code",
   "execution_count": 3,
   "metadata": {},
   "outputs": [
    {
     "name": "stderr",
     "output_type": "stream",
     "text": [
      "WARNING - Datetime with no tzinfo will be considered UTC.\n",
      "WARNING - Datetime with no tzinfo will be considered UTC.\n",
      "WARNING - Datetime with no tzinfo will be considered UTC.\n"
     ]
    },
    {
     "data": {
      "text/html": [
       "\n",
       "        <style>\n",
       "        #graph-visualization_css_id > div {\n",
       "            height: 800px;\n",
       "        }\n",
       "        #graph-visualization_css_id svg.react-dag-editor-svg-container {\n",
       "            height: 800px;\n",
       "        }\n",
       "        </style>\n",
       "        <div id=\"graph-visualization_css_id\" style=\"height: 800px; overflow: hidden\"></div>\n",
       "        <script>\n",
       "            window.graph_json={\"pipeline\": {\"name\": null, \"parameters\": null, \"data_references\": {\"training_data\": {\"dataset_id\": \"5d54fe4c-aa67-415b-801d-7e23ca459ded\"}, \"test_data\": {\"dataset_id\": \"b6b16099-99e9-49d6-8657-f5644872e223\"}}, \"steps\": {\"microsoft.com/aml/samples://Train\": {\"module\": {\"id\": \"bccebd08-496f-49da-a528-8d4e3b4d2ee2\", \"version\": \"0.0.3\"}, \"parameters\": {\"ServingEntry\": \"\", \"MLCComputeType\": \"AmlCompute\", \"PrepareEnvironment\": \"true\", \"Script\": \"train.py\", \"Framework\": \"Python\", \"InterpreterPath\": \"python\", \"UserManagedDependencies\": false, \"CondaDependencies\": \"{\\\"name\\\": \\\"project_environment\\\", \\\"channels\\\": [\\\"defaults\\\"], \\\"dependencies\\\": [\\\"python=3.6.8\\\", {\\\"pip\\\": [\\\"azureml-defaults\\\"]}]}\", \"DockerEnabled\": \"true\", \"BaseDockerImage\": \"mcr.microsoft.com/azureml/base:intelmpi2018.3-ubuntu16.04\", \"GpuSupport\": \"false\", \"HistoryEnabled\": \"true\", \"max_epochs\": 5, \"learning_rate\": 0.02, \"TargetType\": \"mlc\", \"RequireGpu\": \"False\", \"HasServingEntry\": \"False\", \"PassthroughServingMode\": \"False\", \"ModuleUI\": \"Default\", \"ModuleVersion\": \"0.0.3\", \"Owner\": null}, \"inputs\": {\"training_data\": {\"source\": \"training_data\", \"type\": \"mount\", \"overwrite\": false}}, \"outputs\": {\"model_output\": {\"destination\": \"model_output2065ecd0\", \"type\": \"mount\", \"datastore\": \"workspaceblobstore\"}}, \"arguments\": [\"USE_STRUCTURED_ARGUMENTS\"], \"compute\": \"cpu-cluster\", \"validate\": {\"error\": []}}, \"microsoft.com/aml/samples://Score\": {\"module\": {\"id\": \"37914d64-d581-4970-907c-dbe64b2da2f6\", \"version\": \"0.0.2\"}, \"parameters\": {\"ServingEntry\": \"\", \"MLCComputeType\": \"AmlCompute\", \"PrepareEnvironment\": \"true\", \"Script\": \"score.py\", \"Framework\": \"Python\", \"InterpreterPath\": \"python\", \"UserManagedDependencies\": false, \"CondaDependencies\": \"{\\\"name\\\": \\\"project_environment\\\", \\\"channels\\\": [\\\"defaults\\\"], \\\"dependencies\\\": [\\\"python=3.6.8\\\", {\\\"pip\\\": [\\\"azureml-defaults\\\"]}]}\", \"DockerEnabled\": \"true\", \"BaseDockerImage\": \"mcr.microsoft.com/azureml/base:intelmpi2018.3-ubuntu16.04\", \"GpuSupport\": \"false\", \"HistoryEnabled\": \"true\", \"TargetType\": \"mlc\", \"RequireGpu\": \"False\", \"HasServingEntry\": \"False\", \"PassthroughServingMode\": \"False\", \"ModuleUI\": \"Default\", \"ModuleVersion\": \"0.0.2\", \"Owner\": null}, \"inputs\": {\"model_input\": {\"source\": \"model_output2065ecd0\", \"type\": \"mount\"}, \"test_data\": {\"source\": \"test_data\", \"type\": \"mount\", \"overwrite\": false}}, \"outputs\": {\"score_output\": {\"destination\": \"score_outputbc2ead18\", \"type\": \"mount\", \"datastore\": \"workspaceblobstore\"}}, \"arguments\": [\"USE_STRUCTURED_ARGUMENTS\"], \"compute\": \"cpu-cluster\", \"validate\": {\"error\": []}}, \"microsoft.com/aml/samples://Evaluate\": {\"module\": {\"id\": \"b631cada-c9f1-4af3-8497-025443728cb7\", \"version\": \"0.0.1\"}, \"parameters\": {\"ServingEntry\": \"\", \"MLCComputeType\": \"AmlCompute\", \"PrepareEnvironment\": \"true\", \"Script\": \"eval.py\", \"Framework\": \"Python\", \"InterpreterPath\": \"python\", \"UserManagedDependencies\": false, \"CondaDependencies\": \"{\\\"name\\\": \\\"project_environment\\\", \\\"channels\\\": [\\\"defaults\\\"], \\\"dependencies\\\": [\\\"python=3.6.8\\\", {\\\"pip\\\": [\\\"azureml-defaults\\\"]}]}\", \"DockerEnabled\": \"true\", \"BaseDockerImage\": \"mcr.microsoft.com/azureml/base:intelmpi2018.3-ubuntu16.04\", \"GpuSupport\": \"false\", \"HistoryEnabled\": \"true\", \"TargetType\": \"mlc\", \"RequireGpu\": \"False\", \"HasServingEntry\": \"False\", \"PassthroughServingMode\": \"False\", \"ModuleUI\": \"Default\", \"ModuleVersion\": \"0.0.1\", \"Owner\": null}, \"inputs\": {\"scoring_result\": {\"source\": \"score_outputbc2ead18\", \"type\": \"mount\"}}, \"outputs\": {\"eval_output\": {\"destination\": \"eval_output567100c0\", \"type\": \"mount\", \"datastore\": \"workspaceblobstore\"}}, \"arguments\": [\"USE_STRUCTURED_ARGUMENTS\"], \"compute\": \"cpu-cluster\", \"validate\": {\"error\": []}}}}, \"modules\": [{\"module_execution_type\": \"escloud\", \"upload_state\": \"1\", \"is_deterministic\": true, \"structured_interface\": {\"inputs\": [{\"name\": \"training_data\", \"label\": \"Training data organized in the torchvision format/structure\", \"data_type_ids_list\": [\"AnyFile\", \"AnyDirectory\"], \"is_optional\": false, \"skip_processing\": false, \"is_resource\": false, \"data_store_mode\": \"1\", \"overwrite\": true, \"data_reference_name\": \"training_data\", \"dataset_types\": [\"0\", \"1\"]}], \"outputs\": [{\"name\": \"model_output\", \"label\": \"The output model (zipped)\", \"data_type_id\": \"AnyFile\", \"skip_processing\": false, \"data_store_name\": \"workspaceblobstore\", \"data_store_mode\": \"1\", \"overwrite\": true, \"data_reference_name\": \"model_output\"}], \"parameters\": [{\"name\": \"ServingEntry\", \"parameter_type\": \"3\", \"is_optional\": true, \"default_value\": \"\", \"set_environment_variable\": false}, {\"name\": \"Target\", \"parameter_type\": \"3\", \"is_optional\": true, \"set_environment_variable\": false}, {\"name\": \"MLCComputeType\", \"parameter_type\": \"3\", \"is_optional\": true, \"set_environment_variable\": false}, {\"name\": \"PrepareEnvironment\", \"parameter_type\": \"3\", \"is_optional\": true, \"default_value\": \"true\", \"set_environment_variable\": false}, {\"name\": \"Script\", \"parameter_type\": \"3\", \"is_optional\": true, \"default_value\": \"train.py\", \"set_environment_variable\": false}, {\"name\": \"Arguments\", \"parameter_type\": \"3\", \"is_optional\": true, \"default_value\": \"\", \"set_environment_variable\": false}, {\"name\": \"Framework\", \"parameter_type\": \"3\", \"is_optional\": true, \"default_value\": \"Python\", \"set_environment_variable\": false}, {\"name\": \"InterpreterPath\", \"parameter_type\": \"3\", \"is_optional\": true, \"default_value\": \"python\", \"set_environment_variable\": false}, {\"name\": \"UserManagedDependencies\", \"parameter_type\": \"3\", \"is_optional\": true, \"default_value\": \"false\", \"set_environment_variable\": false}, {\"name\": \"CondaDependencies\", \"parameter_type\": \"3\", \"is_optional\": true, \"default_value\": \"{\\\"name\\\": \\\"project_environment\\\", \\\"channels\\\": [\\\"defaults\\\"], \\\"dependencies\\\": [\\\"python=3.6.8\\\", {\\\"pip\\\": [\\\"azureml-defaults\\\"]}]}\\r\\n\", \"set_environment_variable\": false}, {\"name\": \"DockerEnabled\", \"parameter_type\": \"3\", \"is_optional\": true, \"default_value\": \"true\", \"set_environment_variable\": false}, {\"name\": \"BaseDockerImage\", \"parameter_type\": \"3\", \"is_optional\": true, \"default_value\": \"mcr.microsoft.com/azureml/base:intelmpi2018.3-ubuntu16.04\", \"set_environment_variable\": false}, {\"name\": \"GpuSupport\", \"parameter_type\": \"3\", \"is_optional\": true, \"default_value\": \"false\", \"set_environment_variable\": false}, {\"name\": \"HistoryEnabled\", \"parameter_type\": \"3\", \"is_optional\": true, \"default_value\": \"true\", \"set_environment_variable\": false}, {\"name\": \"max_epochs\", \"parameter_type\": \"0\", \"is_optional\": false, \"default_value\": \"5\", \"set_environment_variable\": true, \"environment_variable_override\": \"AZUREML_PARAMETER_max_epochs\"}, {\"name\": \"learning_rate\", \"parameter_type\": \"1\", \"is_optional\": false, \"default_value\": \"0.01\", \"set_environment_variable\": true, \"environment_variable_override\": \"AZUREML_PARAMETER_learning_rate\"}], \"metadata_parameters\": [{\"name\": \"TargetType\", \"parameter_type\": \"3\", \"is_optional\": true, \"default_value\": \"MLC\", \"set_environment_variable\": false}, {\"name\": \"RequireGpu\", \"parameter_type\": \"2\", \"is_optional\": true, \"default_value\": \"False\", \"set_environment_variable\": false}, {\"name\": \"HasServingEntry\", \"parameter_type\": \"2\", \"is_optional\": true, \"default_value\": \"False\", \"set_environment_variable\": false}, {\"name\": \"PassthroughServingMode\", \"parameter_type\": \"2\", \"is_optional\": true, \"default_value\": \"False\", \"set_environment_variable\": false}, {\"name\": \"ModuleUI\", \"parameter_type\": \"3\", \"is_optional\": true, \"default_value\": \"Default\", \"set_environment_variable\": false}, {\"name\": \"ModuleVersion\", \"parameter_type\": \"3\", \"is_optional\": true, \"default_value\": \"0.0.3\", \"set_environment_variable\": false}, {\"name\": \"Owner\", \"parameter_type\": \"3\", \"is_optional\": true, \"set_environment_variable\": false}], \"arguments\": [{\"value_type\": \"0\", \"value\": \"--training_data\"}, {\"value_type\": \"2\", \"value\": \"training_data\"}, {\"value_type\": \"0\", \"value\": \"--max_epochs\"}, {\"value_type\": \"1\", \"value\": \"max_epochs\"}, {\"value_type\": \"0\", \"value\": \"--learning_rate\"}, {\"value_type\": \"1\", \"value\": \"learning_rate\"}, {\"value_type\": \"0\", \"value\": \"--model_output\"}, {\"value_type\": \"3\", \"value\": \"model_output\"}]}, \"data_location\": {\"storage_type\": \"3\", \"storage_id\": \"e654ef73-4801-47f4-9d03-0dfe0a4d8622\"}, \"identifier_hash\": \"9f4ac0ddbb3a4d33e2bc99731ba747b3\", \"tags\": {}, \"properties\": {\"Owner\": null, \"ModuleVersion\": \"0.0.3\", \"AmlModuleName\": \"microsoft.com/aml/samples://Train\", \"ModuleName\": \"Train\", \"Namespace\": \"microsoft.com/aml/samples\", \"FamilyId\": null, \"HelpDocument\": null, \"YamlLink\": \"train.yaml\", \"ModuleSourceType\": \"Local\"}, \"created_by\": {\"user_object_id\": \"32017ae3-7430-44bf-9a3c-9a201c8786f2\", \"user_tenant_id\": \"72f988bf-86f1-41af-91ab-2d7cd011db47\", \"user_name\": \"Jie Tong\"}, \"step_type\": \"PythonScriptModule\", \"name\": \"Train\", \"entity_status\": \"0\", \"id\": \"a5900a23-eea6-4052-b321-176289717906\", \"etag\": \"\\\"40012d54-0000-0d00-0000-5e9699970000\\\"\", \"created_date\": \"0001-01-01T00:00:00.000Z\", \"last_modified_date\": \"2020-04-15T05:20:22.972559Z\", \"module_id\": \"bccebd08-496f-49da-a528-8d4e3b4d2ee2\", \"version\": \"0.0.3\"}, {\"module_execution_type\": \"escloud\", \"upload_state\": \"1\", \"is_deterministic\": true, \"structured_interface\": {\"inputs\": [{\"name\": \"model_input\", \"label\": \"Zipped model file\", \"data_type_ids_list\": [\"AnyFile\"], \"is_optional\": false, \"skip_processing\": false, \"is_resource\": false, \"data_store_mode\": \"1\", \"overwrite\": true, \"data_reference_name\": \"model_input\", \"dataset_types\": [\"0\", \"1\"]}, {\"name\": \"test_data\", \"label\": \"Test data organized in the torchvision format/structure\", \"data_type_ids_list\": [\"AnyFile\", \"AnyDirectory\"], \"is_optional\": false, \"skip_processing\": false, \"is_resource\": false, \"data_store_mode\": \"1\", \"overwrite\": true, \"data_reference_name\": \"test_data\", \"dataset_types\": [\"0\", \"1\"]}], \"outputs\": [{\"name\": \"score_output\", \"label\": \"The scoring result in TSV\", \"data_type_id\": \"AnyFile\", \"skip_processing\": false, \"data_store_name\": \"workspaceblobstore\", \"data_store_mode\": \"1\", \"overwrite\": true, \"data_reference_name\": \"score_output\"}], \"parameters\": [{\"name\": \"ServingEntry\", \"parameter_type\": \"3\", \"is_optional\": true, \"default_value\": \"\", \"set_environment_variable\": false}, {\"name\": \"Target\", \"parameter_type\": \"3\", \"is_optional\": true, \"set_environment_variable\": false}, {\"name\": \"MLCComputeType\", \"parameter_type\": \"3\", \"is_optional\": true, \"set_environment_variable\": false}, {\"name\": \"PrepareEnvironment\", \"parameter_type\": \"3\", \"is_optional\": true, \"default_value\": \"true\", \"set_environment_variable\": false}, {\"name\": \"Script\", \"parameter_type\": \"3\", \"is_optional\": true, \"default_value\": \"score.py\", \"set_environment_variable\": false}, {\"name\": \"Arguments\", \"parameter_type\": \"3\", \"is_optional\": true, \"default_value\": \"\", \"set_environment_variable\": false}, {\"name\": \"Framework\", \"parameter_type\": \"3\", \"is_optional\": true, \"default_value\": \"Python\", \"set_environment_variable\": false}, {\"name\": \"InterpreterPath\", \"parameter_type\": \"3\", \"is_optional\": true, \"default_value\": \"python\", \"set_environment_variable\": false}, {\"name\": \"UserManagedDependencies\", \"parameter_type\": \"3\", \"is_optional\": true, \"default_value\": \"false\", \"set_environment_variable\": false}, {\"name\": \"CondaDependencies\", \"parameter_type\": \"3\", \"is_optional\": true, \"default_value\": \"{\\\"name\\\": \\\"project_environment\\\", \\\"channels\\\": [\\\"defaults\\\"], \\\"dependencies\\\": [\\\"python=3.6.8\\\", {\\\"pip\\\": [\\\"azureml-defaults\\\"]}]}\\r\\n\", \"set_environment_variable\": false}, {\"name\": \"DockerEnabled\", \"parameter_type\": \"3\", \"is_optional\": true, \"default_value\": \"true\", \"set_environment_variable\": false}, {\"name\": \"BaseDockerImage\", \"parameter_type\": \"3\", \"is_optional\": true, \"default_value\": \"mcr.microsoft.com/azureml/base:intelmpi2018.3-ubuntu16.04\", \"set_environment_variable\": false}, {\"name\": \"GpuSupport\", \"parameter_type\": \"3\", \"is_optional\": true, \"default_value\": \"false\", \"set_environment_variable\": false}, {\"name\": \"HistoryEnabled\", \"parameter_type\": \"3\", \"is_optional\": true, \"default_value\": \"true\", \"set_environment_variable\": false}], \"metadata_parameters\": [{\"name\": \"TargetType\", \"parameter_type\": \"3\", \"is_optional\": true, \"default_value\": \"MLC\", \"set_environment_variable\": false}, {\"name\": \"RequireGpu\", \"parameter_type\": \"2\", \"is_optional\": true, \"default_value\": \"False\", \"set_environment_variable\": false}, {\"name\": \"HasServingEntry\", \"parameter_type\": \"2\", \"is_optional\": true, \"default_value\": \"False\", \"set_environment_variable\": false}, {\"name\": \"PassthroughServingMode\", \"parameter_type\": \"2\", \"is_optional\": true, \"default_value\": \"False\", \"set_environment_variable\": false}, {\"name\": \"ModuleUI\", \"parameter_type\": \"3\", \"is_optional\": true, \"default_value\": \"Default\", \"set_environment_variable\": false}, {\"name\": \"ModuleVersion\", \"parameter_type\": \"3\", \"is_optional\": true, \"default_value\": \"0.0.2\", \"set_environment_variable\": false}, {\"name\": \"Owner\", \"parameter_type\": \"3\", \"is_optional\": true, \"set_environment_variable\": false}], \"arguments\": [{\"value_type\": \"0\", \"value\": \"--model_input\"}, {\"value_type\": \"2\", \"value\": \"model_input\"}, {\"value_type\": \"0\", \"value\": \"--test_data\"}, {\"value_type\": \"2\", \"value\": \"test_data\"}, {\"value_type\": \"0\", \"value\": \"--score_output\"}, {\"value_type\": \"3\", \"value\": \"score_output\"}]}, \"data_location\": {\"storage_type\": \"3\", \"storage_id\": \"b6410242-bccc-4b65-8926-659d49a63088\"}, \"identifier_hash\": \"30eb0aebb8e6a68dc5ea3b90d8fb4d1f\", \"tags\": {}, \"properties\": {\"Owner\": null, \"ModuleVersion\": \"0.0.2\", \"AmlModuleName\": \"microsoft.com/aml/samples://Score\", \"ModuleName\": \"Score\", \"Namespace\": \"microsoft.com/aml/samples\", \"FamilyId\": null, \"HelpDocument\": null, \"YamlLink\": \"score.yaml\", \"ModuleSourceType\": \"Local\"}, \"created_by\": {\"user_object_id\": \"32017ae3-7430-44bf-9a3c-9a201c8786f2\", \"user_tenant_id\": \"72f988bf-86f1-41af-91ab-2d7cd011db47\", \"user_name\": \"Jie Tong\"}, \"step_type\": \"PythonScriptModule\", \"name\": \"Score\", \"entity_status\": \"0\", \"id\": \"7dce6c2d-8fe6-4c5b-83d1-7a596a2204df\", \"etag\": \"\\\"4001399c-0000-0d00-0000-5e969e460000\\\"\", \"created_date\": \"0001-01-01T00:00:00.000Z\", \"last_modified_date\": \"2020-04-15T05:40:21.36208Z\", \"module_id\": \"37914d64-d581-4970-907c-dbe64b2da2f6\", \"version\": \"0.0.2\"}, {\"module_execution_type\": \"escloud\", \"upload_state\": \"1\", \"is_deterministic\": true, \"structured_interface\": {\"inputs\": [{\"name\": \"scoring_result\", \"label\": \"Scoring result file in TSV format\", \"data_type_ids_list\": [\"AnyFile\"], \"is_optional\": false, \"skip_processing\": false, \"is_resource\": false, \"data_store_mode\": \"1\", \"overwrite\": true, \"data_reference_name\": \"scoring_result\", \"dataset_types\": [\"0\", \"1\"]}], \"outputs\": [{\"name\": \"eval_output\", \"label\": \"Evaluation result\", \"data_type_id\": \"AnyDirectory\", \"skip_processing\": false, \"data_store_name\": \"workspaceblobstore\", \"data_store_mode\": \"1\", \"overwrite\": true, \"data_reference_name\": \"eval_output\"}], \"parameters\": [{\"name\": \"ServingEntry\", \"parameter_type\": \"3\", \"is_optional\": true, \"default_value\": \"\", \"set_environment_variable\": false}, {\"name\": \"Target\", \"parameter_type\": \"3\", \"is_optional\": true, \"set_environment_variable\": false}, {\"name\": \"MLCComputeType\", \"parameter_type\": \"3\", \"is_optional\": true, \"set_environment_variable\": false}, {\"name\": \"PrepareEnvironment\", \"parameter_type\": \"3\", \"is_optional\": true, \"default_value\": \"true\", \"set_environment_variable\": false}, {\"name\": \"Script\", \"parameter_type\": \"3\", \"is_optional\": true, \"default_value\": \"eval.py\", \"set_environment_variable\": false}, {\"name\": \"Arguments\", \"parameter_type\": \"3\", \"is_optional\": true, \"default_value\": \"\", \"set_environment_variable\": false}, {\"name\": \"Framework\", \"parameter_type\": \"3\", \"is_optional\": true, \"default_value\": \"Python\", \"set_environment_variable\": false}, {\"name\": \"InterpreterPath\", \"parameter_type\": \"3\", \"is_optional\": true, \"default_value\": \"python\", \"set_environment_variable\": false}, {\"name\": \"UserManagedDependencies\", \"parameter_type\": \"3\", \"is_optional\": true, \"default_value\": \"false\", \"set_environment_variable\": false}, {\"name\": \"CondaDependencies\", \"parameter_type\": \"3\", \"is_optional\": true, \"default_value\": \"{\\\"name\\\": \\\"project_environment\\\", \\\"channels\\\": [\\\"defaults\\\"], \\\"dependencies\\\": [\\\"python=3.6.8\\\", {\\\"pip\\\": [\\\"azureml-defaults\\\"]}]}\\r\\n\", \"set_environment_variable\": false}, {\"name\": \"DockerEnabled\", \"parameter_type\": \"3\", \"is_optional\": true, \"default_value\": \"true\", \"set_environment_variable\": false}, {\"name\": \"BaseDockerImage\", \"parameter_type\": \"3\", \"is_optional\": true, \"default_value\": \"mcr.microsoft.com/azureml/base:intelmpi2018.3-ubuntu16.04\", \"set_environment_variable\": false}, {\"name\": \"GpuSupport\", \"parameter_type\": \"3\", \"is_optional\": true, \"default_value\": \"false\", \"set_environment_variable\": false}, {\"name\": \"HistoryEnabled\", \"parameter_type\": \"3\", \"is_optional\": true, \"default_value\": \"true\", \"set_environment_variable\": false}], \"metadata_parameters\": [{\"name\": \"TargetType\", \"parameter_type\": \"3\", \"is_optional\": true, \"default_value\": \"MLC\", \"set_environment_variable\": false}, {\"name\": \"RequireGpu\", \"parameter_type\": \"2\", \"is_optional\": true, \"default_value\": \"False\", \"set_environment_variable\": false}, {\"name\": \"HasServingEntry\", \"parameter_type\": \"2\", \"is_optional\": true, \"default_value\": \"False\", \"set_environment_variable\": false}, {\"name\": \"PassthroughServingMode\", \"parameter_type\": \"2\", \"is_optional\": true, \"default_value\": \"False\", \"set_environment_variable\": false}, {\"name\": \"ModuleUI\", \"parameter_type\": \"3\", \"is_optional\": true, \"default_value\": \"Default\", \"set_environment_variable\": false}, {\"name\": \"ModuleVersion\", \"parameter_type\": \"3\", \"is_optional\": true, \"default_value\": \"0.0.1\", \"set_environment_variable\": false}, {\"name\": \"Owner\", \"parameter_type\": \"3\", \"is_optional\": true, \"set_environment_variable\": false}], \"arguments\": [{\"value_type\": \"0\", \"value\": \"--scoring_result\"}, {\"value_type\": \"2\", \"value\": \"scoring_result\"}, {\"value_type\": \"0\", \"value\": \"--eval_output\"}, {\"value_type\": \"3\", \"value\": \"eval_output\"}]}, \"data_location\": {\"storage_type\": \"3\", \"storage_id\": \"14cd630b-f11c-4075-acc0-0ffbc50b0094\"}, \"identifier_hash\": \"9765d41a565757bc5ef7749e7884d1ee\", \"tags\": {}, \"properties\": {\"Owner\": null, \"ModuleVersion\": \"0.0.1\", \"AmlModuleName\": \"microsoft.com/aml/samples://Evaluate\", \"ModuleName\": \"Evaluate\", \"Namespace\": \"microsoft.com/aml/samples\", \"FamilyId\": null, \"HelpDocument\": null, \"YamlLink\": \"eval.yaml\", \"ModuleSourceType\": \"Local\"}, \"created_by\": {\"user_object_id\": \"32017ae3-7430-44bf-9a3c-9a201c8786f2\", \"user_tenant_id\": \"72f988bf-86f1-41af-91ab-2d7cd011db47\", \"user_name\": \"Jie Tong\"}, \"step_type\": \"PythonScriptModule\", \"name\": \"Evaluate\", \"entity_status\": \"0\", \"id\": \"370fae11-9a53-454d-802c-fd677e3bced5\", \"etag\": \"\\\"40017e9f-0000-0d00-0000-5e969e7d0000\\\"\", \"created_date\": \"0001-01-01T00:00:00.000Z\", \"last_modified_date\": \"2020-04-15T05:41:17.009881Z\", \"module_id\": \"b631cada-c9f1-4af3-8497-025443728cb7\", \"version\": \"0.0.1\"}], \"datasources\": [{\"name\": \"training_data\", \"description\": null, \"version\": 1, \"tags\": {}, \"registered_id\": \"5d54fe4c-aa67-415b-801d-7e23ca459ded\", \"saved_id\": \"dd23f428-d733-468b-850f-4ba707f5c35e\"}, {\"name\": \"test_data\", \"description\": null, \"version\": 1, \"tags\": {}, \"registered_id\": \"b6b16099-99e9-49d6-8657-f5644872e223\", \"saved_id\": \"d10467ef-83d8-4a98-8ac6-148c32bf07a2\"}]};\n",
       "        </script>\n",
       "        <script src=\"https://yucongj-test.azureedge.net/libs/index.js?v=0.0.1\"></script>\n",
       "        "
      ],
      "text/plain": [
       "<IPython.core.display.HTML object>"
      ]
     },
     "metadata": {},
     "output_type": "display_data"
    },
    {
     "data": {
      "text/plain": [
       "[{'error': []}, {'error': []}, {'error': []}]"
      ]
     },
     "execution_count": 3,
     "metadata": {},
     "output_type": "execute_result"
    }
   ],
   "source": [
    "train = train_module_func(\n",
    "    training_data=train_data, \n",
    "    max_epochs=5, \n",
    "    learning_rate=0.02)\n",
    "\n",
    "score = score_module_func(\n",
    "    model_input=train.outputs.model_output, \n",
    "    test_data=test_data)\n",
    "\n",
    "eval = eval_module_func(scoring_result=score.outputs.score_output)\n",
    "\n",
    "pipeline = Pipeline(nodes=[train, score, eval], outputs=eval.outputs, name='a sample 3 step pipeline')\n",
    "\n",
    "pipeline.validate(ws, default_compute_target='cpu-cluster')\n"
   ]
  },
  {
   "cell_type": "code",
   "execution_count": null,
   "metadata": {},
   "outputs": [],
   "source": [
    "run = pipeline.submit_run(\n",
    "    ws, \n",
    "    experiment_name='sample-pipelines', \n",
    "    default_compute_target='cpu-cluster')\n",
    "\n",
    "run.wait_for_completion()"
   ]
  },
  {
   "cell_type": "code",
   "execution_count": null,
   "metadata": {},
   "outputs": [],
   "source": []
  }
 ],
 "metadata": {
  "kernelspec": {
   "display_name": "Python 3",
   "language": "python",
   "name": "python3"
  },
  "language_info": {
   "codemirror_mode": {
    "name": "ipython",
    "version": 3
   },
   "file_extension": ".py",
   "mimetype": "text/x-python",
   "name": "python",
   "nbconvert_exporter": "python",
   "pygments_lexer": "ipython3",
   "version": "3.7.6"
  }
 },
 "nbformat": 4,
 "nbformat_minor": 4
}
