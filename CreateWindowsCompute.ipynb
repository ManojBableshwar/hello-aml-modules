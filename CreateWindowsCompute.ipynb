{
 "cells": [
  {
   "cell_type": "code",
   "execution_count": 2,
   "metadata": {},
   "outputs": [
    {
     "output_type": "stream",
     "name": "stdout",
     "text": "SDK version: 1.6.0\n"
    }
   ],
   "source": [
    "import logging\n",
    "import traceback\n",
    "import azureml.core\n",
    "\n",
    "# Check core SDK version number\n",
    "print(\"SDK version:\", azureml.core.VERSION)"
   ]
  },
  {
   "cell_type": "code",
   "execution_count": 3,
   "metadata": {},
   "outputs": [],
   "source": [
    "# you need to configure your ws information here\n",
    "\n",
    "subscription_id = '74eccef0-4b8d-4f83-b5f9-fa100d155b22' #'d128f140-94e6-4175-87a7-954b9d27db16'  #\n",
    "workspace_name = 'lisal-amlservice' #'lisal-IgniteTest' #\n",
    "resource_group = 'lisal-dev'\n"
   ]
  },
  {
   "cell_type": "code",
   "execution_count": 4,
   "metadata": {},
   "outputs": [
    {
     "output_type": "stream",
     "name": "stderr",
     "text": "Warning: Falling back to use azure cli login credentials.\nIf you run your code in unattended mode, i.e., where you can't give a user input, then we recommend to use ServicePrincipalAuthentication or MsiAuthentication.\nPlease refer to aka.ms/aml-notebook-auth for different authentication mechanisms in azureml-sdk.\nSuccessfully connected to workspace.\n"
    }
   ],
   "source": [
    "from azureml.core.workspace import Workspace\n",
    "from azureml.core.workspace import UserErrorException\n",
    "from azureml.core.authentication import InteractiveLoginAuthentication\n",
    "\n",
    "# test if code above (option 1) failed\n",
    "try:\n",
    "    auth = InteractiveLoginAuthentication()\n",
    "\n",
    "    ws = Workspace.get(\n",
    "        subscription_id = subscription_id,\n",
    "        name            = workspace_name,  \n",
    "        resource_group  = resource_group,\n",
    "        auth=auth\n",
    "    )\n",
    "\n",
    "    print(\"Successfully connected to workspace.\")\n",
    "\n",
    "except UserErrorException:\n",
    "    logging.critical(\"Could not connect using the provided identifiers\\n{}\".format(traceback.format_exc()))"
   ]
  },
  {
   "cell_type": "code",
   "execution_count": 5,
   "metadata": {},
   "outputs": [
    {
     "output_type": "stream",
     "name": "stdout",
     "text": "creating a new compute target...\nCreating\nSucceeded\nAmlWindowsCompute wait for completion finished\nThere were errors reported from AmlWindowsCompute:\n[{'error': {'code': 'ClusterCoreQuotaReached', 'message': 'Operation results in exceeding quota limits of Total Cluster Dedicated Regional vCPUs. Maximum allowed: 100, Current in use: 100, Additional requested: 2. Please contact support to increase the quota for resource type Total Cluster Dedicated Regional vCPUs'}}]\n{'currentNodeCount': 0, 'targetNodeCount': 0, 'nodeStateCounts': {'preparingNodeCount': 0, 'runningNodeCount': 0, 'idleNodeCount': 0, 'unusableNodeCount': 0, 'leavingNodeCount': 0, 'preemptedNodeCount': 0}, 'allocationState': 'Steady', 'allocationStateTransitionTime': '2020-06-02T02:31:20.648000+00:00', 'errors': [{'error': {'code': 'ClusterCoreQuotaReached', 'message': 'Operation results in exceeding quota limits of Total Cluster Dedicated Regional vCPUs. Maximum allowed: 100, Current in use: 100, Additional requested: 2. Please contact support to increase the quota for resource type Total Cluster Dedicated Regional vCPUs'}}], 'creationTime': '2020-06-02T02:31:12.890600+00:00', 'modifiedTime': '2020-06-02T02:31:33.572071+00:00', 'provisioningState': 'Succeeded', 'provisioningStateTransitionTime': None, 'scaleSettings': {'minNodeCount': 1, 'maxNodeCount': 1, 'nodeIdleTimeBeforeScaleDown': ''}, 'vmPriority': 'Dedicated', 'vmSize': 'STANDARD_D2_V2', 'osType': 'Windows', 'virtualMachineImage': None}\n"
    }
   ],
   "source": [
    "from azureml.core.compute import ComputeTarget, AmlCompute\n",
    "from azureml.contrib.compute import AmlWindowsCompute\n",
    "\n",
    "compute_name = \"windows-cpu\"\n",
    "\n",
    "if compute_name in ws.compute_targets:\n",
    "    compute_target = ws.compute_targets[compute_name]\n",
    "    if compute_target and type(compute_target) is AmlCompute:\n",
    "        print('found compute target. just use it. ' + compute_name)\n",
    "else:\n",
    "    print('creating a new compute target...')\n",
    "    provisioning_config = AmlWindowsCompute.provisioning_configuration(\n",
    "        vm_size = \"STANDARD_D2_V2\",\n",
    "        vm_priority='dedicated',\n",
    "        min_nodes = 1,\n",
    "        max_nodes = 1,\n",
    "        admin_username='lisal',\n",
    "        admin_user_password='Greenview_1016',\n",
    "        remote_login_port_public_access='Enabled'\n",
    "    )\n",
    "    \n",
    "    # create the windows computecluster\n",
    "    compute_target = AmlWindowsCompute.create(ws, compute_name, provisioning_config)\n",
    "    \n",
    "    compute_target.wait_for_completion(show_output=True, min_node_count=None, timeout_in_minutes=15)\n",
    "    \n",
    "    print(compute_target.get_status().serialize())"
   ]
  },
  {
   "cell_type": "code",
   "execution_count": null,
   "metadata": {},
   "outputs": [],
   "source": []
  }
 ],
 "metadata": {
  "kernelspec": {
   "display_name": "Python 3.6.10 64-bit ('amlmodule': conda)",
   "language": "python",
   "name": "python361064bitamlmoduleconda94216afc072640efa4ed7a053209d802"
  },
  "language_info": {
   "codemirror_mode": {
    "name": "ipython",
    "version": 3
   },
   "file_extension": ".py",
   "mimetype": "text/x-python",
   "name": "python",
   "nbconvert_exporter": "python",
   "pygments_lexer": "ipython3",
   "version": "3.6.10-final"
  }
 },
 "nbformat": 4,
 "nbformat_minor": 4
}