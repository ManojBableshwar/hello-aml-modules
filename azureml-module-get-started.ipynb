{
 "cells": [
  {
   "cell_type": "markdown",
   "metadata": {},
   "source": [
    "# Build AML Pipeline with azureml modules\n",
    "\n",
    "In this tutorial you will learn how to work with Azure ML module:\n",
    "\n",
    "1. Setup enrivonment - install module CLI and module/pipeline SDK\n",
    "2. Register a few sample modules into your aml workspace using CLI\n",
    "3. Use module/pipeline SDK to create a pipeline with modules registered in step 2\n",
    "\n",
    "## Prerequisite\n",
    "* Install Azure CLI, please follow [the Azure CLI installation instructions](https://docs.microsoft.com/en-us/cli/azure/install-azure-cli?view=azure-cli-latest) to install.\n",
    "* Install docker desktop from [here](https://www.docker.com/products/docker-desktop) "
   ]
  },
  {
   "cell_type": "markdown",
   "metadata": {},
   "source": [
    "## Setup environment\n",
    "* Install Azure CLI AML extension which includes the _module_ command group\n",
    "* Install Azure ML SDK including the APIs to work with _module_ and _pipeline_"
   ]
  },
  {
   "cell_type": "code",
   "execution_count": 11,
   "metadata": {},
   "outputs": [],
   "source": [
    "CLI_SDK_VERSION=19657780"
   ]
  },
  {
   "cell_type": "code",
   "execution_count": null,
   "metadata": {
    "tags": []
   },
   "outputs": [],
   "source": [
    "!az extension remove -n azure-cli-ml \n",
    "\n",
    "# Install local version of azure-cli-ml (which includes `az ml module` commands)\n",
    "!az extension add --source https://azuremlsdktestpypi.azureedge.net/CLI-SDK-Runners-Validation/$CLI_SDK_VERSION/azure_cli_ml-0.1.0.$CLI_SDK_VERSION-py3-none-any.whl --pip-extra-index-urls https://azuremlsdktestpypi.azureedge.net/CLI-SDK-Runners-Validation/$CLI_SDK_VERSION --yes "
   ]
  },
  {
   "cell_type": "code",
   "execution_count": null,
   "metadata": {},
   "outputs": [],
   "source": [
    "# Verify the availability of `az ml module` commands\n",
    "#!az ml pipeline -h\n",
    "!az ml module -h"
   ]
  },
  {
   "cell_type": "code",
   "execution_count": null,
   "metadata": {
    "tags": [
     "outputPrepend"
    ]
   },
   "outputs": [],
   "source": [
    "# Install azureml-sdk with Pipeline, Module\n",
    "# Important! After install succeed, need to restart kernel\n",
    "\n",
    "%config IPCompleter.greedy=True \n",
    "!pip install azureml-pipeline-wrapper[notebooks]==0.1.0.$CLI_SDK_VERSION --extra-index-url https://azuremlsdktestpypi.azureedge.net/CLI-SDK-Runners-Validation/$CLI_SDK_VERSION --user --upgrade "
   ]
  },
  {
   "cell_type": "markdown",
   "metadata": {},
   "source": [
    "## Register azureml module\n",
    "\n",
    "You can manage AML module through [azure-cli-ml](https://aka.ms/moduledoc) or [ml.azure.com](https://ml.azure.com/). <br>\n",
    "\n",
    "Module could be registered from:\n",
    "- local path\n",
    "- public Github url\n",
    "- Azure DevOps build artifacts\n",
    "\n",
    "Azureml module support multiple module type:\n",
    "- Basic python module\n",
    "- Mpi module\n",
    "- Parallel run module\n",
    "- Hdi module (pending on backend support)"
   ]
  },
  {
   "cell_type": "code",
   "execution_count": 12,
   "metadata": {},
   "outputs": [],
   "source": [
    "# you need to configure your ws information here\n",
    "\n",
    "subscription_id = '74eccef0-4b8d-4f83-b5f9-fa100d155b22' #'4aaa645c-5ae2-4ae9-a17a-84b9023bc56a'#'74eccef0-4b8d-4f83-b5f9-fa100d155b22'\n",
    "workspace_name = 'lisal-amlservice' #'itp-pilot'#'kubeflow_ws_2' #'lisal-amlservice'\n",
    "resource_group = 'lisal-dev' #'itp-pilot-ResGrp'#'kubeflow-demo' #'lisal-dev'\n",
    "\n",
    "# Specify available aml compute in workspace\n",
    "pipeline_compute = 'always-on-ds2v2' #'k80-16-a'#'kubeflow-aks' #'always-on-ds2v2'"
   ]
  },
  {
   "cell_type": "code",
   "execution_count": null,
   "metadata": {
    "tags": [
     "outputPrepend"
    ]
   },
   "outputs": [],
   "source": [
    "# Configure your aml workspace \n",
    "\n",
    "!az login \n",
    "!az account set -s $subscription_id \n",
    "!az ml folder attach -w $workspace_name -g $resource_group \n",
    "\n",
    "# Configure global .amlignore, it's designed for register module from local development environment\n",
    "# !az configure --defaults module_amlignore_file=./.amlignore"
   ]
  },
  {
   "cell_type": "code",
   "execution_count": null,
   "metadata": {
    "tags": []
   },
   "outputs": [],
   "source": [
    "# Register azureml modules from github url\n",
    "\n",
    "!az ml module register --spec-file=https://github.com/lisagreenview/hello-aml-modules/blob/master/train-score-eval/mpi_train.yaml --set-as-default-version\n",
    "!az ml module register --spec-file=https://github.com/lisagreenview/hello-aml-modules/blob/master/train-score-eval/score.yaml --set-as-default-version\n",
    "!az ml module register --spec-file=https://github.com/lisagreenview/hello-aml-modules/blob/master/train-score-eval/eval.yaml --set-as-default-version\n",
    "!az ml module register --spec-file=https://github.com/lisagreenview/hello-aml-modules/blob/master/train-score-eval/compare2.yaml --set-as-default-version"
   ]
  },
  {
   "cell_type": "code",
   "execution_count": null,
   "metadata": {},
   "outputs": [],
   "source": [
    "# list available custom module in aml workspace\n",
    "!az ml module list -o table "
   ]
  },
  {
   "cell_type": "markdown",
   "metadata": {},
   "source": [
    "## Create pipeline\n",
    "You can build pipeline through SDK experience, or drag-n-drop way through [Designer](https://ml.azure.com/visualinterface?wsid=/subscriptions/74eccef0-4b8d-4f83-b5f9-fa100d155b22/resourcegroups/kubeflow-demo/workspaces/kubeflow_ws_1&flight=cm,nml,newGraphDetail,newGraphAuthoring,all&tid=72f988bf-86f1-41af-91ab-2d7cd011db47) in workspace portal\n",
    "\n",
    "The new SDK:\n",
    "* Symplified the syntax to provide consistent experience with drag-n-drop\n",
    "* Support intellisense and docstring, free you to work with dict all the time\n",
    "* Support creating a pipeline with unpublished module"
   ]
  },
  {
   "cell_type": "code",
   "execution_count": 13,
   "metadata": {
    "tags": []
   },
   "outputs": [
    {
     "output_type": "stream",
     "name": "stdout",
     "text": "Training dataset found in workspace\nTest dataset found in workspace\n"
    }
   ],
   "source": [
    "from azureml.core import Workspace, Run, Dataset\n",
    "from azureml.pipeline.wrapper import Pipeline, Module, dsl\n",
    "\n",
    "ws = Workspace.get(name=workspace_name, subscription_id=subscription_id, resource_group=resource_group)\n",
    "\n",
    "# get modules\n",
    "# load module from ws registered modules\n",
    "train_module_func = Module.load(ws, namespace='microsoft.com/aml/samples', name='MPI Train')\n",
    "score_module_func = Module.load(ws, namespace='microsoft.com/aml/samples', name='Score')\n",
    "eval_module_func = Module.load(ws, namespace='microsoft.com/aml/samples', name='Evaluate')\n",
    "compare_module_func = Module.load(ws, namespace='microsoft.com/aml/samples', name='Compare 2 Models')\n",
    "\n",
    "\"\"\"\n",
    "# load module from local unregistered module\n",
    "train_module_func = Module.from_yaml(ws, yaml_file='./train-score-eval/mpi_train.yaml')\n",
    "score_module_func = Module.from_yaml(ws, yaml_file='./train-score-eval/score.yaml')\n",
    "eval_module_func = Module.from_yaml(ws, yaml_file='./train-score-eval/eval.yaml')\n",
    "compare_module_func = Module.from_yaml(ws, yaml_file='./train-score-eval/compare2.yaml')\n",
    "\"\"\"\n",
    "\n",
    "# get dataset\n",
    "training_data_name = 'training_data'\n",
    "test_data_name = 'test_data'\n",
    "\n",
    "if training_data_name not in ws.datasets:\n",
    "    print('Registering a training dataset for sample pipeline ...')\n",
    "    train_data = Dataset.File.from_files(path=['https://dprepdata.blob.core.windows.net/demo/Titanic.csv'])\n",
    "    train_data.register(workspace = ws, \n",
    "                              name = training_data_name, \n",
    "                              description = 'Training data (just for illustrative purpose)')\n",
    "    print('Registerd')\n",
    "else:\n",
    "    train_data = ws.datasets[training_data_name]\n",
    "    print('Training dataset found in workspace')\n",
    "\n",
    "if test_data_name not in ws.datasets:\n",
    "    print('Registering a test dataset for sample pipeline ...')\n",
    "    test_data = Dataset.File.from_files(path=['https://dprepdata.blob.core.windows.net/demo/Titanic.csv'])\n",
    "    test_data.register(workspace = ws, \n",
    "                          name = test_data_name, \n",
    "                          description = 'Test data (just for illustrative purpose)')\n",
    "    print('Registered')\n",
    "else:\n",
    "    test_data = ws.datasets[test_data_name]    \n",
    "    print('Test dataset found in workspace')\n"
   ]
  },
  {
   "cell_type": "markdown",
   "metadata": {},
   "source": [
    "### dsl pipeline \n",
    "* 'Pipeline parameter' is exposed as pipeline function input parameter\n",
    "* Pipeline output is the return of pipeline function\n",
    "\n",
    "### module function\n",
    "* module input can be set through set_inputs() or module initialization function\n",
    "* module parameter can be set through set_parameter() or module initialization function\n",
    "* module runsetting including compute, datastore, data mode and other runtime parameter are set through runsettings.configure()\n"
   ]
  },
  {
   "cell_type": "code",
   "execution_count": 14,
   "metadata": {},
   "outputs": [],
   "source": [
    "# define a sub pipeline\n",
    "@dsl.pipeline(name = 'A sub pipeline including train-score-eval', \n",
    "              description = 'train model and evaluate model perf')\n",
    "def training_pipeline(input_data, test_data, learning_rate):\n",
    "    train = train_module_func()\n",
    "\n",
    "    train.set_inputs(training_data=input_data).set_parameters(learning_rate=learning_rate, max_epochs=5)\n",
    "    train.runsettings.configure(process_count_per_node = 1, node_count = 1)\n",
    "\n",
    "    score = score_module_func(\n",
    "        model_input=train.outputs.model_output, \n",
    "        test_data=test_data)\n",
    "\n",
    "    eval = eval_module_func(scoring_result=score.outputs.score_output)\n",
    "    \n",
    "    return {'eval_output': eval.outputs.eval_output, 'model_output': train.outputs.model_output}"
   ]
  },
  {
   "cell_type": "code",
   "execution_count": 15,
   "metadata": {},
   "outputs": [],
   "source": [
    "# define pipeline with sub pipeline\n",
    "@dsl.pipeline(name = 'A dummy pipeline that trains multiple models and output the best one', \n",
    "              description = 'select best model trained with different learning rate',\n",
    "              default_compute_target = pipeline_compute)\n",
    "def dummy_automl_pipeline(input_data, test_data):\n",
    "    train_and_evalute_model1 = training_pipeline(input_data, test_data, 0.01)\n",
    "    train_and_evalute_model2 = training_pipeline(input_data, test_data, 0.02)\n",
    "    \n",
    "    compare = compare_module_func(\n",
    "        model1=train_and_evalute_model1.outputs.model_output, \n",
    "        eval_result1=train_and_evalute_model1.outputs.eval_output,\n",
    "        model2=train_and_evalute_model2.outputs.model_output,\n",
    "        eval_result2=train_and_evalute_model2.outputs.eval_output\n",
    "    )\n",
    "\n",
    "    return {'best_model': compare.outputs.best_model, 'best_result': compare.outputs.best_result}\n",
    "\n",
    "# create a pipeline\n",
    "pipeline = dummy_automl_pipeline(input_data = train_data, test_data = test_data)"
   ]
  },
  {
   "cell_type": "code",
   "execution_count": null,
   "metadata": {
    "scrolled": false
   },
   "outputs": [],
   "source": [
    "# validate pipeline and visualize the graph\n",
    "pipeline.validate()"
   ]
  },
  {
   "cell_type": "code",
   "execution_count": null,
   "metadata": {},
   "outputs": [],
   "source": [
    "# save as a draft, then you can continue to modify the pipeline in AML Studio Designer page\n",
    "pipeline.save(experiment_name = 'pipeline-with-azureml-module')"
   ]
  },
  {
   "cell_type": "code",
   "execution_count": null,
   "metadata": {
    "tags": []
   },
   "outputs": [],
   "source": [
    "# pipeline parameter can be override when submit pipeline\n",
    "run = pipeline.submit(experiment_name='pipeline-with-azureml-module', tags={'mode':'module-SDK','SDK-version':f'{CLI_SDK_VERSION}'}, pipeline_parameters={'input_data':train_data,'test_data':test_data})\n",
    "run.wait_for_completion()"
   ]
  },
  {
   "cell_type": "code",
   "execution_count": 21,
   "metadata": {
    "tags": []
   },
   "outputs": [
    {
     "output_type": "display_data",
     "data": {
      "text/plain": "<IPython.core.display.Javascript object>",
      "application/javascript": "try {\n    require.undef(\"validate_widget\")\n\n    define('validate_widget', [\"@jupyter-widgets/base\"], function(widgets) {\n        var ValidateView = widgets.DOMWidgetView.extend({\n            render () {\n                window.widget_self = this\n                var visualize_id = this.model.get('visualize_id')\n\n                if (!window._renderLock) {\n                    window._renderLock = {}\n                }\n                if (window._renderLock[visualize_id]) {\n                    return\n                }\n                window._renderLock[visualize_id] = \"widget\"\n                console.log(\"load as widget\", Date.now())\n\n                var lib_url = this.model.get('lib_url')\n                var graph_json = JSON.parse(this.model.get('graph_json'))\n                var env_json = JSON.parse(this.model.get('env_json'))\n                var container_id = this.model.get('container_id')\n\n                window.render_container_id = container_id\n                window.graph_json = graph_json\n                window.graph_json_to_compare = undefined\n                window.env_json = env_json\n                window.before_script = performance.now()\n\n                var container = document.createElement('div')\n                container.id = container_id\n                this.el.appendChild(container)\n\n                var style = document.createElement('style')\n                style.innerHTML = [\n                    \"#\", container_id, \" svg.react-dag-editor-svg-container { height: 800px; }\",\n                    \".cell-output-ipywidget-background { background: transparent !important }\"\n                ].join('')\n                this.el.appendChild(style)\n\n                this.model.on('msg:custom', dispatchMessage, this);\n\n                if (!window.__event_hub) {\n                    window.__event_hub = {}\n                }\n                if (!window.__event_hub[container_id]) {\n                    window.__event_hub[container_id] = {}\n                }\n\n                if (!window.__send_event) {\n                    window.__send_event = {}\n                }\n                window.__send_event[container_id] = sendMessage.bind(this)\n\n                function sendMessage(message, uid, content) {\n                    return new Promise((resolve) => {\n                        this.model.send({\n                            message: `${message}:request`,\n                            body: {\n                                uid,\n                                content\n                            }\n                        })\n    \n                        var respMessageKey = `${message}:response`\n                        if (!window.__event_hub[container_id][respMessageKey]) {\n                            window.__event_hub[container_id][respMessageKey] = []\n                        }\n                        window.__event_hub[container_id][respMessageKey].push(callback)\n    \n                        function callback (response) {\n                            if (response.uid !== uid) {\n                                return\n                            }\n\n                            var idx = window.__event_hub[container_id][respMessageKey].indexOf(callback) \n                            window.__event_hub[container_id][respMessageKey].splice(idx, 1)\n                            \n                            resolve(response)\n                        }\n                    })\n                }\n\n                function dispatchMessage (rawMessage) {\n                    var message = rawMessage.message\n                    var body = rawMessage.body\n\n                    if (!window.__event_hub[container_id][message]) {\n                        window.__event_hub[container_id][message] = []\n                    }\n                    var listeners = window.__event_hub[container_id][message]\n\n                    listeners.forEach(cb => {\n                        try {\n                            cb(body)\n                        } catch (e) {\n                            console.error(\"Unexpected error in listener\", e)\n                        }\n                    })\n\n                    console.log(body)\n                }\n\n                var script = document.createElement('script')\n                script.src = lib_url\n                this.el.appendChild(script)\n            }\n        });\n\n        return {\n            ValidateView\n        }\n    })\n} catch (e) {\n    console.log(\"create validation widget failed\", e)\n}"
     },
     "metadata": {}
    },
    {
     "output_type": "display_data",
     "data": {
      "text/plain": "ValidateView(container_id='container_id_4e064602-ea4b-4cfe-b154-9acc639597f9_widget', env_json='{\"subscription…",
      "application/vnd.jupyter.widget-view+json": {
       "version_major": 2,
       "version_minor": 0,
       "model_id": "33c8d52e37f7408bb1d4c73927769792"
      }
     },
     "metadata": {}
    },
    {
     "output_type": "display_data",
     "data": {
      "text/plain": "<IPython.core.display.HTML object>",
      "text/html": "\n        <style>\n        #container_id_4e064602-ea4b-4cfe-b154-9acc639597f9_script svg.react-dag-editor-svg-container {\n            height: 800px;\n        }\n        </style>\n        <div id=\"container_id_4e064602-ea4b-4cfe-b154-9acc639597f9_script\"></div>\n        <script>\n            (function () {\n                if (!window._renderLock) {\n                    window._renderLock = {}\n                }\n                if (window._renderLock[\"4e064602-ea4b-4cfe-b154-9acc639597f9\"]) {\n                    return\n                }\n                window._renderLock[\"4e064602-ea4b-4cfe-b154-9acc639597f9\"] = \"script\"\n                console.log(\"load as script\", Date.now())\n                window.render_container_id=\"container_id_4e064602-ea4b-4cfe-b154-9acc639597f9_script\";\n                window.graph_json={\"pipeline\": {\"name\": [\"A dummy pipeline that trains multiple models and output the best one\"], \"data_references\": {\"ebcb018f\": {\"dataset_id\": \"003f5075-5ba4-4da7-827d-9ae98aa4bee1\"}, \"0e32cf25\": {\"dataset_id\": \"0c11ae96-7039-4d22-be8c-c6772708e2b8\"}}, \"steps\": {\"66d5c404\": {\"inputs\": {\"training_data\": {\"source\": \"training_data\"}}, \"outputs\": {\"model_output\": {\"destination\": \"3a76ce75-6381-454d-8682-f6aa8ffdbf9a_model_output\"}}, \"module\": {\"id\": \"eccbc194-8250-439e-bc0a-d213b5f129e9\", \"version\": \"0.0.9\"}, \"parameters\": {\"max_epochs\": 5, \"learning_rate\": 0.01}, \"validate\": {\"error\": [], \"module_id\": \"eccbc194-8250-439e-bc0a-d213b5f129e9\", \"namespace\": \"microsoft.com/aml/samples\", \"module_name\": \"MPI Train\", \"module_version\": \"0.0.9\"}}, \"37f79aa2\": {\"inputs\": {\"model_input\": {\"source\": \"3a76ce75-6381-454d-8682-f6aa8ffdbf9a_model_output\"}, \"test_data\": {\"source\": \"test_data\"}}, \"outputs\": {\"score_output\": {\"destination\": \"3d69c327-9b11-473c-96a1-d94d0cde7bb8_score_output\"}}, \"module\": {\"id\": \"6dccc1da-e702-4b06-9590-bbe201ec28f6\", \"version\": \"0.0.5\"}, \"parameters\": {}, \"validate\": {\"error\": [], \"module_id\": \"6dccc1da-e702-4b06-9590-bbe201ec28f6\", \"namespace\": \"microsoft.com/aml/samples\", \"module_name\": \"Score\", \"module_version\": \"0.0.5\"}}, \"24ab4eea\": {\"inputs\": {\"scoring_result\": {\"source\": \"3d69c327-9b11-473c-96a1-d94d0cde7bb8_score_output\"}}, \"outputs\": {\"eval_output\": {\"destination\": \"35469928-99c0-49f1-bcae-08267b7c6c4c_eval_output\"}}, \"module\": {\"id\": \"839c571b-f291-47a7-bfc6-28f847224ff6\", \"version\": \"0.0.7\"}, \"parameters\": {}, \"validate\": {\"error\": [], \"module_id\": \"839c571b-f291-47a7-bfc6-28f847224ff6\", \"namespace\": \"microsoft.com/aml/samples\", \"module_name\": \"Evaluate\", \"module_version\": \"0.0.7\"}}, \"08e56054\": {\"inputs\": {\"training_data\": {\"source\": \"training_data\"}}, \"outputs\": {\"model_output\": {\"destination\": \"442a45cd-167b-4b19-8f79-4db2921daeb8_model_output\"}}, \"module\": {\"id\": \"eccbc194-8250-439e-bc0a-d213b5f129e9\", \"version\": \"0.0.9\"}, \"parameters\": {\"max_epochs\": 5, \"learning_rate\": 0.02}, \"validate\": {\"error\": [], \"module_id\": \"eccbc194-8250-439e-bc0a-d213b5f129e9\", \"namespace\": \"microsoft.com/aml/samples\", \"module_name\": \"MPI Train\", \"module_version\": \"0.0.9\"}}, \"2f0704be\": {\"inputs\": {\"model_input\": {\"source\": \"442a45cd-167b-4b19-8f79-4db2921daeb8_model_output\"}, \"test_data\": {\"source\": \"test_data\"}}, \"outputs\": {\"score_output\": {\"destination\": \"f4941162-6839-4305-ab7a-7b652e290981_score_output\"}}, \"module\": {\"id\": \"6dccc1da-e702-4b06-9590-bbe201ec28f6\", \"version\": \"0.0.5\"}, \"parameters\": {}, \"validate\": {\"error\": [], \"module_id\": \"6dccc1da-e702-4b06-9590-bbe201ec28f6\", \"namespace\": \"microsoft.com/aml/samples\", \"module_name\": \"Score\", \"module_version\": \"0.0.5\"}}, \"fc9baaa2\": {\"inputs\": {\"scoring_result\": {\"source\": \"f4941162-6839-4305-ab7a-7b652e290981_score_output\"}}, \"outputs\": {\"eval_output\": {\"destination\": \"4a40f6c1-aa11-4fa6-b4ea-c775ef779b07_eval_output\"}}, \"module\": {\"id\": \"839c571b-f291-47a7-bfc6-28f847224ff6\", \"version\": \"0.0.7\"}, \"parameters\": {}, \"validate\": {\"error\": [], \"module_id\": \"839c571b-f291-47a7-bfc6-28f847224ff6\", \"namespace\": \"microsoft.com/aml/samples\", \"module_name\": \"Evaluate\", \"module_version\": \"0.0.7\"}}, \"d343f9a1\": {\"inputs\": {\"model1\": {\"source\": \"3a76ce75-6381-454d-8682-f6aa8ffdbf9a_model_output\"}, \"eval_result1\": {\"source\": \"35469928-99c0-49f1-bcae-08267b7c6c4c_eval_output\"}, \"model2\": {\"source\": \"442a45cd-167b-4b19-8f79-4db2921daeb8_model_output\"}, \"eval_result2\": {\"source\": \"4a40f6c1-aa11-4fa6-b4ea-c775ef779b07_eval_output\"}}, \"outputs\": {\"best_model\": {\"destination\": \"5a778bef-1519-4cf8-b0f3-b7e6de97ac65_best_model\"}, \"best_result\": {\"destination\": \"5a778bef-1519-4cf8-b0f3-b7e6de97ac65_best_result\"}}, \"module\": {\"id\": \"2fac1a9d-cd6d-4c99-8f10-51afa9aea851\", \"version\": \"0.0.9\"}, \"parameters\": {}, \"validate\": {\"error\": [], \"module_id\": \"2fac1a9d-cd6d-4c99-8f10-51afa9aea851\", \"namespace\": \"microsoft.com/aml/samples\", \"module_name\": \"Compare 2 Models\", \"module_version\": \"0.0.9\"}}}}, \"modules\": [{\"module_id\": \"eccbc194-8250-439e-bc0a-d213b5f129e9\", \"version\": \"0.0.9\", \"name\": \"MPI Train\", \"namespace\": \"microsoft.com/aml/samples\", \"structured_interface\": {\"inputs\": [{\"name\": \"training_data\", \"label\": \"training_data\", \"description\": \"Training data organized in the torchvision format/structure\", \"data_type_ids_list\": [\"AnyFile\", \"AnyDirectory\"]}], \"outputs\": [{\"name\": \"model_output\", \"label\": \"model_output\", \"description\": \"The output model (zipped)\", \"data_type_id\": \"AnyDirectory\"}]}}, {\"module_id\": \"6dccc1da-e702-4b06-9590-bbe201ec28f6\", \"version\": \"0.0.5\", \"name\": \"Score\", \"namespace\": \"microsoft.com/aml/samples\", \"structured_interface\": {\"inputs\": [{\"name\": \"model_input\", \"label\": \"model_input\", \"description\": \"Zipped model file\", \"data_type_ids_list\": [\"AnyDirectory\"]}, {\"name\": \"test_data\", \"label\": \"test_data\", \"description\": \"Test data organized in the torchvision format/structure\", \"data_type_ids_list\": [\"AnyFile\", \"AnyDirectory\"]}], \"outputs\": [{\"name\": \"score_output\", \"label\": \"score_output\", \"description\": \"The scoring result in TSV\", \"data_type_id\": \"AnyDirectory\"}]}}, {\"module_id\": \"839c571b-f291-47a7-bfc6-28f847224ff6\", \"version\": \"0.0.7\", \"name\": \"Evaluate\", \"namespace\": \"microsoft.com/aml/samples\", \"structured_interface\": {\"inputs\": [{\"name\": \"scoring_result\", \"label\": \"scoring_result\", \"description\": \"Scoring result file in TSV format\", \"data_type_ids_list\": [\"AnyDirectory\"]}], \"outputs\": [{\"name\": \"eval_output\", \"label\": \"eval_output\", \"description\": \"Evaluation result\", \"data_type_id\": \"AnyDirectory\"}]}}, {\"module_id\": \"2fac1a9d-cd6d-4c99-8f10-51afa9aea851\", \"version\": \"0.0.9\", \"name\": \"Compare 2 Models\", \"namespace\": \"microsoft.com/aml/samples\", \"structured_interface\": {\"inputs\": [{\"name\": \"model1\", \"label\": \"model1\", \"description\": \"The first model to compare with\", \"data_type_ids_list\": [\"AnyDirectory\"]}, {\"name\": \"eval_result1\", \"label\": \"eval_result1\", \"description\": \"The evaluation result of first model\", \"data_type_ids_list\": [\"AnyDirectory\"]}, {\"name\": \"model2\", \"label\": \"model2\", \"description\": \"The second model to compare\", \"data_type_ids_list\": [\"AnyDirectory\"]}, {\"name\": \"eval_result2\", \"label\": \"eval_result2\", \"description\": \"The evaluation result of second model\", \"data_type_ids_list\": [\"AnyDirectory\"]}], \"outputs\": [{\"name\": \"best_model\", \"label\": \"best_model\", \"description\": \"The better model among the two\", \"data_type_id\": \"AnyDirectory\"}, {\"name\": \"best_result\", \"label\": \"best_result\", \"description\": \"The better model evaluation result among the two\", \"data_type_id\": \"AnyDirectory\"}]}}], \"datasources\": [{\"name\": \"training_data\", \"description\": \"Training data (just for illustrative purpose)\", \"version\": 1, \"tags\": {}, \"registered_id\": \"003f5075-5ba4-4da7-827d-9ae98aa4bee1\", \"saved_id\": \"021133c1-3f40-4b7d-a4c1-922d96800547\", \"nodeId\": \"e99a2512-122d-3571-b2a7-0fa1a6ccefc9\"}, {\"name\": \"test_data\", \"description\": \"Test data (just for illustrative purpose)\", \"version\": 1, \"tags\": {}, \"registered_id\": \"0c11ae96-7039-4d22-be8c-c6772708e2b8\", \"saved_id\": \"ccf26e3f-b0d1-4aa5-aa33-b8480f71ee1b\", \"nodeId\": \"24606a92-0bf5-385f-912a-5249b8a0bc94\"}], \"subGraphInfo\": [{\"name\": \"A dummy pipeline that trains multiple models and output the best one\", \"description\": \"select best model trained with different learning rate\", \"default_compute_target\": {\"name\": \"always-on-ds2v2\"}, \"default_data_store\": {\"data_store_name\": \"workspaceblobstore\"}, \"id\": \"16869730-baaf-42c9-8d5f-2ed6de74e85d\", \"pipeline_definition_id\": \"2e6185ac-d916-497d-bef5-a14060029b03\", \"sub_graph_parameter_assignment\": [{\"parameter\": {\"name\": \"input_data\"}, \"parameter_assignments\": [{\"node_id\": \"a62cc86e-7c37-4f6c-b75e-507ae782e4ac\", \"parameter_name\": \"input_data\"}, {\"node_id\": \"d3a24d0d-9adc-484e-80bc-8d8bf7092f0e\", \"parameter_name\": \"input_data\"}]}, {\"parameter\": {\"name\": \"test_data\"}, \"parameter_assignments\": [{\"node_id\": \"a62cc86e-7c37-4f6c-b75e-507ae782e4ac\", \"parameter_name\": \"test_data\"}, {\"node_id\": \"d3a24d0d-9adc-484e-80bc-8d8bf7092f0e\", \"parameter_name\": \"test_data\"}]}], \"sub_graph_data_path_parameter_assignment\": [], \"sub_graph_default_compute_target_nodes\": [\"d343f9a1\"], \"sub_graph_default_data_store_nodes\": [\"d343f9a1\"], \"inputs\": [{\"name\": \"input_data\", \"internal\": [{\"node_id\": \"d3a24d0d-9adc-484e-80bc-8d8bf7092f0e\", \"port_name\": \"input_data\"}], \"external\": []}, {\"name\": \"test_data\", \"internal\": [{\"node_id\": \"d3a24d0d-9adc-484e-80bc-8d8bf7092f0e\", \"port_name\": \"test_data\"}], \"external\": []}], \"outputs\": [{\"name\": \"best_model\", \"internal\": [{\"node_id\": \"d343f9a1\", \"port_name\": \"best_model\"}], \"external\": []}, {\"name\": \"best_result\", \"internal\": [{\"node_id\": \"d343f9a1\", \"port_name\": \"best_result\"}], \"external\": []}]}, {\"name\": \"A sub pipeline including train-score-eval\", \"description\": \"train model and evaluate model perf\", \"default_compute_target\": {}, \"default_data_store\": {\"data_store_name\": \"workspaceblobstore\"}, \"id\": \"a62cc86e-7c37-4f6c-b75e-507ae782e4ac\", \"parent_graph_id\": \"16869730-baaf-42c9-8d5f-2ed6de74e85d\", \"pipeline_definition_id\": \"67c6843f-23d6-4f63-acb0-4e4653a9066e\", \"sub_graph_parameter_assignment\": [{\"parameter\": {\"name\": \"input_data\", \"default_value\": \"FileDataset\\n{\\n  \\\"source\\\": [\\n    \\\"https://dprepdata.blob.core.windows.net/demo/Titanic.csv\\\"\\n  ],\\n  \\\"definition\\\": [\\n    \\\"GetFiles\\\"\\n  ],\\n  \\\"registration\\\": {\\n    \\\"id\\\": \\\"021133c1-3f40-4b7d-a4c1-922d96800547\\\",\\n    \\\"name\\\": \\\"training_data\\\",\\n    \\\"version\\\": 1,\\n    \\\"description\\\": \\\"Training data (just for illustrative purpose)\\\",\\n    \\\"workspace\\\": \\\"Workspace.create(name='lisal-amlservice', subscription_id='74eccef0-4b8d-4f83-b5f9-fa100d155b22', resource_group='lisal-dev')\\\"\\n  }\\n}\"}, \"parameter_assignments\": [{\"node_id\": \"66d5c404\", \"parameter_name\": \"training_data\"}]}, {\"parameter\": {\"name\": \"test_data\", \"default_value\": \"FileDataset\\n{\\n  \\\"source\\\": [\\n    \\\"https://dprepdata.blob.core.windows.net/demo/Titanic.csv\\\"\\n  ],\\n  \\\"definition\\\": [\\n    \\\"GetFiles\\\"\\n  ],\\n  \\\"registration\\\": {\\n    \\\"id\\\": \\\"ccf26e3f-b0d1-4aa5-aa33-b8480f71ee1b\\\",\\n    \\\"name\\\": \\\"test_data\\\",\\n    \\\"version\\\": 1,\\n    \\\"description\\\": \\\"Test data (just for illustrative purpose)\\\",\\n    \\\"workspace\\\": \\\"Workspace.create(name='lisal-amlservice', subscription_id='74eccef0-4b8d-4f83-b5f9-fa100d155b22', resource_group='lisal-dev')\\\"\\n  }\\n}\"}, \"parameter_assignments\": [{\"node_id\": \"37f79aa2\", \"parameter_name\": \"test_data\"}]}, {\"parameter\": {\"name\": \"learning_rate\"}, \"parameter_assignments\": [{\"node_id\": \"66d5c404\", \"parameter_name\": \"learning_rate\"}]}], \"sub_graph_data_path_parameter_assignment\": [], \"sub_graph_default_compute_target_nodes\": [\"66d5c404\", \"37f79aa2\", \"24ab4eea\"], \"sub_graph_default_data_store_nodes\": [], \"inputs\": [{\"name\": \"input_data\", \"internal\": [{\"node_id\": \"66d5c404\", \"port_name\": \"training_data\"}], \"external\": [{\"node_id\": \"e99a2512-122d-3571-b2a7-0fa1a6ccefc9\", \"port_name\": \"output\"}]}, {\"name\": \"test_data\", \"internal\": [{\"node_id\": \"37f79aa2\", \"port_name\": \"test_data\"}], \"external\": [{\"node_id\": \"24606a92-0bf5-385f-912a-5249b8a0bc94\", \"port_name\": \"output\"}]}], \"outputs\": [{\"name\": \"eval_output\", \"internal\": [{\"node_id\": \"24ab4eea\", \"port_name\": \"eval_output\"}], \"external\": [{\"node_id\": \"d343f9a1\", \"port_name\": \"eval_result1\"}]}, {\"name\": \"model_output\", \"internal\": [{\"node_id\": \"66d5c404\", \"port_name\": \"model_output\"}], \"external\": [{\"node_id\": \"37f79aa2\", \"port_name\": \"model_input\"}, {\"node_id\": \"d343f9a1\", \"port_name\": \"model1\"}]}]}, {\"name\": \"A sub pipeline including train-score-eval\", \"description\": \"train model and evaluate model perf\", \"default_compute_target\": {}, \"default_data_store\": {\"data_store_name\": \"workspaceblobstore\"}, \"id\": \"d3a24d0d-9adc-484e-80bc-8d8bf7092f0e\", \"parent_graph_id\": \"16869730-baaf-42c9-8d5f-2ed6de74e85d\", \"pipeline_definition_id\": \"67c6843f-23d6-4f63-acb0-4e4653a9066e\", \"sub_graph_parameter_assignment\": [{\"parameter\": {\"name\": \"input_data\", \"default_value\": \"FileDataset\\n{\\n  \\\"source\\\": [\\n    \\\"https://dprepdata.blob.core.windows.net/demo/Titanic.csv\\\"\\n  ],\\n  \\\"definition\\\": [\\n    \\\"GetFiles\\\"\\n  ],\\n  \\\"registration\\\": {\\n    \\\"id\\\": \\\"021133c1-3f40-4b7d-a4c1-922d96800547\\\",\\n    \\\"name\\\": \\\"training_data\\\",\\n    \\\"version\\\": 1,\\n    \\\"description\\\": \\\"Training data (just for illustrative purpose)\\\",\\n    \\\"workspace\\\": \\\"Workspace.create(name='lisal-amlservice', subscription_id='74eccef0-4b8d-4f83-b5f9-fa100d155b22', resource_group='lisal-dev')\\\"\\n  }\\n}\"}, \"parameter_assignments\": [{\"node_id\": \"08e56054\", \"parameter_name\": \"training_data\"}]}, {\"parameter\": {\"name\": \"test_data\", \"default_value\": \"FileDataset\\n{\\n  \\\"source\\\": [\\n    \\\"https://dprepdata.blob.core.windows.net/demo/Titanic.csv\\\"\\n  ],\\n  \\\"definition\\\": [\\n    \\\"GetFiles\\\"\\n  ],\\n  \\\"registration\\\": {\\n    \\\"id\\\": \\\"ccf26e3f-b0d1-4aa5-aa33-b8480f71ee1b\\\",\\n    \\\"name\\\": \\\"test_data\\\",\\n    \\\"version\\\": 1,\\n    \\\"description\\\": \\\"Test data (just for illustrative purpose)\\\",\\n    \\\"workspace\\\": \\\"Workspace.create(name='lisal-amlservice', subscription_id='74eccef0-4b8d-4f83-b5f9-fa100d155b22', resource_group='lisal-dev')\\\"\\n  }\\n}\"}, \"parameter_assignments\": [{\"node_id\": \"2f0704be\", \"parameter_name\": \"test_data\"}]}, {\"parameter\": {\"name\": \"learning_rate\"}, \"parameter_assignments\": [{\"node_id\": \"08e56054\", \"parameter_name\": \"learning_rate\"}]}], \"sub_graph_data_path_parameter_assignment\": [], \"sub_graph_default_compute_target_nodes\": [\"08e56054\", \"2f0704be\", \"fc9baaa2\"], \"sub_graph_default_data_store_nodes\": [], \"inputs\": [{\"name\": \"input_data\", \"internal\": [{\"node_id\": \"08e56054\", \"port_name\": \"training_data\"}], \"external\": [{\"node_id\": \"e99a2512-122d-3571-b2a7-0fa1a6ccefc9\", \"port_name\": \"output\"}]}, {\"name\": \"test_data\", \"internal\": [{\"node_id\": \"2f0704be\", \"port_name\": \"test_data\"}], \"external\": [{\"node_id\": \"24606a92-0bf5-385f-912a-5249b8a0bc94\", \"port_name\": \"output\"}]}], \"outputs\": [{\"name\": \"eval_output\", \"internal\": [{\"node_id\": \"fc9baaa2\", \"port_name\": \"eval_output\"}], \"external\": [{\"node_id\": \"d343f9a1\", \"port_name\": \"eval_result2\"}]}, {\"name\": \"model_output\", \"internal\": [{\"node_id\": \"08e56054\", \"port_name\": \"model_output\"}], \"external\": [{\"node_id\": \"2f0704be\", \"port_name\": \"model_input\"}, {\"node_id\": \"d343f9a1\", \"port_name\": \"model2\"}]}]}], \"nodeIdToSubGraphIdMapping\": {\"66d5c404\": \"a62cc86e-7c37-4f6c-b75e-507ae782e4ac\", \"37f79aa2\": \"a62cc86e-7c37-4f6c-b75e-507ae782e4ac\", \"24ab4eea\": \"a62cc86e-7c37-4f6c-b75e-507ae782e4ac\", \"08e56054\": \"d3a24d0d-9adc-484e-80bc-8d8bf7092f0e\", \"2f0704be\": \"d3a24d0d-9adc-484e-80bc-8d8bf7092f0e\", \"fc9baaa2\": \"d3a24d0d-9adc-484e-80bc-8d8bf7092f0e\", \"d343f9a1\": \"16869730-baaf-42c9-8d5f-2ed6de74e85d\"}, \"subPipelineDefinition\": [{\"name\": \"A dummy pipeline that trains multiple models and output the best one\", \"description\": \"select best model trained with different learning rate\", \"default_compute_target\": {\"name\": \"always-on-ds2v2\"}, \"default_data_store\": {\"data_store_name\": \"workspaceblobstore\"}, \"pipeline_function_name\": \"dummy_automl_pipeline\", \"id\": \"2e6185ac-d916-497d-bef5-a14060029b03\", \"from_module_name\": \"__main__\", \"parameter_list\": [{\"key\": \"input_data\"}, {\"key\": \"test_data\"}]}, {\"name\": \"A sub pipeline including train-score-eval\", \"description\": \"train model and evaluate model perf\", \"default_compute_target\": {}, \"default_data_store\": {\"data_store_name\": \"workspaceblobstore\"}, \"pipeline_function_name\": \"training_pipeline\", \"id\": \"67c6843f-23d6-4f63-acb0-4e4653a9066e\", \"from_module_name\": \"__main__\", \"parameter_list\": [{\"key\": \"input_data\"}, {\"key\": \"test_data\"}, {\"key\": \"learning_rate\"}]}]};\n                window.graph_json_to_compare=undefined;\n                window.env_json={\"subscription_id\": \"74eccef0-4b8d-4f83-b5f9-fa100d155b22\"};\n                window.before_script = performance.now();\n                var script = document.createElement('script')\n                script.src = \"https://yucongj.azureedge.net/libs/prod/0.0.8/index.js\"\n                document.getElementById(\"container_id_4e064602-ea4b-4cfe-b154-9acc639597f9_script\").appendChild(script)\n            })()\n        </script>\n        "
     },
     "metadata": {}
    },
    {
     "output_type": "stream",
     "name": "stdout",
     "text": "Working dir: C:\\Users\\lisal\\AppData\\Local\\Temp\\pipeline-local_run\\904a31dc-e103-4ab5-943e-b22108173ea3\nRunId: 904a31dc-e103-4ab5-943e-b22108173ea3\nLink to Azure Machine Learning Portal: https://ml.azure.com/experiments/pipeline-local_run/runs/904a31dc-e103-4ab5-943e-b22108173ea3?wsid=/subscriptions/74eccef0-4b8d-4f83-b5f9-fa100d155b22/resourcegroups/lisal-dev/workspaces/lisal-amlservice\nPreparing pipeline dataset.\nPrepared pipeline dataset.\n\nC:\\Users\\lisal\\AppData\\Local\\Temp\\pipeline-local_run\\904a31dc-e103-4ab5-943e-b22108173ea3\\A sub pipeline including train-score-eval\\MPI Train_8b293b1a-3821-439d-be83-85dcc76b8015\\excutionlogs.txt\n===================================================================================================================================================================================================\nPreparing snapshot\nPrepared snapshot, time elapsed 0:00:04.244330\nPreparing experiment and run in run history\nPrepared experiment and run in run history, time elapsed 0:00:04.019012\nRunId: 8b293b1a-3821-439d-be83-85dcc76b8015\nLink to Azure Machine Learning Portal: https://ml.azure.com/experiments/pipeline-local_run/runs/8b293b1a-3821-439d-be83-85dcc76b8015?wsid=/subscriptions/74eccef0-4b8d-4f83-b5f9-fa100d155b22/resourcegroups/lisal-dev/workspaces/lisal-amlservice\nPulling image from ACR (this may take a few minutes depending on image size)...\n\nlatest: Pulling from azureml/azureml_b970825f13af4adc0119eba188caf5b5\nDigest: sha256:a9347cc16470002d9570b07f7d6d0160e9fa926c7972bef59a1031e689ec6706\nStatus: Image is up to date for lisalamlservic4650097583.azurecr.io/azureml/azureml_b970825f13af4adc0119eba188caf5b5\nStart running module MPI Train\nFinish running module MPI Train, module run status is Completed\nFinish upload run status to runhistory\n\nC:\\Users\\lisal\\AppData\\Local\\Temp\\pipeline-local_run\\904a31dc-e103-4ab5-943e-b22108173ea3\\A sub pipeline including train-score-eval\\MPI Train_8b293b1a-3821-439d-be83-85dcc76b8015\\module-log.txt\n=================================================================================================================================================================================================\nhostname:  7f6f03e42efa  host ip:  172.17.0.3\nMpi rank:  0  size:  1  local rank:  0\nTraining data path: /mnt/input/training_data\nMax epochs: 5\nLearning rate: 0.01\nModel output path: /mnt/outputs/model_output\n\nC:\\Users\\lisal\\AppData\\Local\\Temp\\pipeline-local_run\\904a31dc-e103-4ab5-943e-b22108173ea3\\A sub pipeline including train-score-eval\\MPI Train_4b48f08d-90f6-4f07-8358-7143b92d82bf\\excutionlogs.txt\n===================================================================================================================================================================================================\nPreparing snapshot\nPrepared snapshot, time elapsed 0:00:02.703353\nPreparing experiment and run in run history\nPrepared experiment and run in run history, time elapsed 0:00:03.504499\nRunId: 4b48f08d-90f6-4f07-8358-7143b92d82bf\nLink to Azure Machine Learning Portal: https://ml.azure.com/experiments/pipeline-local_run/runs/4b48f08d-90f6-4f07-8358-7143b92d82bf?wsid=/subscriptions/74eccef0-4b8d-4f83-b5f9-fa100d155b22/resourcegroups/lisal-dev/workspaces/lisal-amlservice\nPulling image from ACR (this may take a few minutes depending on image size)...\n\nlatest: Pulling from azureml/azureml_b970825f13af4adc0119eba188caf5b5\nDigest: sha256:a9347cc16470002d9570b07f7d6d0160e9fa926c7972bef59a1031e689ec6706\nStatus: Image is up to date for lisalamlservic4650097583.azurecr.io/azureml/azureml_b970825f13af4adc0119eba188caf5b5\nStart running module MPI Train\nFinish running module MPI Train, module run status is Completed\nFinish upload run status to runhistory\n\nC:\\Users\\lisal\\AppData\\Local\\Temp\\pipeline-local_run\\904a31dc-e103-4ab5-943e-b22108173ea3\\A sub pipeline including train-score-eval\\MPI Train_4b48f08d-90f6-4f07-8358-7143b92d82bf\\module-log.txt\n=================================================================================================================================================================================================\nhostname:  f4469a171dac  host ip:  172.17.0.2\nMpi rank:  0  size:  1  local rank:  0\nTraining data path: /mnt/input/training_data\nMax epochs: 5\nLearning rate: 0.02\nModel output path: /mnt/outputs/model_output\n\nC:\\Users\\lisal\\AppData\\Local\\Temp\\pipeline-local_run\\904a31dc-e103-4ab5-943e-b22108173ea3\\A sub pipeline including train-score-eval\\Score_742962b6-313d-4d5a-a913-31b1f6e6a699\\excutionlogs.txt\n===============================================================================================================================================================================================\nPreparing snapshot\nPrepared snapshot, time elapsed 0:00:03.804428\nPreparing experiment and run in run history\nPrepared experiment and run in run history, time elapsed 0:00:05.388759\nRunId: 742962b6-313d-4d5a-a913-31b1f6e6a699\nLink to Azure Machine Learning Portal: https://ml.azure.com/experiments/pipeline-local_run/runs/742962b6-313d-4d5a-a913-31b1f6e6a699?wsid=/subscriptions/74eccef0-4b8d-4f83-b5f9-fa100d155b22/resourcegroups/lisal-dev/workspaces/lisal-amlservice\nPulling image from ACR (this may take a few minutes depending on image size)...\n\nlatest: Pulling from azureml/azureml_deb4fc757a940ccd8fb8b41b4cf4580c\nDigest: sha256:bfcf27e8c13598ac9ea2b67fd150e66362b62257e3b9511184eabb3bbb771991\nStatus: Image is up to date for lisalamlservic4650097583.azurecr.io/azureml/azureml_deb4fc757a940ccd8fb8b41b4cf4580c\nStart running module Score\nFinish running module Score, module run status is Completed\nFinish upload run status to runhistory\n\nC:\\Users\\lisal\\AppData\\Local\\Temp\\pipeline-local_run\\904a31dc-e103-4ab5-943e-b22108173ea3\\A sub pipeline including train-score-eval\\Score_742962b6-313d-4d5a-a913-31b1f6e6a699\\module-log.txt\n=============================================================================================================================================================================================\nModel path: /mnt/input/model_input\nTest data path: /mnt/input/test_data\nScoring output path: /mnt/outputs/score_output\n\nC:\\Users\\lisal\\AppData\\Local\\Temp\\pipeline-local_run\\904a31dc-e103-4ab5-943e-b22108173ea3\\A sub pipeline including train-score-eval\\Score_addf0bde-6baf-4463-98d5-e98e75e7d88e\\excutionlogs.txt\n===============================================================================================================================================================================================\nPreparing snapshot\nPrepared snapshot, time elapsed 0:00:02.662666\nPreparing experiment and run in run history\nPrepared experiment and run in run history, time elapsed 0:00:04.899937\nRunId: addf0bde-6baf-4463-98d5-e98e75e7d88e\nLink to Azure Machine Learning Portal: https://ml.azure.com/experiments/pipeline-local_run/runs/addf0bde-6baf-4463-98d5-e98e75e7d88e?wsid=/subscriptions/74eccef0-4b8d-4f83-b5f9-fa100d155b22/resourcegroups/lisal-dev/workspaces/lisal-amlservice\nPulling image from ACR (this may take a few minutes depending on image size)...\n\nlatest: Pulling from azureml/azureml_deb4fc757a940ccd8fb8b41b4cf4580c\nDigest: sha256:bfcf27e8c13598ac9ea2b67fd150e66362b62257e3b9511184eabb3bbb771991\nStatus: Image is up to date for lisalamlservic4650097583.azurecr.io/azureml/azureml_deb4fc757a940ccd8fb8b41b4cf4580c\nStart running module Score\nFinish running module Score, module run status is Completed\nFinish upload run status to runhistory\n\nC:\\Users\\lisal\\AppData\\Local\\Temp\\pipeline-local_run\\904a31dc-e103-4ab5-943e-b22108173ea3\\A sub pipeline including train-score-eval\\Score_addf0bde-6baf-4463-98d5-e98e75e7d88e\\module-log.txt\n=============================================================================================================================================================================================\nModel path: /mnt/input/model_input\nTest data path: /mnt/input/test_data\nScoring output path: /mnt/outputs/score_output\n\nC:\\Users\\lisal\\AppData\\Local\\Temp\\pipeline-local_run\\904a31dc-e103-4ab5-943e-b22108173ea3\\A sub pipeline including train-score-eval\\Evaluate_407721de-c442-4d9b-9ff0-f05ae8fb458f\\excutionlogs.txt\n==================================================================================================================================================================================================\nPreparing snapshot\nPrepared snapshot, time elapsed 0:00:03.071518\nPreparing experiment and run in run history\nPrepared experiment and run in run history, time elapsed 0:00:01.887606\nRunId: 407721de-c442-4d9b-9ff0-f05ae8fb458f\nLink to Azure Machine Learning Portal: https://ml.azure.com/experiments/pipeline-local_run/runs/407721de-c442-4d9b-9ff0-f05ae8fb458f?wsid=/subscriptions/74eccef0-4b8d-4f83-b5f9-fa100d155b22/resourcegroups/lisal-dev/workspaces/lisal-amlservice\nPulling image from ACR (this may take a few minutes depending on image size)...\n\nlatest: Pulling from azureml/azureml_deb4fc757a940ccd8fb8b41b4cf4580c\nDigest: sha256:bfcf27e8c13598ac9ea2b67fd150e66362b62257e3b9511184eabb3bbb771991\nStatus: Image is up to date for lisalamlservic4650097583.azurecr.io/azureml/azureml_deb4fc757a940ccd8fb8b41b4cf4580c\nStart running module Evaluate\nFinish running module Evaluate, module run status is Completed\nFinish upload run status to runhistory\n\nC:\\Users\\lisal\\AppData\\Local\\Temp\\pipeline-local_run\\904a31dc-e103-4ab5-943e-b22108173ea3\\A sub pipeline including train-score-eval\\Evaluate_ab0d90f6-1b6e-49c7-8458-8e89b4e2c3a6\\excutionlogs.txt\n==================================================================================================================================================================================================\nPreparing snapshot\nPrepared snapshot, time elapsed 0:00:05.671078\nPreparing experiment and run in run history\nPrepared experiment and run in run history, time elapsed 0:00:01.955875\nRunId: ab0d90f6-1b6e-49c7-8458-8e89b4e2c3a6\nLink to Azure Machine Learning Portal: https://ml.azure.com/experiments/pipeline-local_run/runs/ab0d90f6-1b6e-49c7-8458-8e89b4e2c3a6?wsid=/subscriptions/74eccef0-4b8d-4f83-b5f9-fa100d155b22/resourcegroups/lisal-dev/workspaces/lisal-amlservice\nPulling image from ACR (this may take a few minutes depending on image size)...\n\nlatest: Pulling from azureml/azureml_deb4fc757a940ccd8fb8b41b4cf4580c\nDigest: sha256:bfcf27e8c13598ac9ea2b67fd150e66362b62257e3b9511184eabb3bbb771991\nStatus: Image is up to date for lisalamlservic4650097583.azurecr.io/azureml/azureml_deb4fc757a940ccd8fb8b41b4cf4580c\nStart running module Evaluate\nFinish running module Evaluate, module run status is Completed\nFinish upload run status to runhistory\n\nC:\\Users\\lisal\\AppData\\Local\\Temp\\pipeline-local_run\\904a31dc-e103-4ab5-943e-b22108173ea3\\A sub pipeline including train-score-eval\\Evaluate_407721de-c442-4d9b-9ff0-f05ae8fb458f\\module-log.txt\n================================================================================================================================================================================================\nScoring result path: /mnt/input/scoring_result\nEvaluation output path: /mnt/outputs/eval_output\n\nC:\\Users\\lisal\\AppData\\Local\\Temp\\pipeline-local_run\\904a31dc-e103-4ab5-943e-b22108173ea3\\A sub pipeline including train-score-eval\\Evaluate_ab0d90f6-1b6e-49c7-8458-8e89b4e2c3a6\\module-log.txt\n================================================================================================================================================================================================\nScoring result path: /mnt/input/scoring_result\nEvaluation output path: /mnt/outputs/eval_output\n\nC:\\Users\\lisal\\AppData\\Local\\Temp\\pipeline-local_run\\904a31dc-e103-4ab5-943e-b22108173ea3\\Compare 2 Models_a65b9357-053a-46da-aeb3-2721d0ec926c\\excutionlogs.txt\n================================================================================================================================================================\nPreparing snapshot\nPrepared snapshot, time elapsed 0:00:10.196151\nPreparing experiment and run in run history\nPrepared experiment and run in run history, time elapsed 0:00:03.211773\nRunId: a65b9357-053a-46da-aeb3-2721d0ec926c\nLink to Azure Machine Learning Portal: https://ml.azure.com/experiments/pipeline-local_run/runs/a65b9357-053a-46da-aeb3-2721d0ec926c?wsid=/subscriptions/74eccef0-4b8d-4f83-b5f9-fa100d155b22/resourcegroups/lisal-dev/workspaces/lisal-amlservice\nPulling image from ACR (this may take a few minutes depending on image size)...\n\nlatest: Pulling from azureml/azureml_deb4fc757a940ccd8fb8b41b4cf4580c\nDigest: sha256:bfcf27e8c13598ac9ea2b67fd150e66362b62257e3b9511184eabb3bbb771991\nStatus: Image is up to date for lisalamlservic4650097583.azurecr.io/azureml/azureml_deb4fc757a940ccd8fb8b41b4cf4580c\nStart running module Compare 2 Models\nFinish running module Compare 2 Models, module run status is Completed\nFinish upload run status to runhistory\n\nC:\\Users\\lisal\\AppData\\Local\\Temp\\pipeline-local_run\\904a31dc-e103-4ab5-943e-b22108173ea3\\Compare 2 Models_a65b9357-053a-46da-aeb3-2721d0ec926c\\module-log.txt\n==============================================================================================================================================================\nModel #1: /mnt/input/model1\nEvaluation #1: /mnt/input/eval_result1\nModel #2: /mnt/input/model2\nEvaluation #2: /mnt/input/eval_result2\nBest model path: /mnt/outputs/best_model\nModel #1: /mnt/input/model1\nEvaluation #1: /mnt/input/eval_result1\nModel #2: /mnt/input/model2\nEvaluation #2: /mnt/input/eval_result2\nBest model path: /mnt/outputs/best_model\n"
    },
    {
     "output_type": "execute_result",
     "data": {
      "text/plain": "'Completed'"
     },
     "metadata": {},
     "execution_count": 21
    }
   ],
   "source": [
    "pipeline.run(experiment_name='pipeline-local_run', show_output = True, show_graph = True)"
   ]
  },
  {
   "cell_type": "markdown",
   "metadata": {},
   "source": [
    "### Load an unregistered module, and test if locally\n",
    "* Support load module from local or github \n",
    "* Support use the module without register it to aml ws\n",
    "* Use module.run() to test the module locally"
   ]
  },
  {
   "cell_type": "code",
   "execution_count": 17,
   "metadata": {
    "tags": []
   },
   "outputs": [
    {
     "output_type": "stream",
     "name": "stdout",
     "text": "Help on function [module] Parallel Copy Files (namespace: microsoft.com/azureml/samples) in [module] Parallel Copy Files (namespace: microsoft:\n\n[module] Parallel Copy Files (namespace: microsoft.com/azureml/samples)(*, input_folder:\"['AnyDirectory']\"=None)\n    A sample Parallel module to copy files.\n    \n    Module yaml:\n    ```yaml\n    amlModuleIdentifier:\n      namespace: microsoft.com/azureml/samples\n      moduleName: Parallel Copy Files\n      moduleVersion: 0.0.1\n    isDeterministic: True\n    jobType: Parallel\n    description: A sample Parallel module to copy files.\n    metadata:\n      annotations:\n        contact: Microsoft Coporation <xxx@microsoft.com>\n        helpDocument: https://aka.ms/parallel-modules\n        tags:\n        - Sample\n        - Parallel\n    inputs:\n    - name: Input Folder\n      type: AnyDirectory\n      optional: False\n      argumentName: input_folder\n    outputs:\n    - name: Output Folder\n      type: AnyDirectory\n      description: Output images\n      argumentName: output_folder\n    implementation:\n      parallel:\n        amlEnvironment:\n          python:\n            condaDependencies:\n              name: project_environment\n              channels:\n              - anaconda\n              - conda-forge\n              dependencies:\n              - python=3.6.8\n              - pip:\n                - azure-storage-queue~=2.1\n                - azure-storage-common~=2.1\n                - azureml-core~=1.0\n                - azureml-telemetry~=1.0\n                - azureml-dataprep[fuse,pandas]~=1.1\n                - filelock~=3.0\n              - psutil\n          docker:\n            baseImage: mcr.microsoft.com/azureml/base:intelmpi2018.3-ubuntu16.04\n        args: [--output-dir, {outputPath: Output Folder}]\n        inputData: Input Folder\n        outputData: Output Folder\n        entry: copy_files.py\n      os: Linux\n    ...\n    \n    ```\n\n"
    }
   ],
   "source": [
    "# load unregistered module from github\n",
    "copy_file_func = Module.from_yaml(ws, yaml_file='https://github.com/lisagreenview/hello-aml-modules/blob/master/parallel_copy_file/copy_files.yaml')\n",
    "help(copy_file_func)"
   ]
  },
  {
   "cell_type": "code",
   "execution_count": 23,
   "metadata": {
    "tags": []
   },
   "outputs": [
    {
     "output_type": "stream",
     "name": "stdout",
     "text": "working dir is C:\\Users\\lisal\\AppData\\Local\\Temp\\9d19130d-cafb-46df-a41c-82961d11418e\nPreparing snapshot\nPrepared snapshot, time elapsed 0:00:03.079324\nPreparing experiment and run in run history\nPrepared experiment and run in run history, time elapsed 0:00:03.594204\nRunId:fbee7cec-606b-4aa7-8f95-f6f33fadae3e\nLink to Azure Machine Learning Portal:https://ml.azure.com/experiments/parallel_copy_files/runs/fbee7cec-606b-4aa7-8f95-f6f33fadae3e?wsid=/subscriptions/74eccef0-4b8d-4f83-b5f9-fa100d155b22/resourcegroups/lisal-dev/workspaces/lisal-amlservice\nPulling image from ACR (this may take a few minutes depending on image size)...\n\nlatest: Pulling from azureml/azureml_e31f6cb0e394a6368192ac2f6b563694\nDigest: sha256:ab7b15e98b04b91890fdd961d40c3ee73419fdf3429dc291752e68321927112d\nStatus: Image is up to date for lisalamlservic4650097583.azurecr.io/azureml/azureml_e31f6cb0e394a6368192ac2f6b563694\nStart running module Parallel Copy Files\nFinish running module Parallel Copy Files, module run status is Completed\nFinish upload run status to runhistory\n"
    },
    {
     "output_type": "execute_result",
     "data": {
      "text/plain": "'Completed'"
     },
     "metadata": {},
     "execution_count": 23
    }
   ],
   "source": [
    "# create a module\n",
    "# you need to prepare local test data to initialize the module\n",
    "copy_file = copy_file_func(input_folder='./dummy_metrics')\n",
    "\n",
    "copy_file.run(use_docker=True, track_run_history=True)"
   ]
  },
  {
   "cell_type": "markdown",
   "metadata": {},
   "source": [
    "### Create a new pipeline with unregistered module\n",
    "\n",
    "new pipeline = dummy_automl_pipeline + copy_file_func"
   ]
  },
  {
   "cell_type": "code",
   "execution_count": 19,
   "metadata": {},
   "outputs": [],
   "source": [
    "@dsl.pipeline(name='pipeline-with-azureml-module',default_compute_target = pipeline_compute)\n",
    "def add_copy_file():\n",
    "    compare_pipeline = dummy_automl_pipeline(input_data=train_data, test_data=test_data)\n",
    "    copy_file_node = copy_file_func(input_folder=compare_pipeline.outputs.best_result)\n",
    "    copy_file_node.runsettings.configure(node_count=1)\n",
    "\n",
    "    return {**copy_file_node.outputs}\n",
    "\n",
    "new_pipeline = add_copy_file()"
   ]
  },
  {
   "cell_type": "markdown",
   "metadata": {},
   "source": [
    "### Run pipeline locally\n",
    "\n",
    "* pipeline.run() support BasicPythonModule, ParallelRunModule and MpiModule \n",
    "* Local run and module node log will be uploaded and recorded in aml ws, and the running status will also be synced back to aml ws\n",
    "* For mpi module, local run only support image with openmpi, intelmpi not support"
   ]
  },
  {
   "cell_type": "code",
   "execution_count": 22,
   "metadata": {
    "tags": []
   },
   "outputs": [
    {
     "output_type": "display_data",
     "data": {
      "text/plain": "<IPython.core.display.Javascript object>",
      "application/javascript": "try {\n    require.undef(\"validate_widget\")\n\n    define('validate_widget', [\"@jupyter-widgets/base\"], function(widgets) {\n        var ValidateView = widgets.DOMWidgetView.extend({\n            render () {\n                window.widget_self = this\n                var visualize_id = this.model.get('visualize_id')\n\n                if (!window._renderLock) {\n                    window._renderLock = {}\n                }\n                if (window._renderLock[visualize_id]) {\n                    return\n                }\n                window._renderLock[visualize_id] = \"widget\"\n                console.log(\"load as widget\", Date.now())\n\n                var lib_url = this.model.get('lib_url')\n                var graph_json = JSON.parse(this.model.get('graph_json'))\n                var env_json = JSON.parse(this.model.get('env_json'))\n                var container_id = this.model.get('container_id')\n\n                window.render_container_id = container_id\n                window.graph_json = graph_json\n                window.graph_json_to_compare = undefined\n                window.env_json = env_json\n                window.before_script = performance.now()\n\n                var container = document.createElement('div')\n                container.id = container_id\n                this.el.appendChild(container)\n\n                var style = document.createElement('style')\n                style.innerHTML = [\n                    \"#\", container_id, \" svg.react-dag-editor-svg-container { height: 800px; }\",\n                    \".cell-output-ipywidget-background { background: transparent !important }\"\n                ].join('')\n                this.el.appendChild(style)\n\n                this.model.on('msg:custom', dispatchMessage, this);\n\n                if (!window.__event_hub) {\n                    window.__event_hub = {}\n                }\n                if (!window.__event_hub[container_id]) {\n                    window.__event_hub[container_id] = {}\n                }\n\n                if (!window.__send_event) {\n                    window.__send_event = {}\n                }\n                window.__send_event[container_id] = sendMessage.bind(this)\n\n                function sendMessage(message, uid, content) {\n                    return new Promise((resolve) => {\n                        this.model.send({\n                            message: `${message}:request`,\n                            body: {\n                                uid,\n                                content\n                            }\n                        })\n    \n                        var respMessageKey = `${message}:response`\n                        if (!window.__event_hub[container_id][respMessageKey]) {\n                            window.__event_hub[container_id][respMessageKey] = []\n                        }\n                        window.__event_hub[container_id][respMessageKey].push(callback)\n    \n                        function callback (response) {\n                            if (response.uid !== uid) {\n                                return\n                            }\n\n                            var idx = window.__event_hub[container_id][respMessageKey].indexOf(callback) \n                            window.__event_hub[container_id][respMessageKey].splice(idx, 1)\n                            \n                            resolve(response)\n                        }\n                    })\n                }\n\n                function dispatchMessage (rawMessage) {\n                    var message = rawMessage.message\n                    var body = rawMessage.body\n\n                    if (!window.__event_hub[container_id][message]) {\n                        window.__event_hub[container_id][message] = []\n                    }\n                    var listeners = window.__event_hub[container_id][message]\n\n                    listeners.forEach(cb => {\n                        try {\n                            cb(body)\n                        } catch (e) {\n                            console.error(\"Unexpected error in listener\", e)\n                        }\n                    })\n\n                    console.log(body)\n                }\n\n                var script = document.createElement('script')\n                script.src = lib_url\n                this.el.appendChild(script)\n            }\n        });\n\n        return {\n            ValidateView\n        }\n    })\n} catch (e) {\n    console.log(\"create validation widget failed\", e)\n}"
     },
     "metadata": {}
    },
    {
     "output_type": "display_data",
     "data": {
      "text/plain": "ValidateView(container_id='container_id_0ac1f0f3-e64a-4471-8976-a5a313fe2b96_widget', env_json='{\"subscription…",
      "application/vnd.jupyter.widget-view+json": {
       "version_major": 2,
       "version_minor": 0,
       "model_id": "102fb1531d0e42dcbabdd9df01b27fef"
      }
     },
     "metadata": {}
    },
    {
     "output_type": "display_data",
     "data": {
      "text/plain": "<IPython.core.display.HTML object>",
      "text/html": "\n        <style>\n        #container_id_0ac1f0f3-e64a-4471-8976-a5a313fe2b96_script svg.react-dag-editor-svg-container {\n            height: 800px;\n        }\n        </style>\n        <div id=\"container_id_0ac1f0f3-e64a-4471-8976-a5a313fe2b96_script\"></div>\n        <script>\n            (function () {\n                if (!window._renderLock) {\n                    window._renderLock = {}\n                }\n                if (window._renderLock[\"0ac1f0f3-e64a-4471-8976-a5a313fe2b96\"]) {\n                    return\n                }\n                window._renderLock[\"0ac1f0f3-e64a-4471-8976-a5a313fe2b96\"] = \"script\"\n                console.log(\"load as script\", Date.now())\n                window.render_container_id=\"container_id_0ac1f0f3-e64a-4471-8976-a5a313fe2b96_script\";\n                window.graph_json={\"pipeline\": {\"name\": [\"pipeline-with-azureml-module\"], \"data_references\": {\"training_data\": {\"dataset_id\": \"003f5075-5ba4-4da7-827d-9ae98aa4bee1\"}, \"test_data\": {\"dataset_id\": \"0c11ae96-7039-4d22-be8c-c6772708e2b8\"}}, \"steps\": {\"88ae3757\": {\"inputs\": {\"training_data\": {\"source\": \"training_data\"}}, \"outputs\": {\"model_output\": {\"destination\": \"af7abdb4-6361-4b96-b955-c67b2111821d_model_output\"}}, \"module\": {\"id\": \"eccbc194-8250-439e-bc0a-d213b5f129e9\", \"version\": \"0.0.9\"}, \"parameters\": {\"max_epochs\": 5, \"learning_rate\": 0.01}, \"validate\": {\"error\": [], \"module_id\": \"eccbc194-8250-439e-bc0a-d213b5f129e9\", \"namespace\": \"microsoft.com/aml/samples\", \"module_name\": \"MPI Train\", \"module_version\": \"0.0.9\"}}, \"34e71e8a\": {\"inputs\": {\"model_input\": {\"source\": \"af7abdb4-6361-4b96-b955-c67b2111821d_model_output\"}, \"test_data\": {\"source\": \"test_data\"}}, \"outputs\": {\"score_output\": {\"destination\": \"dabfafbc-9aed-48e4-886b-2b80f805ac6d_score_output\"}}, \"module\": {\"id\": \"6dccc1da-e702-4b06-9590-bbe201ec28f6\", \"version\": \"0.0.5\"}, \"parameters\": {}, \"validate\": {\"error\": [], \"module_id\": \"6dccc1da-e702-4b06-9590-bbe201ec28f6\", \"namespace\": \"microsoft.com/aml/samples\", \"module_name\": \"Score\", \"module_version\": \"0.0.5\"}}, \"723274d5\": {\"inputs\": {\"scoring_result\": {\"source\": \"dabfafbc-9aed-48e4-886b-2b80f805ac6d_score_output\"}}, \"outputs\": {\"eval_output\": {\"destination\": \"e6537d34-cc8b-449a-954d-f87f69f44766_eval_output\"}}, \"module\": {\"id\": \"839c571b-f291-47a7-bfc6-28f847224ff6\", \"version\": \"0.0.7\"}, \"parameters\": {}, \"validate\": {\"error\": [], \"module_id\": \"839c571b-f291-47a7-bfc6-28f847224ff6\", \"namespace\": \"microsoft.com/aml/samples\", \"module_name\": \"Evaluate\", \"module_version\": \"0.0.7\"}}, \"ffe0d53a\": {\"inputs\": {\"training_data\": {\"source\": \"training_data\"}}, \"outputs\": {\"model_output\": {\"destination\": \"6e7491b3-c676-4356-a356-883499660d52_model_output\"}}, \"module\": {\"id\": \"eccbc194-8250-439e-bc0a-d213b5f129e9\", \"version\": \"0.0.9\"}, \"parameters\": {\"max_epochs\": 5, \"learning_rate\": 0.02}, \"validate\": {\"error\": [], \"module_id\": \"eccbc194-8250-439e-bc0a-d213b5f129e9\", \"namespace\": \"microsoft.com/aml/samples\", \"module_name\": \"MPI Train\", \"module_version\": \"0.0.9\"}}, \"2ed8aa27\": {\"inputs\": {\"model_input\": {\"source\": \"6e7491b3-c676-4356-a356-883499660d52_model_output\"}, \"test_data\": {\"source\": \"test_data\"}}, \"outputs\": {\"score_output\": {\"destination\": \"734e76d1-d049-4cc7-bc67-67ca264cbe9f_score_output\"}}, \"module\": {\"id\": \"6dccc1da-e702-4b06-9590-bbe201ec28f6\", \"version\": \"0.0.5\"}, \"parameters\": {}, \"validate\": {\"error\": [], \"module_id\": \"6dccc1da-e702-4b06-9590-bbe201ec28f6\", \"namespace\": \"microsoft.com/aml/samples\", \"module_name\": \"Score\", \"module_version\": \"0.0.5\"}}, \"249659e6\": {\"inputs\": {\"scoring_result\": {\"source\": \"734e76d1-d049-4cc7-bc67-67ca264cbe9f_score_output\"}}, \"outputs\": {\"eval_output\": {\"destination\": \"9f31ecfe-a450-435a-b88b-d47b5bbb297b_eval_output\"}}, \"module\": {\"id\": \"839c571b-f291-47a7-bfc6-28f847224ff6\", \"version\": \"0.0.7\"}, \"parameters\": {}, \"validate\": {\"error\": [], \"module_id\": \"839c571b-f291-47a7-bfc6-28f847224ff6\", \"namespace\": \"microsoft.com/aml/samples\", \"module_name\": \"Evaluate\", \"module_version\": \"0.0.7\"}}, \"2bb9cf83\": {\"inputs\": {\"model1\": {\"source\": \"af7abdb4-6361-4b96-b955-c67b2111821d_model_output\"}, \"eval_result1\": {\"source\": \"e6537d34-cc8b-449a-954d-f87f69f44766_eval_output\"}, \"model2\": {\"source\": \"6e7491b3-c676-4356-a356-883499660d52_model_output\"}, \"eval_result2\": {\"source\": \"9f31ecfe-a450-435a-b88b-d47b5bbb297b_eval_output\"}}, \"outputs\": {\"best_model\": {\"destination\": \"25eb1227-1e43-41ab-99ba-a6bdc517be06_best_model\"}, \"best_result\": {\"destination\": \"25eb1227-1e43-41ab-99ba-a6bdc517be06_best_result\"}}, \"module\": {\"id\": \"2fac1a9d-cd6d-4c99-8f10-51afa9aea851\", \"version\": \"0.0.9\"}, \"parameters\": {}, \"validate\": {\"error\": [], \"module_id\": \"2fac1a9d-cd6d-4c99-8f10-51afa9aea851\", \"namespace\": \"microsoft.com/aml/samples\", \"module_name\": \"Compare 2 Models\", \"module_version\": \"0.0.9\"}}, \"8c328d59\": {\"inputs\": {\"Input_Folder\": {\"source\": \"25eb1227-1e43-41ab-99ba-a6bdc517be06_best_result\"}}, \"outputs\": {\"Output_Folder\": {\"destination\": \"20f2c7ae-db90-445b-b7be-6b4f31f3ae50_Output_Folder\"}}, \"module\": {\"id\": \"9d19130d-cafb-46df-a41c-82961d11418e\", \"version\": \"0.0.1\"}, \"parameters\": {}, \"validate\": {\"error\": [], \"module_id\": \"9d19130d-cafb-46df-a41c-82961d11418e\", \"namespace\": \"microsoft.com/azureml/samples\", \"module_name\": \"Parallel Copy Files\", \"module_version\": \"0.0.1\"}}}}, \"modules\": [{\"module_id\": \"eccbc194-8250-439e-bc0a-d213b5f129e9\", \"version\": \"0.0.9\", \"name\": \"MPI Train\", \"namespace\": \"microsoft.com/aml/samples\", \"structured_interface\": {\"inputs\": [{\"name\": \"training_data\", \"label\": \"training_data\", \"description\": \"Training data organized in the torchvision format/structure\", \"data_type_ids_list\": [\"AnyFile\", \"AnyDirectory\"]}], \"outputs\": [{\"name\": \"model_output\", \"label\": \"model_output\", \"description\": \"The output model (zipped)\", \"data_type_id\": \"AnyDirectory\"}]}}, {\"module_id\": \"6dccc1da-e702-4b06-9590-bbe201ec28f6\", \"version\": \"0.0.5\", \"name\": \"Score\", \"namespace\": \"microsoft.com/aml/samples\", \"structured_interface\": {\"inputs\": [{\"name\": \"model_input\", \"label\": \"model_input\", \"description\": \"Zipped model file\", \"data_type_ids_list\": [\"AnyDirectory\"]}, {\"name\": \"test_data\", \"label\": \"test_data\", \"description\": \"Test data organized in the torchvision format/structure\", \"data_type_ids_list\": [\"AnyFile\", \"AnyDirectory\"]}], \"outputs\": [{\"name\": \"score_output\", \"label\": \"score_output\", \"description\": \"The scoring result in TSV\", \"data_type_id\": \"AnyDirectory\"}]}}, {\"module_id\": \"839c571b-f291-47a7-bfc6-28f847224ff6\", \"version\": \"0.0.7\", \"name\": \"Evaluate\", \"namespace\": \"microsoft.com/aml/samples\", \"structured_interface\": {\"inputs\": [{\"name\": \"scoring_result\", \"label\": \"scoring_result\", \"description\": \"Scoring result file in TSV format\", \"data_type_ids_list\": [\"AnyDirectory\"]}], \"outputs\": [{\"name\": \"eval_output\", \"label\": \"eval_output\", \"description\": \"Evaluation result\", \"data_type_id\": \"AnyDirectory\"}]}}, {\"module_id\": \"2fac1a9d-cd6d-4c99-8f10-51afa9aea851\", \"version\": \"0.0.9\", \"name\": \"Compare 2 Models\", \"namespace\": \"microsoft.com/aml/samples\", \"structured_interface\": {\"inputs\": [{\"name\": \"model1\", \"label\": \"model1\", \"description\": \"The first model to compare with\", \"data_type_ids_list\": [\"AnyDirectory\"]}, {\"name\": \"eval_result1\", \"label\": \"eval_result1\", \"description\": \"The evaluation result of first model\", \"data_type_ids_list\": [\"AnyDirectory\"]}, {\"name\": \"model2\", \"label\": \"model2\", \"description\": \"The second model to compare\", \"data_type_ids_list\": [\"AnyDirectory\"]}, {\"name\": \"eval_result2\", \"label\": \"eval_result2\", \"description\": \"The evaluation result of second model\", \"data_type_ids_list\": [\"AnyDirectory\"]}], \"outputs\": [{\"name\": \"best_model\", \"label\": \"best_model\", \"description\": \"The better model among the two\", \"data_type_id\": \"AnyDirectory\"}, {\"name\": \"best_result\", \"label\": \"best_result\", \"description\": \"The better model evaluation result among the two\", \"data_type_id\": \"AnyDirectory\"}]}}, {\"module_id\": \"9d19130d-cafb-46df-a41c-82961d11418e\", \"version\": \"0.0.1\", \"name\": \"Parallel Copy Files\", \"namespace\": \"microsoft.com/azureml/samples\", \"structured_interface\": {\"inputs\": [{\"name\": \"Input_Folder\", \"label\": \"Input Folder\", \"description\": null, \"data_type_ids_list\": [\"AnyDirectory\"]}], \"outputs\": [{\"name\": \"Output_Folder\", \"label\": \"Output Folder\", \"description\": \"Output images\", \"data_type_id\": \"AnyDirectory\"}]}}], \"datasources\": [{\"name\": \"training_data\", \"description\": \"Training data (just for illustrative purpose)\", \"version\": 1, \"tags\": {}, \"registered_id\": \"003f5075-5ba4-4da7-827d-9ae98aa4bee1\", \"saved_id\": \"021133c1-3f40-4b7d-a4c1-922d96800547\", \"nodeId\": \"e99a2512-122d-3571-b2a7-0fa1a6ccefc9\"}, {\"name\": \"test_data\", \"description\": \"Test data (just for illustrative purpose)\", \"version\": 1, \"tags\": {}, \"registered_id\": \"0c11ae96-7039-4d22-be8c-c6772708e2b8\", \"saved_id\": \"ccf26e3f-b0d1-4aa5-aa33-b8480f71ee1b\", \"nodeId\": \"24606a92-0bf5-385f-912a-5249b8a0bc94\"}], \"subGraphInfo\": [{\"name\": \"pipeline-with-azureml-module\", \"default_compute_target\": {\"name\": \"always-on-ds2v2\"}, \"default_data_store\": {\"data_store_name\": \"workspaceblobstore\"}, \"id\": \"d06af10b-a872-40d8-999a-acbab2c50a6d\", \"pipeline_definition_id\": \"435d51f1-a84b-4024-b51f-d92d3067d66a\", \"sub_graph_parameter_assignment\": [], \"sub_graph_data_path_parameter_assignment\": [], \"sub_graph_default_compute_target_nodes\": [\"8c328d59\"], \"sub_graph_default_data_store_nodes\": [\"8c328d59\"], \"inputs\": [], \"outputs\": [{\"name\": \"output_folder\", \"internal\": [{\"node_id\": \"8c328d59\", \"port_name\": \"Output_Folder\"}], \"external\": []}]}, {\"name\": \"A dummy pipeline that trains multiple models and output the best one\", \"description\": \"select best model trained with different learning rate\", \"default_compute_target\": {\"name\": \"always-on-ds2v2\"}, \"default_data_store\": {\"data_store_name\": \"workspaceblobstore\"}, \"id\": \"c654cdfb-7b3c-4030-808d-b1a259398079\", \"parent_graph_id\": \"d06af10b-a872-40d8-999a-acbab2c50a6d\", \"pipeline_definition_id\": \"2e6185ac-d916-497d-bef5-a14060029b03\", \"sub_graph_parameter_assignment\": [{\"parameter\": {\"name\": \"input_data\"}, \"parameter_assignments\": [{\"node_id\": \"adf92cfb-f142-4ca8-b252-8a52e272df36\", \"parameter_name\": \"input_data\"}, {\"node_id\": \"6bb3c3b9-56ca-4c43-b014-627defd5f66d\", \"parameter_name\": \"input_data\"}]}, {\"parameter\": {\"name\": \"test_data\"}, \"parameter_assignments\": [{\"node_id\": \"adf92cfb-f142-4ca8-b252-8a52e272df36\", \"parameter_name\": \"test_data\"}, {\"node_id\": \"6bb3c3b9-56ca-4c43-b014-627defd5f66d\", \"parameter_name\": \"test_data\"}]}], \"sub_graph_data_path_parameter_assignment\": [{\"data_set_path_parameter\": {\"name\": \"input_data\", \"default_value\": {\"data_set_reference\": {\"id\": \"003f5075-5ba4-4da7-827d-9ae98aa4bee1\", \"version\": \"1\"}}, \"is_optional\": false, \"data_type_id\": \"DataFrameDirectory\"}, \"data_set_path_parameter_assignments\": []}, {\"data_set_path_parameter\": {\"name\": \"test_data\", \"default_value\": {\"data_set_reference\": {\"id\": \"0c11ae96-7039-4d22-be8c-c6772708e2b8\", \"version\": \"1\"}}, \"is_optional\": false, \"data_type_id\": \"DataFrameDirectory\"}, \"data_set_path_parameter_assignments\": []}], \"sub_graph_default_compute_target_nodes\": [\"2bb9cf83\"], \"sub_graph_default_data_store_nodes\": [], \"inputs\": [{\"name\": \"input_data\", \"internal\": [{\"node_id\": \"adf92cfb-f142-4ca8-b252-8a52e272df36\", \"port_name\": \"input_data\"}, {\"node_id\": \"6bb3c3b9-56ca-4c43-b014-627defd5f66d\", \"port_name\": \"input_data\"}], \"external\": [{\"node_id\": \"e99a2512-122d-3571-b2a7-0fa1a6ccefc9\", \"port_name\": \"output\"}]}, {\"name\": \"test_data\", \"internal\": [{\"node_id\": \"adf92cfb-f142-4ca8-b252-8a52e272df36\", \"port_name\": \"test_data\"}, {\"node_id\": \"6bb3c3b9-56ca-4c43-b014-627defd5f66d\", \"port_name\": \"test_data\"}], \"external\": [{\"node_id\": \"24606a92-0bf5-385f-912a-5249b8a0bc94\", \"port_name\": \"output\"}]}], \"outputs\": [{\"name\": \"best_model\", \"internal\": [{\"node_id\": \"2bb9cf83\", \"port_name\": \"best_model\"}], \"external\": []}, {\"name\": \"best_result\", \"internal\": [{\"node_id\": \"2bb9cf83\", \"port_name\": \"best_result\"}], \"external\": [{\"node_id\": \"8c328d59\", \"port_name\": \"Input_Folder\"}]}]}, {\"name\": \"A sub pipeline including train-score-eval\", \"description\": \"train model and evaluate model perf\", \"default_compute_target\": {}, \"default_data_store\": {\"data_store_name\": \"workspaceblobstore\"}, \"id\": \"adf92cfb-f142-4ca8-b252-8a52e272df36\", \"parent_graph_id\": \"c654cdfb-7b3c-4030-808d-b1a259398079\", \"pipeline_definition_id\": \"67c6843f-23d6-4f63-acb0-4e4653a9066e\", \"sub_graph_parameter_assignment\": [{\"parameter\": {\"name\": \"input_data\"}, \"parameter_assignments\": [{\"node_id\": \"88ae3757\", \"parameter_name\": \"training_data\"}]}, {\"parameter\": {\"name\": \"test_data\"}, \"parameter_assignments\": [{\"node_id\": \"34e71e8a\", \"parameter_name\": \"test_data\"}]}, {\"parameter\": {\"name\": \"learning_rate\"}, \"parameter_assignments\": [{\"node_id\": \"88ae3757\", \"parameter_name\": \"learning_rate\"}]}], \"sub_graph_data_path_parameter_assignment\": [], \"sub_graph_default_compute_target_nodes\": [\"88ae3757\", \"34e71e8a\", \"723274d5\"], \"sub_graph_default_data_store_nodes\": [], \"inputs\": [{\"name\": \"input_data\", \"internal\": [{\"node_id\": \"88ae3757\", \"port_name\": \"training_data\"}], \"external\": [{\"node_id\": \"c654cdfb-7b3c-4030-808d-b1a259398079\", \"port_name\": \"input_data\"}]}, {\"name\": \"test_data\", \"internal\": [{\"node_id\": \"34e71e8a\", \"port_name\": \"test_data\"}], \"external\": [{\"node_id\": \"c654cdfb-7b3c-4030-808d-b1a259398079\", \"port_name\": \"test_data\"}]}], \"outputs\": [{\"name\": \"eval_output\", \"internal\": [{\"node_id\": \"723274d5\", \"port_name\": \"eval_output\"}], \"external\": [{\"node_id\": \"2bb9cf83\", \"port_name\": \"eval_result1\"}]}, {\"name\": \"model_output\", \"internal\": [{\"node_id\": \"88ae3757\", \"port_name\": \"model_output\"}], \"external\": [{\"node_id\": \"34e71e8a\", \"port_name\": \"model_input\"}, {\"node_id\": \"2bb9cf83\", \"port_name\": \"model1\"}]}]}, {\"name\": \"A sub pipeline including train-score-eval\", \"description\": \"train model and evaluate model perf\", \"default_compute_target\": {}, \"default_data_store\": {\"data_store_name\": \"workspaceblobstore\"}, \"id\": \"6bb3c3b9-56ca-4c43-b014-627defd5f66d\", \"parent_graph_id\": \"c654cdfb-7b3c-4030-808d-b1a259398079\", \"pipeline_definition_id\": \"67c6843f-23d6-4f63-acb0-4e4653a9066e\", \"sub_graph_parameter_assignment\": [{\"parameter\": {\"name\": \"input_data\"}, \"parameter_assignments\": [{\"node_id\": \"ffe0d53a\", \"parameter_name\": \"training_data\"}]}, {\"parameter\": {\"name\": \"test_data\"}, \"parameter_assignments\": [{\"node_id\": \"2ed8aa27\", \"parameter_name\": \"test_data\"}]}, {\"parameter\": {\"name\": \"learning_rate\"}, \"parameter_assignments\": [{\"node_id\": \"ffe0d53a\", \"parameter_name\": \"learning_rate\"}]}], \"sub_graph_data_path_parameter_assignment\": [], \"sub_graph_default_compute_target_nodes\": [\"ffe0d53a\", \"2ed8aa27\", \"249659e6\"], \"sub_graph_default_data_store_nodes\": [], \"inputs\": [{\"name\": \"input_data\", \"internal\": [{\"node_id\": \"ffe0d53a\", \"port_name\": \"training_data\"}], \"external\": [{\"node_id\": \"c654cdfb-7b3c-4030-808d-b1a259398079\", \"port_name\": \"input_data\"}]}, {\"name\": \"test_data\", \"internal\": [{\"node_id\": \"2ed8aa27\", \"port_name\": \"test_data\"}], \"external\": [{\"node_id\": \"c654cdfb-7b3c-4030-808d-b1a259398079\", \"port_name\": \"test_data\"}]}], \"outputs\": [{\"name\": \"eval_output\", \"internal\": [{\"node_id\": \"249659e6\", \"port_name\": \"eval_output\"}], \"external\": [{\"node_id\": \"2bb9cf83\", \"port_name\": \"eval_result2\"}]}, {\"name\": \"model_output\", \"internal\": [{\"node_id\": \"ffe0d53a\", \"port_name\": \"model_output\"}], \"external\": [{\"node_id\": \"2ed8aa27\", \"port_name\": \"model_input\"}, {\"node_id\": \"2bb9cf83\", \"port_name\": \"model2\"}]}]}], \"nodeIdToSubGraphIdMapping\": {\"88ae3757\": \"adf92cfb-f142-4ca8-b252-8a52e272df36\", \"34e71e8a\": \"adf92cfb-f142-4ca8-b252-8a52e272df36\", \"723274d5\": \"adf92cfb-f142-4ca8-b252-8a52e272df36\", \"ffe0d53a\": \"6bb3c3b9-56ca-4c43-b014-627defd5f66d\", \"2ed8aa27\": \"6bb3c3b9-56ca-4c43-b014-627defd5f66d\", \"249659e6\": \"6bb3c3b9-56ca-4c43-b014-627defd5f66d\", \"2bb9cf83\": \"c654cdfb-7b3c-4030-808d-b1a259398079\", \"8c328d59\": \"d06af10b-a872-40d8-999a-acbab2c50a6d\"}, \"subPipelineDefinition\": [{\"name\": \"pipeline-with-azureml-module\", \"default_compute_target\": {\"name\": \"always-on-ds2v2\"}, \"default_data_store\": {\"data_store_name\": \"workspaceblobstore\"}, \"pipeline_function_name\": \"add_copy_file\", \"id\": \"435d51f1-a84b-4024-b51f-d92d3067d66a\", \"from_module_name\": \"__main__\", \"parameter_list\": []}, {\"name\": \"A dummy pipeline that trains multiple models and output the best one\", \"description\": \"select best model trained with different learning rate\", \"default_compute_target\": {\"name\": \"always-on-ds2v2\"}, \"default_data_store\": {\"data_store_name\": \"workspaceblobstore\"}, \"pipeline_function_name\": \"dummy_automl_pipeline\", \"id\": \"2e6185ac-d916-497d-bef5-a14060029b03\", \"from_module_name\": \"__main__\", \"parameter_list\": [{\"key\": \"input_data\"}, {\"key\": \"test_data\"}]}, {\"name\": \"A sub pipeline including train-score-eval\", \"description\": \"train model and evaluate model perf\", \"default_compute_target\": {}, \"default_data_store\": {\"data_store_name\": \"workspaceblobstore\"}, \"pipeline_function_name\": \"training_pipeline\", \"id\": \"67c6843f-23d6-4f63-acb0-4e4653a9066e\", \"from_module_name\": \"__main__\", \"parameter_list\": [{\"key\": \"input_data\"}, {\"key\": \"test_data\"}, {\"key\": \"learning_rate\"}]}]};\n                window.graph_json_to_compare=undefined;\n                window.env_json={\"subscription_id\": \"74eccef0-4b8d-4f83-b5f9-fa100d155b22\"};\n                window.before_script = performance.now();\n                var script = document.createElement('script')\n                script.src = \"https://yucongj.azureedge.net/libs/prod/0.0.8/index.js\"\n                document.getElementById(\"container_id_0ac1f0f3-e64a-4471-8976-a5a313fe2b96_script\").appendChild(script)\n            })()\n        </script>\n        "
     },
     "metadata": {}
    },
    {
     "output_type": "stream",
     "name": "stdout",
     "text": "Working dir: C:\\Users\\lisal\\AppData\\Local\\Temp\\pipeline-local_run\\471c9933-2dfb-4710-9d7c-b774f48b4972\nRunId: 471c9933-2dfb-4710-9d7c-b774f48b4972\nLink to Azure Machine Learning Portal: https://ml.azure.com/experiments/pipeline-local_run/runs/471c9933-2dfb-4710-9d7c-b774f48b4972?wsid=/subscriptions/74eccef0-4b8d-4f83-b5f9-fa100d155b22/resourcegroups/lisal-dev/workspaces/lisal-amlservice\nPreparing pipeline dataset.\nPrepared pipeline dataset.\n[Errno 2] No such file or directory: 'C:\\\\Users\\\\lisal\\\\AppData\\\\Local\\\\Temp\\\\pipeline-local_run\\\\471c9933-2dfb-4710-9d7c-b774f48b4972\\\\A dummy pipeline that trains multiple models and output the best one\\\\A sub pipeline including train-score-eval\\\\MPI Train_b8ae5db2-8cdd-45ff-ba38-cb6fa88952c8\\\\excutionlogs.txt'\nMPI Train run failed, exception: [Errno 2] No such file or directory: 'C:\\\\Users\\\\lisal\\\\AppData\\\\Local\\\\Temp\\\\pipeline-local_run\\\\471c9933-2dfb-4710-9d7c-b774f48b4972\\\\A dummy pipeline that trains multiple models and output the best one\\\\A sub pipeline including train-score-eval\\\\MPI Train_b8ae5db2-8cdd-45ff-ba38-cb6fa88952c8\\\\excutionlogs.txt'\n[Errno 2] No such file or directory: 'C:\\\\Users\\\\lisal\\\\AppData\\\\Local\\\\Temp\\\\pipeline-local_run\\\\471c9933-2dfb-4710-9d7c-b774f48b4972\\\\A dummy pipeline that trains multiple models and output the best one\\\\A sub pipeline including train-score-eval\\\\MPI Train_6febe380-6bf0-4dc8-b77e-f18db3be4bec\\\\excutionlogs.txt'\nMPI Train run failed, exception: [Errno 2] No such file or directory: 'C:\\\\Users\\\\lisal\\\\AppData\\\\Local\\\\Temp\\\\pipeline-local_run\\\\471c9933-2dfb-4710-9d7c-b774f48b4972\\\\A dummy pipeline that trains multiple models and output the best one\\\\A sub pipeline including train-score-eval\\\\MPI Train_6febe380-6bf0-4dc8-b77e-f18db3be4bec\\\\excutionlogs.txt'\n"
    },
    {
     "output_type": "execute_result",
     "data": {
      "text/plain": "'Failed'"
     },
     "metadata": {},
     "execution_count": 22
    }
   ],
   "source": [
    "os.chdir('D:\\work\\code\\hello-aml-modules')\n",
    "run = new_pipeline.run(experiment_name = 'pipeline-local_run', show_output = True, show_graph = True)\n",
    "run"
   ]
  },
  {
   "cell_type": "code",
   "execution_count": null,
   "metadata": {},
   "outputs": [],
   "source": []
  }
 ],
 "metadata": {
  "kernelspec": {
   "display_name": "Python 3.6.10 64-bit ('amlmodule': conda)",
   "language": "python",
   "name": "python361064bitamlmoduleconda94216afc072640efa4ed7a053209d802"
  },
  "language_info": {
   "codemirror_mode": {
    "name": "ipython",
    "version": 3
   },
   "file_extension": ".py",
   "mimetype": "text/x-python",
   "name": "python",
   "nbconvert_exporter": "python",
   "pygments_lexer": "ipython3",
   "version": "3.6.10-final"
  }
 },
 "nbformat": 4,
 "nbformat_minor": 2
}