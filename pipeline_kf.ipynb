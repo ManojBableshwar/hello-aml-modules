{
 "cells": [
  {
   "cell_type": "code",
   "execution_count": 1,
   "metadata": {},
   "outputs": [],
   "source": [
    "%config IPCompleter.greedy=True"
   ]
  },
  {
   "cell_type": "code",
   "execution_count": 1,
   "metadata": {},
   "outputs": [],
   "source": [
    "from azureml.core import Workspace, Run, Dataset\n",
    "from azureml.pipeline.wrapper import Pipeline, Module\n",
    "\n",
    "ws = Workspace.get(name='kubeflow_ws_1', subscription_id='74eccef0-4b8d-4f83-b5f9-fa100d155b22', resource_group='kubeflow-demo')"
   ]
  },
  {
   "cell_type": "code",
   "execution_count": 2,
   "metadata": {},
   "outputs": [],
   "source": [
    "# Load modules from workspace\n",
    "train_module_func = Module.load(ws, namespace='microsoft.com/aml/samples', name='Train')\n",
    "score_module_func = Module.load(ws, namespace='microsoft.com/aml/samples', name='Score')\n",
    "eval_module_func = Module.load(ws, namespace='microsoft.com/aml/samples', name='Evaluate')\n",
    "\n",
    "# Load a module from local as anonymous module\n",
    "#a_module_in_development_func = Module.load_from_yaml(ws, path='/home/code/new_module/spec.yaml')\n",
    "\n",
    "train_data = Dataset.get_by_name(ws, 'training_data')\n",
    "test_data = Dataset.get_by_name(ws, 'test_data')"
   ]
  },
  {
   "cell_type": "code",
   "execution_count": 3,
   "metadata": {},
   "outputs": [
    {
     "output_type": "stream",
     "name": "stdout",
     "text": "Help on function microsoft.com/aml/samples://Train in microsoft:\n\nmicrosoft.com/aml/samples://Train(training_data: 'Training data organized in the torchvision format/structure' = None, max_epochs: 'Maximum number of epochs for the training, default is 5' = '5', learning_rate: 'Learning rate, default is 0.01' = '0.01')\n    :param training_data: Training data organized in the torchvision format/structure\n    :param max_epochs: Maximum number of epochs for the training, default is 5\n    :param learning_rate: Learning rate, default is 0.01\n\n"
    }
   ],
   "source": [
    "help(train_module_func)"
   ]
  },
  {
   "cell_type": "code",
   "execution_count": 5,
   "metadata": {},
   "outputs": [
    {
     "output_type": "error",
     "ename": "TypeError",
     "evalue": "submit_run() got an unexpected keyword argument 'name'",
     "traceback": [
      "\u001b[1;31m---------------------------------------------------------------------------\u001b[0m",
      "\u001b[1;31mTypeError\u001b[0m                                 Traceback (most recent call last)",
      "\u001b[1;32m<ipython-input-5-46a1cf2914d9>\u001b[0m in \u001b[0;36m<module>\u001b[1;34m\u001b[0m\n\u001b[0;32m     17\u001b[0m \u001b[1;31m#    default_compute_target='cpu-cluster'\u001b[0m\u001b[1;33m\u001b[0m\u001b[1;33m\u001b[0m\u001b[1;33m\u001b[0m\u001b[0m\n\u001b[0;32m     18\u001b[0m     \u001b[0mdefault_compute_target\u001b[0m\u001b[1;33m=\u001b[0m\u001b[1;34m'kubeflow-aks'\u001b[0m\u001b[1;33m,\u001b[0m\u001b[1;33m\u001b[0m\u001b[1;33m\u001b[0m\u001b[0m\n\u001b[1;32m---> 19\u001b[1;33m     \u001b[0mname\u001b[0m\u001b[1;33m=\u001b[0m\u001b[1;34m'sample pipeline to run on kubeflow'\u001b[0m\u001b[1;33m\u001b[0m\u001b[1;33m\u001b[0m\u001b[0m\n\u001b[0m\u001b[0;32m     20\u001b[0m )\n\u001b[0;32m     21\u001b[0m \u001b[1;33m\u001b[0m\u001b[0m\n",
      "\u001b[1;31mTypeError\u001b[0m: submit_run() got an unexpected keyword argument 'name'"
     ]
    }
   ],
   "source": [
    "train = train_module_func(\n",
    "    training_data=train_data, \n",
    "    max_epochs=5, \n",
    "    learning_rate=0.02)\n",
    "\n",
    "score = score_module_func(\n",
    "    model_input=train.outputs.model_output, \n",
    "    test_data=test_data)\n",
    "\n",
    "eval = eval_module_func(scoring_result=score.outputs.score_output)\n",
    "\n",
    "pipeline = Pipeline(nodes=[train, score, eval], outputs=eval.outputs, name='sample pipeline to run on kubeflow')\n",
    "\n",
    "run = pipeline.submit_run(\n",
    "    ws, \n",
    "    experiment_name='jietong', \n",
    "#    default_compute_target='cpu-cluster'\n",
    "    default_compute_target='kubeflow-aks'\n",
    ")\n",
    "\n",
    "run.wait_for_completion()"
   ]
  },
  {
   "cell_type": "code",
   "execution_count": null,
   "metadata": {},
   "outputs": [],
   "source": []
  }
 ],
 "metadata": {
  "kernelspec": {
   "display_name": "Python 3",
   "language": "python",
   "name": "python3"
  },
  "language_info": {
   "codemirror_mode": {
    "name": "ipython",
    "version": 3
   },
   "file_extension": ".py",
   "mimetype": "text/x-python",
   "name": "python",
   "nbconvert_exporter": "python",
   "pygments_lexer": "ipython3",
   "version": "3.7.6-final"
  }
 },
 "nbformat": 4,
 "nbformat_minor": 4
}