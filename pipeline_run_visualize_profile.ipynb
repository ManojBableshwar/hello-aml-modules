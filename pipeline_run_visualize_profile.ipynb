{
 "cells": [
  {
   "cell_type": "code",
   "execution_count": 1,
   "metadata": {},
   "outputs": [
    {
     "name": "stderr",
     "output_type": "stream",
     "text": [
      "Failure while loading azureml_run_type_providers. Failed to load entrypoint automl = azureml.train.automl.run:AutoMLRun._from_run_dto with exception (azureml-dataprep 1.9.1 (c:\\users\\mengla\\appdata\\local\\continuum\\miniconda3\\envs\\aml\\lib\\site-packages), Requirement.parse('azureml-dataprep<1.7.0a,>=1.6.2a'), {'azureml-automl-core'}).\n"
     ]
    }
   ],
   "source": [
    "import json\n",
    "from azureml.core import Workspace, Dataset, Experiment\n",
    "from azureml.pipeline.wrapper import Module, dsl\n",
    "from azureml.pipeline.wrapper._pipeline_run import PipelineRun"
   ]
  },
  {
   "cell_type": "code",
   "execution_count": 2,
   "metadata": {},
   "outputs": [],
   "source": [
    "subscription_id=\"4faaaf21-663f-4391-96fd-47197c630979\"\n",
    "resource_group=\"DesignerTestRG\"\n",
    "name=\"DesignerTest-centraluseuap\""
   ]
  },
  {
   "cell_type": "code",
   "execution_count": 3,
   "metadata": {},
   "outputs": [
    {
     "name": "stderr",
     "output_type": "stream",
     "text": [
      "Warning: Falling back to use azure cli login credentials.\n",
      "If you run your code in unattended mode, i.e., where you can't give a user input, then we recommend to use ServicePrincipalAuthentication or MsiAuthentication.\n",
      "Please refer to aka.ms/aml-notebook-auth for different authentication mechanisms in azureml-sdk.\n"
     ]
    },
    {
     "name": "stdout",
     "output_type": "stream",
     "text": [
      "DesignerTest-centraluseuap\n",
      "DesignerTestRG\n",
      "centraluseuap\n",
      "4faaaf21-663f-4391-96fd-47197c630979\n"
     ]
    }
   ],
   "source": [
    "ws = Workspace.get(subscription_id=subscription_id, resource_group=resource_group, name=name)\n",
    "print(ws.name, ws.resource_group, ws.location, ws.subscription_id, sep='\\n')"
   ]
  },
  {
   "cell_type": "code",
   "execution_count": 4,
   "metadata": {},
   "outputs": [],
   "source": [
    "experiment = Experiment(ws, 'test-profiling')"
   ]
  },
  {
   "cell_type": "code",
   "execution_count": 5,
   "metadata": {},
   "outputs": [],
   "source": [
    "simple_run = PipelineRun(experiment, '1381c5db-f1d7-4557-962e-6b9373246794')"
   ]
  },
  {
   "cell_type": "code",
   "execution_count": 6,
   "metadata": {},
   "outputs": [
    {
     "name": "stdout",
     "output_type": "stream",
     "text": [
      "PipelineRunId: 1381c5db-f1d7-4557-962e-6b9373246794\n",
      "Link to Azure Machine Learning Portal: https://ml.azure.com/experiments/test-profiling/runs/1381c5db-f1d7-4557-962e-6b9373246794?wsid=/subscriptions/4faaaf21-663f-4391-96fd-47197c630979/resourcegroups/DesignerTestRG/workspaces/DesignerTest-centraluseuap\n"
     ]
    },
    {
     "data": {
      "application/javascript": [
       "try {\n",
       "    require.undef(\"validate_widget\")\n",
       "\n",
       "    define('validate_widget', [\"@jupyter-widgets/base\"], function(widgets) {\n",
       "        var ValidateView = widgets.DOMWidgetView.extend({\n",
       "            render () {\n",
       "                var self = window.widget_self = this\n",
       "                var visualize_id = this.model.get('visualize_id')\n",
       "\n",
       "                if (!window._renderLock) {\n",
       "                    window._renderLock = {}\n",
       "                }\n",
       "                if (window._renderLock[visualize_id]) {\n",
       "                    return\n",
       "                }\n",
       "                window._renderLock[visualize_id] = \"widget\"\n",
       "                console.log(\"load as widget\", Date.now())\n",
       "\n",
       "                var lib_url = this.model.get('lib_url')\n",
       "                var graph_json = JSON.parse(this.model.get('graph_json'))\n",
       "                var env_json = JSON.parse(this.model.get('env_json'))\n",
       "                var container_id = this.model.get('container_id')\n",
       "\n",
       "                window.render_container_id = container_id\n",
       "                window.graph_json = graph_json\n",
       "                window.profiling_json = undefined\n",
       "                window.graph_json_to_compare = undefined\n",
       "                window.env_json = env_json\n",
       "                window.before_script = performance.now()\n",
       "\n",
       "                var container = document.createElement('div')\n",
       "                container.id = container_id\n",
       "                this.el.appendChild(container)\n",
       "\n",
       "                var style = document.createElement('style')\n",
       "                style.innerHTML = [\n",
       "                    \"#\", container_id, \" svg.react-dag-editor-svg-container { height: 800px; }\",\n",
       "                    \".cell-output-ipywidget-background { background: transparent !important }\"\n",
       "                ].join('')\n",
       "                this.el.appendChild(style)\n",
       "\n",
       "                this.model.on('msg:custom', dispatchMessage, this);\n",
       "\n",
       "                if (!window.__event_hub) {\n",
       "                    window.__event_hub = {}\n",
       "                }\n",
       "                if (!window.__event_hub[container_id]) {\n",
       "                    window.__event_hub[container_id] = {}\n",
       "                }\n",
       "\n",
       "                if (!window.__send_event) {\n",
       "                    window.__send_event = {}\n",
       "                }\n",
       "                window.__send_event[container_id] = sendMessage.bind(this)\n",
       "\n",
       "                function sendMessage(message, uid, content) {\n",
       "                    return new Promise(function (resolve) {\n",
       "                        self.model.send({\n",
       "                            message: `${message}:request`,\n",
       "                            body: {\n",
       "                                uid,\n",
       "                                content\n",
       "                            }\n",
       "                        })\n",
       "    \n",
       "                        var respMessageKey = `${message}:response`\n",
       "                        if (!window.__event_hub[container_id][respMessageKey]) {\n",
       "                            window.__event_hub[container_id][respMessageKey] = []\n",
       "                        }\n",
       "                        window.__event_hub[container_id][respMessageKey].push(callback)\n",
       "    \n",
       "                        function callback (response) {\n",
       "                            if (response.uid !== uid) {\n",
       "                                return\n",
       "                            }\n",
       "\n",
       "                            var idx = window.__event_hub[container_id][respMessageKey].indexOf(callback) \n",
       "                            window.__event_hub[container_id][respMessageKey].splice(idx, 1)\n",
       "                            \n",
       "                            resolve(response)\n",
       "                        }\n",
       "                    })\n",
       "                }\n",
       "\n",
       "                function dispatchMessage (rawMessage) {\n",
       "                    var message = rawMessage.message\n",
       "                    var body = rawMessage.body\n",
       "\n",
       "                    if (!window.__event_hub[container_id][message]) {\n",
       "                        window.__event_hub[container_id][message] = []\n",
       "                    }\n",
       "                    var listeners = window.__event_hub[container_id][message]\n",
       "\n",
       "                    listeners.forEach(function (cb) {\n",
       "                        try {\n",
       "                            cb(body)\n",
       "                        } catch (e) {\n",
       "                            console.error(\"Unexpected error in listener\", e)\n",
       "                        }\n",
       "                    })\n",
       "\n",
       "                    console.log(body)\n",
       "                }\n",
       "\n",
       "                function hideLoading () {\n",
       "                    var style = document.createElement('style')\n",
       "                    style.innerHTML = \".ms-Spinner-root { display: none !important }\"\n",
       "                    self.el.appendChild(style)\n",
       "                }\n",
       "\n",
       "                var script = document.createElement('script')\n",
       "                script.onload = hideLoading\n",
       "                script.src = lib_url\n",
       "                this.el.appendChild(script)\n",
       "            }\n",
       "        });\n",
       "\n",
       "        return {\n",
       "            ValidateView\n",
       "        }\n",
       "    })\n",
       "} catch (e) {\n",
       "    console.log(\"create validation widget failed\", e)\n",
       "}"
      ],
      "text/plain": [
       "<IPython.core.display.Javascript object>"
      ]
     },
     "metadata": {},
     "output_type": "display_data"
    },
    {
     "data": {
      "text/html": [
       "<style>\n",
       "    @keyframes css-269 {\n",
       "        0% {\n",
       "            transform: rotate(0deg);\n",
       "        }\n",
       "\n",
       "        100% {\n",
       "            transform: rotate(360deg);\n",
       "        }\n",
       "    }\n",
       "    .ms-Spinner-root {\n",
       "        display: flex;\n",
       "        flex-direction: row;\n",
       "        align-items: center;\n",
       "        justify-content: center;\n",
       "    }\n",
       "\n",
       "    .ms-Spinner-circle {\n",
       "        box-sizing: border-box;\n",
       "        animation-name: css-269;\n",
       "        animation-duration: 1.3s;\n",
       "        animation-iteration-count: infinite;\n",
       "        animation-timing-function: cubic-bezier(0.53, 0.21, 0.29, 0.67);\n",
       "        width: 28px;\n",
       "        height: 28px;\n",
       "        border-radius: 50%;\n",
       "        border-width: 1.5px;\n",
       "        border-style: solid;\n",
       "        border-color: rgb(0, 120, 212) rgb(199, 224, 244) rgb(199, 224, 244);\n",
       "        border-image: initial;\n",
       "    }\n",
       "\n",
       "    .ms-Spinner-label {\n",
       "        font-family: \"Segoe UI\", \"Segoe UI Web (West European)\", \"Segoe UI\", -apple-system, BlinkMacSystemFont, Roboto, \"Helvetica Neue\", sans-serif;\n",
       "        -webkit-font-smoothing: antialiased;\n",
       "        font-size: 12px;\n",
       "        font-weight: 400;\n",
       "        color: rgb(0, 120, 212);\n",
       "        margin-top: 0px;\n",
       "        margin-right: 0px;\n",
       "        margin-bottom: 0px;\n",
       "        margin-left: 8px;\n",
       "        text-align: center;\n",
       "    }\n",
       "</style>\n",
       "<div class=\"ms-Spinner-root\">\n",
       "    <div class=\"ms-Spinner-circle\"></div>\n",
       "    <div class=\"ms-Spinner-label\">Loading...</div>\n",
       "</div>"
      ],
      "text/plain": [
       "<IPython.core.display.HTML object>"
      ]
     },
     "metadata": {},
     "output_type": "display_data"
    },
    {
     "data": {
      "application/vnd.jupyter.widget-view+json": {
       "model_id": "8cf1149c4ac04294997e6a18bc563b4d",
       "version_major": 2,
       "version_minor": 0
      },
      "text/plain": [
       "ValidateView(container_id='container_id_865513db-7470-4404-b5ff-fc9a6d650956_widget', env_json='{}', graph_jso…"
      ]
     },
     "metadata": {},
     "output_type": "display_data"
    },
    {
     "data": {
      "text/html": [
       "\n",
       "        <style>\n",
       "        #container_id_865513db-7470-4404-b5ff-fc9a6d650956_script svg.react-dag-editor-svg-container {\n",
       "            height: 800px;\n",
       "        }\n",
       "        </style>\n",
       "        <div id=\"container_id_865513db-7470-4404-b5ff-fc9a6d650956_script\"></div>\n",
       "        <script>\n",
       "            (function () {\n",
       "                if (!window._renderLock) {\n",
       "                    window._renderLock = {}\n",
       "                }\n",
       "                if (window._renderLock[\"865513db-7470-4404-b5ff-fc9a6d650956\"]) {\n",
       "                    return\n",
       "                }\n",
       "                window._renderLock[\"865513db-7470-4404-b5ff-fc9a6d650956\"] = \"script\"\n",
       "                console.log(\"load as script\", Date.now())\n",
       "                window.render_container_id=\"container_id_865513db-7470-4404-b5ff-fc9a6d650956_script\";\n",
       "                window.graph_json={\"pipeline\": {\"name\": \"Run_1381c5db-f1d7-4557-962e-6b9373246794\", \"data_references\": {\"images_animals_images_dataset\": {\"datastore\": \"azureml_globaldatasets\", \"path_on_datastore\": \"Images/Animals_Images_Dataset\"}}, \"steps\": {\"138671fd\": {\"inputs\": {\"Input_dataset\": {\"source\": \"images_animals_images_dataset\"}}, \"outputs\": {\"Output_image_directory\": {\"destination\": \"138671fd_Output_image_directory\"}}, \"module\": {\"id\": \"ee2a183c-7854-5702-8b3a-2877f03ea8f1\", \"version\": \"0.0.12\"}, \"validate\": {\"error\": [], \"module_id\": \"ee2a183c-7854-5702-8b3a-2877f03ea8f1\", \"namespace\": \"azureml\", \"module_name\": \"Convert to Image Directory\", \"module_version\": \"0.0.12\"}}, \"656ce05a\": {\"inputs\": {}, \"outputs\": {\"Output_image_transformation\": {\"destination\": \"656ce05a_Output_image_transformation\"}}, \"module\": {\"id\": \"4c5f1cff-489e-55c7-9ab3-213d8b8e891b\", \"version\": \"0.0.12\"}, \"validate\": {\"error\": [], \"module_id\": \"4c5f1cff-489e-55c7-9ab3-213d8b8e891b\", \"namespace\": \"azureml\", \"module_name\": \"Init Image Transformation\", \"module_version\": \"0.0.12\"}}, \"0964aa63\": {\"inputs\": {\"Input_image_directory\": {\"source\": \"138671fd_Output_image_directory\"}}, \"outputs\": {\"Output_image_directory1\": {\"destination\": \"0964aa63_Output_image_directory1\"}, \"Output_image_directory2\": {\"destination\": \"0964aa63_Output_image_directory2\"}}, \"module\": {\"id\": \"39a580e5-e7c5-5f4c-ade6-14792bbdfc62\", \"version\": \"0.0.12\"}, \"validate\": {\"error\": [], \"module_id\": \"39a580e5-e7c5-5f4c-ade6-14792bbdfc62\", \"namespace\": \"azureml\", \"module_name\": \"Split Image Directory\", \"module_version\": \"0.0.12\"}}, \"de36b066\": {\"inputs\": {\"Input_image_directory\": {\"source\": \"0964aa63_Output_image_directory1\"}}, \"outputs\": {\"Output_image_directory1\": {\"destination\": \"de36b066_Output_image_directory1\"}, \"Output_image_directory2\": {\"destination\": \"de36b066_Output_image_directory2\"}}, \"module\": {\"id\": \"39a580e5-e7c5-5f4c-ade6-14792bbdfc62\", \"version\": \"0.0.12\"}, \"validate\": {\"error\": [], \"module_id\": \"39a580e5-e7c5-5f4c-ade6-14792bbdfc62\", \"namespace\": \"azureml\", \"module_name\": \"Split Image Directory\", \"module_version\": \"0.0.12\"}}, \"b2dd6505\": {\"inputs\": {\"Input_image_directory\": {\"source\": \"de36b066_Output_image_directory1\"}, \"Input_image_transformation\": {\"source\": \"656ce05a_Output_image_transformation\"}}, \"outputs\": {\"Output_image_directory\": {\"destination\": \"b2dd6505_Output_image_directory\"}}, \"module\": {\"id\": \"d5f2d095-c476-5cf8-9c45-b01af588cf14\", \"version\": \"0.0.12\"}, \"validate\": {\"error\": [], \"module_id\": \"d5f2d095-c476-5cf8-9c45-b01af588cf14\", \"namespace\": \"azureml\", \"module_name\": \"Apply Image Transformation\", \"module_version\": \"0.0.12\"}}, \"72cda498\": {\"inputs\": {\"Input_image_directory\": {\"source\": \"de36b066_Output_image_directory2\"}, \"Input_image_transformation\": {\"source\": \"656ce05a_Output_image_transformation\"}}, \"outputs\": {\"Output_image_directory\": {\"destination\": \"72cda498_Output_image_directory\"}}, \"module\": {\"id\": \"d5f2d095-c476-5cf8-9c45-b01af588cf14\", \"version\": \"0.0.12\"}, \"validate\": {\"error\": [], \"module_id\": \"d5f2d095-c476-5cf8-9c45-b01af588cf14\", \"namespace\": \"azureml\", \"module_name\": \"Apply Image Transformation\", \"module_version\": \"0.0.12\"}}, \"0b4433b3\": {\"inputs\": {\"Input_image_directory\": {\"source\": \"0964aa63_Output_image_directory2\"}, \"Input_image_transformation\": {\"source\": \"656ce05a_Output_image_transformation\"}}, \"outputs\": {\"Output_image_directory\": {\"destination\": \"0b4433b3_Output_image_directory\"}}, \"module\": {\"id\": \"d5f2d095-c476-5cf8-9c45-b01af588cf14\", \"version\": \"0.0.12\"}, \"validate\": {\"error\": [], \"module_id\": \"d5f2d095-c476-5cf8-9c45-b01af588cf14\", \"namespace\": \"azureml\", \"module_name\": \"Apply Image Transformation\", \"module_version\": \"0.0.12\"}}, \"ef222760\": {\"inputs\": {\"Untrained_model\": {\"source\": \"d03e9657_Untrained_model\"}, \"Training_dataset\": {\"source\": \"b2dd6505_Output_image_directory\"}, \"Validation_dataset\": {\"source\": \"72cda498_Output_image_directory\"}}, \"outputs\": {\"Trained_model\": {\"destination\": \"ef222760_Trained_model\"}}, \"module\": {\"id\": \"e31ba72c-7a14-5a86-ae9c-7f64945e459d\", \"version\": \"0.0.14\"}, \"validate\": {\"error\": [], \"module_id\": \"e31ba72c-7a14-5a86-ae9c-7f64945e459d\", \"namespace\": \"azureml\", \"module_name\": \"Train PyTorch Model\", \"module_version\": \"0.0.14\"}}, \"6677c6ef\": {\"inputs\": {\"Dataset\": {\"source\": \"0b4433b3_Output_image_directory\"}, \"Trained_model\": {\"source\": \"ef222760_Trained_model\"}}, \"outputs\": {\"Scored_dataset\": {\"destination\": \"6677c6ef_Scored_dataset\"}}, \"module\": {\"id\": \"c545a4a0-1cbb-55e3-acab-217964b796ac\", \"version\": \"0.0.11\"}, \"validate\": {\"error\": [], \"module_id\": \"c545a4a0-1cbb-55e3-acab-217964b796ac\", \"namespace\": \"azureml\", \"module_name\": \"Score Image Model\", \"module_version\": \"0.0.11\"}}, \"d03e9657\": {\"inputs\": {}, \"outputs\": {\"Untrained_model\": {\"destination\": \"d03e9657_Untrained_model\"}}, \"module\": {\"id\": \"8f372eb0-929e-52d2-9368-4743ccd6e5d1\", \"version\": \"0.0.14\"}, \"validate\": {\"error\": [], \"module_id\": \"8f372eb0-929e-52d2-9368-4743ccd6e5d1\", \"namespace\": \"azureml\", \"module_name\": \"DenseNet\", \"module_version\": \"0.0.14\"}}, \"64daa90d\": {\"inputs\": {\"Scored_dataset\": {\"source\": \"6677c6ef_Scored_dataset\"}}, \"outputs\": {}, \"module\": {\"id\": \"c14f0777-b0be-5716-afac-8b876ce8dd9e\", \"version\": \"0.0.131\"}, \"validate\": {\"error\": [], \"module_id\": \"c14f0777-b0be-5716-afac-8b876ce8dd9e\", \"namespace\": \"azureml\", \"module_name\": \"Evaluate Model\", \"module_version\": \"0.0.131\"}}}}, \"modules\": [{\"module_id\": \"39a580e5-e7c5-5f4c-ade6-14792bbdfc62\", \"version\": \"0.0.12\", \"name\": \"Split Image Directory\", \"namespace\": \"azureml\", \"structured_interface\": {\"inputs\": [{\"name\": \"Input_image_directory\", \"label\": \"Input image directory\", \"description\": \"Input image directory\", \"data_type_ids_list\": [\"ImageDirectory\"]}], \"outputs\": [{\"name\": \"Output_image_directory1\", \"label\": \"Output image directory1\", \"description\": \"First output image directory\", \"data_type_id\": \"ImageDirectory\"}, {\"name\": \"Output_image_directory2\", \"label\": \"Output image directory2\", \"description\": \"Second output image directory\", \"data_type_id\": \"ImageDirectory\"}]}}, {\"module_id\": \"4c5f1cff-489e-55c7-9ab3-213d8b8e891b\", \"version\": \"0.0.12\", \"name\": \"Init Image Transformation\", \"namespace\": \"azureml\", \"structured_interface\": {\"inputs\": [], \"outputs\": [{\"name\": \"Output_image_transformation\", \"label\": \"Output image transformation\", \"description\": \"Output image transformation\", \"data_type_id\": \"TransformationDirectory\"}]}}, {\"module_id\": \"8f372eb0-929e-52d2-9368-4743ccd6e5d1\", \"version\": \"0.0.14\", \"name\": \"DenseNet\", \"namespace\": \"azureml\", \"structured_interface\": {\"inputs\": [], \"outputs\": [{\"name\": \"Untrained_model\", \"label\": \"Untrained model\", \"description\": \"Untrained densenet model path\", \"data_type_id\": \"UntrainedModelDirectory\"}]}}, {\"module_id\": \"c14f0777-b0be-5716-afac-8b876ce8dd9e\", \"version\": \"0.0.131\", \"name\": \"Evaluate Model\", \"namespace\": \"azureml\", \"structured_interface\": {\"inputs\": [{\"name\": \"Scored_dataset\", \"label\": \"Scored dataset\", \"description\": \"Scored dataset\", \"data_type_ids_list\": [\"DataFrameDirectory\"]}, {\"name\": \"Scored_dataset_to_compare\", \"label\": \"Scored dataset to compare\", \"description\": \"Scored dataset to compare (optional)\", \"data_type_ids_list\": [\"DataFrameDirectory\"]}], \"outputs\": [{\"name\": \"Evaluation_results\", \"label\": \"Evaluation results\", \"description\": \"Data evaluation result\", \"data_type_id\": \"DataFrameDirectory\"}]}}, {\"module_id\": \"c545a4a0-1cbb-55e3-acab-217964b796ac\", \"version\": \"0.0.11\", \"name\": \"Score Image Model\", \"namespace\": \"azureml\", \"structured_interface\": {\"inputs\": [{\"name\": \"Trained_model\", \"label\": \"Trained model\", \"description\": \"Trained predictive model\", \"data_type_ids_list\": [\"ModelDirectory\"]}, {\"name\": \"Dataset\", \"label\": \"Dataset\", \"description\": \"Input data to score\", \"data_type_ids_list\": [\"ImageDirectory\"]}], \"outputs\": [{\"name\": \"Scored_dataset\", \"label\": \"Scored dataset\", \"description\": \"Dataset with obtained scores\", \"data_type_id\": \"DataFrameDirectory\"}]}}, {\"module_id\": \"d5f2d095-c476-5cf8-9c45-b01af588cf14\", \"version\": \"0.0.12\", \"name\": \"Apply Image Transformation\", \"namespace\": \"azureml\", \"structured_interface\": {\"inputs\": [{\"name\": \"Input_image_transformation\", \"label\": \"Input image transformation\", \"description\": \"Input image transformation\", \"data_type_ids_list\": [\"TransformationDirectory\"]}, {\"name\": \"Input_image_directory\", \"label\": \"Input image directory\", \"description\": \"Input image directory\", \"data_type_ids_list\": [\"ImageDirectory\"]}], \"outputs\": [{\"name\": \"Output_image_directory\", \"label\": \"Output image directory\", \"description\": \"Output image directory\", \"data_type_id\": \"ImageDirectory\"}]}}, {\"module_id\": \"e31ba72c-7a14-5a86-ae9c-7f64945e459d\", \"version\": \"0.0.14\", \"name\": \"Train PyTorch Model\", \"namespace\": \"azureml\", \"structured_interface\": {\"inputs\": [{\"name\": \"Untrained_model\", \"label\": \"Untrained model\", \"description\": \"Untrained model\", \"data_type_ids_list\": [\"UntrainedModelDirectory\"]}, {\"name\": \"Training_dataset\", \"label\": \"Training dataset\", \"description\": \"Input dataset for training\", \"data_type_ids_list\": [\"ImageDirectory\"]}, {\"name\": \"Validation_dataset\", \"label\": \"Validation dataset\", \"description\": \"Input dataset for validation\", \"data_type_ids_list\": [\"ImageDirectory\"]}], \"outputs\": [{\"name\": \"Trained_model\", \"label\": \"Trained model\", \"description\": \"Trained model\", \"data_type_id\": \"ModelDirectory\"}]}}, {\"module_id\": \"ee2a183c-7854-5702-8b3a-2877f03ea8f1\", \"version\": \"0.0.12\", \"name\": \"Convert to Image Directory\", \"namespace\": \"azureml\", \"structured_interface\": {\"inputs\": [{\"name\": \"Input_dataset\", \"label\": \"Input dataset\", \"description\": \"Input dataset\", \"data_type_ids_list\": [\"AnyDirectory\", \"ZipFile\"]}], \"outputs\": [{\"name\": \"Output_image_directory\", \"label\": \"Output image directory\", \"description\": \"Output image directory.\", \"data_type_id\": \"ImageDirectory\"}]}}], \"datasources\": [{\"data_reference_name\": \"images_animals_images_dataset\", \"path_on_datastore\": \"Images/Animals_Images_Dataset\", \"name\": \"Animal Images Dataset\", \"datastore\": \"azureml_globaldatasets\", \"nodeId\": \"20d43e66-7ce7-3ad9-a03a-88e4fe6e03c4\"}]};\n",
       "                window.graph_json_to_compare=null;\n",
       "                window.profiling_json = null;\n",
       "                window.env_json={};\n",
       "                window.before_script = performance.now();\n",
       "                var script = document.createElement('script')\n",
       "                script.onload = hideLoading\n",
       "                script.src = \"https://yucongj-test.azureedge.net/libs/test/index.js?t=1597828317\"\n",
       "                document.getElementById(\"container_id_865513db-7470-4404-b5ff-fc9a6d650956_script\").appendChild(script)\n",
       "\n",
       "                function hideLoading () {\n",
       "                    var style = document.createElement('style')\n",
       "                    style.innerHTML = \".ms-Spinner-root { display: none !important }\"\n",
       "                    document.getElementById(\"container_id_865513db-7470-4404-b5ff-fc9a6d650956_script\").appendChild(style)\n",
       "                }\n",
       "            })()\n",
       "        </script>\n",
       "        \n",
       "        "
      ],
      "text/plain": [
       "<IPython.core.display.HTML object>"
      ]
     },
     "metadata": {},
     "output_type": "display_data"
    }
   ],
   "source": [
    "simple_run.visualize()"
   ]
  },
  {
   "cell_type": "code",
   "execution_count": null,
   "metadata": {},
   "outputs": [],
   "source": [
    "simple_run.profile()"
   ]
  },
  {
   "cell_type": "code",
   "execution_count": null,
   "metadata": {},
   "outputs": [],
   "source": [
    "simple_run.wait_for_completion()"
   ]
  },
  {
   "cell_type": "code",
   "execution_count": null,
   "metadata": {},
   "outputs": [],
   "source": [
    "run_with_subpipeline = PipelineRun(experiment, '08f952f8-8017-473a-b23f-eb595dd9b4a4')"
   ]
  },
  {
   "cell_type": "code",
   "execution_count": null,
   "metadata": {},
   "outputs": [],
   "source": [
    "run_with_subpipeline.visualize()"
   ]
  },
  {
   "cell_type": "code",
   "execution_count": null,
   "metadata": {},
   "outputs": [],
   "source": []
  }
 ],
 "metadata": {
  "kernelspec": {
   "display_name": "Python (aml)",
   "language": "python",
   "name": "aml"
  },
  "language_info": {
   "codemirror_mode": {
    "name": "ipython",
    "version": 3
   },
   "file_extension": ".py",
   "mimetype": "text/x-python",
   "name": "python",
   "nbconvert_exporter": "python",
   "pygments_lexer": "ipython3",
   "version": "3.6.2"
  }
 },
 "nbformat": 4,
 "nbformat_minor": 4
}
